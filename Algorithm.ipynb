{
  "nbformat": 4,
  "nbformat_minor": 0,
  "metadata": {
    "colab": {
      "provenance": [],
      "collapsed_sections": [
        "sbAcFzjZ-Vdw",
        "AKZ1mOjr0_vm",
        "Mk_0wP1A1Cd0",
        "gaK1nny4jvyZ",
        "vHBByFjH4nN5",
        "Yd4QA56G-eRy",
        "4bgOSAUf_jUi",
        "yb1PlECt-bg9",
        "FJ4v0RMGRvUO",
        "8-FWoK4m-Zoa",
        "enlvor78Wa7v",
        "29Bn2Bhh-Cmu",
        "yUTElorx-GIx",
        "AtavxGAYsd4_",
        "V4xZG2xHxXQg",
        "PYizi_ZUyets",
        "EUeV-kPd05uS",
        "uhXSAQ2P4M5N",
        "h_gjcPJF5Zi8",
        "Mz-QK-hr6grx",
        "8KC8kLPj9p9j",
        "_X0X35zlEOPQ",
        "fGEroBGbETmf",
        "mVgRPcPzOJ9F",
        "4bQ2AHL9OwyR",
        "NUyJ4Poqtw3X",
        "KLb6j7Abt2SO",
        "lIEkn9kc1R_A",
        "e1zaQS8452zI",
        "dmdaCFCA7crs",
        "-BuMXWIz7hrP",
        "CXOZdDBZ6ruF",
        "HL1cUEme6urK",
        "f5L5IKjrqTKi",
        "Xw7oO1an8D-h",
        "MLzf4aZC8KJX",
        "UsgWdI6OFtGw",
        "ceJBm7nYdG5F",
        "srcE6Vm0f4ik",
        "Jkz14pJms5KM",
        "bHQfbwSKs9o7",
        "-nqVFUwVt1uO",
        "gxwe1CiMt7n0",
        "-EvBHwUhCS4C",
        "dw2lLj08CXUM",
        "6WHfweRmQfF_",
        "detADc1BkEPX",
        "ZuyNJxbskOhs",
        "pWKHmxuWtbGT",
        "z7ARkpIg639H",
        "sz_NxfXvFTl8",
        "BnIzuEOaCrpK",
        "YPL3r5cOCvyi",
        "RVF3X5kvJIeo",
        "ZTCsTd5eJb06",
        "hpAvc3coLug3",
        "6GnDcegZMeyt",
        "8pPGsqSPMgUX",
        "P8poqhPnTINz",
        "cKHxvIPCH07C",
        "K9U5IrOEH_VN",
        "Ao0cAElnKzCu",
        "ZWy9CMgd8zMN",
        "U3uV1bUm87ye",
        "C2FQfRzDBpaI",
        "C2tPCihJDOHy",
        "qaqRYlwjIhbJ",
        "cYvqRUbiIhTY",
        "zZeENSveVFbk",
        "m4DhisTNpGxz",
        "xTPxgWHhpgoQ",
        "KNS7GqOw2OIN",
        "WlfqdLxy2R4W",
        "cOK2ZTNO2sQX",
        "Kl3K-NNcBHCU",
        "OOQERilCBgyO",
        "FwkpM9z9JFdL",
        "Fac1DkcCKMNV",
        "ZCxQspPVU9KL",
        "89WU-DvfVQGb",
        "l2sesiP1WrZC",
        "U1zoolMBXe5F",
        "B-9l7CefXjH4",
        "bEePktctX7Gx",
        "_iZMvIhpYX9m",
        "ODlpBn7KZSlI",
        "Eote_MDYCP1Z",
        "gljKJLgAJ6iH",
        "oFIEFcPOKJPS",
        "zaPGwkbOLs5d",
        "hXPEBf5XL3_g",
        "GetkO-RaUSI4",
        "zUExZTZRUZgw",
        "jPkp7FjCgLgs",
        "k8SVI9xfcDH0",
        "vC7CfrKNL7AD",
        "prtxkzi_WCg5",
        "mqsDrnHxZaE_",
        "C5qvcdTwdmTQ",
        "u8le3IOCd9A4",
        "7t6BHQpzk9kI",
        "7_MwY3FXxPzR",
        "R3IaEgD-1f6C",
        "9aZ6uH811mmI",
        "wmn8Go6d36At",
        "YjNuUqZp3_cE",
        "vGLk2Klx4-Sa",
        "JJwrS5si5EwL",
        "osdZNMsQPc6_",
        "lpgjf5ORT54j",
        "BWTyg72qUKZH",
        "yOyDRqHUpSJc",
        "M0y7vIE_pVBi",
        "oy4d3k9J1kZM",
        "2P849g9W16EM",
        "BSA6zz213c-z",
        "lWHEtiLL3-tt",
        "ERVM9PExBtfp",
        "1XNo6YpSByIz",
        "30QUxli6ER2H",
        "LChVvXmxEUZJ",
        "hXAfLSNJG6kx",
        "_lreljijHAIx",
        "yZ7mHucTJ74R",
        "etYWNoW_L15a",
        "76bGmReSR-8N",
        "OrdexIN4SDNI",
        "uxLuir3qq60R",
        "uucBKYoDrAkR",
        "_lvtMWal7STt",
        "FSpTep0VImFN",
        "r620cSSnIqmz",
        "w8u63CwkN5Vn",
        "tFxaXXyQuDWd",
        "lr_p603KuEw1",
        "ZBubfVttOvfi",
        "D_bSO3jTO0Bq",
        "iqJ7oCVkP3mo",
        "nVzUSa67c8WE",
        "cY_GsCiXfweK",
        "6Bwa0uuBiyiy",
        "okIBW3rYi4k_",
        "0f12utUak3OX",
        "etRQbOtyxRBL",
        "397G4GPSxVId",
        "oFjlvfr-yPT7",
        "xzSMpOAD4x8n",
        "3O61-Ns285BB",
        "48bgIp_k9XvJ",
        "upkOX7QPEboJ",
        "TJnEyeEyEehT",
        "FLDxfGXyFm-y",
        "Ihdb9U-2FusB",
        "Ni1EOjD0XZgd",
        "6RfNFR01OtDj",
        "J3HRfV4-bZAr",
        "fnXcFxaFVC44",
        "dQEfU4h8VHES",
        "GG9pJ-4ettMR",
        "sVCjkoBZtu7c",
        "8nfYO1xkPXnY",
        "vMtYKDwKPcXs",
        "wd5gtWQAS2xH",
        "46CQp-fMTl2H",
        "BzlGbM4ch-Sq",
        "AQOr-KIuiCd1",
        "ZHJsLn6EiJqQ",
        "dIkZfA-zly85",
        "XQyXgWn-z4eC",
        "HTL5Y81Ao8IE",
        "JK3MMyTsAWbs",
        "taeyazb_AkHf",
        "xpg6l7ng-N3T",
        "xZusc733-MMz",
        "QU0KBNbHvVo4",
        "E_iVx38JveQH",
        "jyufMzCeLF_h",
        "FsM1tZIOLQui",
        "bXUxMTKqRzW2",
        "Wa-ttnAUpANM",
        "NLEJkf5hpDGl"
      ],
      "authorship_tag": "ABX9TyOCDZzVBAjoRwpqclyEG+mg",
      "include_colab_link": true
    },
    "kernelspec": {
      "name": "python3",
      "display_name": "Python 3"
    },
    "language_info": {
      "name": "python"
    }
  },
  "cells": [
    {
      "cell_type": "markdown",
      "metadata": {
        "id": "view-in-github",
        "colab_type": "text"
      },
      "source": [
        "<a href=\"https://colab.research.google.com/github/CynicDog/algorithm/blob/main/Algorithm.ipynb\" target=\"_parent\"><img src=\"https://colab.research.google.com/assets/colab-badge.svg\" alt=\"Open In Colab\"/></a>"
      ]
    },
    {
      "cell_type": "markdown",
      "source": [
        "# Dependencies"
      ],
      "metadata": {
        "id": "sbAcFzjZ-Vdw"
      }
    },
    {
      "cell_type": "code",
      "source": [
        "import re\n",
        "import sys\n",
        "import timeit\n",
        "import random\n",
        "import collections\n",
        "from typing import List, Optional\n",
        "\n",
        "data = [random.randint(1, 1_000) for _ in range(1_000)]"
      ],
      "metadata": {
        "id": "7SRfTX_C-WrW"
      },
      "execution_count": 1,
      "outputs": []
    },
    {
      "cell_type": "code",
      "source": [
        "class ListNode:\n",
        "    def __init__(self, val=0, next=None):\n",
        "        self.val = val\n",
        "        self.next = next"
      ],
      "metadata": {
        "id": "SpbxQWD6dNWX"
      },
      "execution_count": 2,
      "outputs": []
    },
    {
      "cell_type": "code",
      "source": [
        "class TreeNode:\n",
        "    def __init__(self, val=0, left=None, right=None):\n",
        "        self.val = val\n",
        "        self.left = left\n",
        "        self.right = right"
      ],
      "metadata": {
        "id": "dRgX8uDxdLLD"
      },
      "execution_count": 3,
      "outputs": []
    },
    {
      "cell_type": "markdown",
      "source": [
        "# Sorting algorithms"
      ],
      "metadata": {
        "id": "AKZ1mOjr0_vm"
      }
    },
    {
      "cell_type": "markdown",
      "source": [
        "## Bubble sort"
      ],
      "metadata": {
        "id": "Mk_0wP1A1Cd0"
      }
    },
    {
      "cell_type": "markdown",
      "source": [
        "* Explanation:\n",
        "\n",
        "    * Bubble Sort works by repeatedly stepping through the list, comparing adjacent elements, and swapping them if they are in the wrong order.\n",
        "    * It starts from the beginning of the list and compares adjacent pairs of elements. If the elements are out of order (i.e., the current element is greater than the next one), it swaps them.\n",
        "    * This process continues until no more swaps are needed, indicating that the list is sorted.\n",
        "\n",
        "* Time Complexity:\n",
        "    * In the worst-case scenario, when the input list is sorted in reverse order, Bubble Sort has a time complexity of O(n^2), where n is the number of elements in the array.\n",
        "    * In the best-case scenario, when the input list is already sorted, Bubble Sort has a time complexity of O(n) because it performs only one pass without any swaps.\n",
        "    * On average, Bubble Sort has a time complexity of O(n^2)."
      ],
      "metadata": {
        "id": "f3RMGTE29FRX"
      }
    },
    {
      "cell_type": "markdown",
      "source": [
        "### Solution"
      ],
      "metadata": {
        "id": "gaK1nny4jvyZ"
      }
    },
    {
      "cell_type": "code",
      "source": [
        "def bubble(a):\n",
        "    for i in range(0, len(a) - 1):\n",
        "        for j in range(0, len(a) - 1):\n",
        "            if a[j] > a[j + 1]:\n",
        "                a[j], a[j + 1] = a[j + 1], a[j]\n",
        "\n",
        "    return a\n",
        "\n",
        "bubble([1, 3, 2, 5, 4])"
      ],
      "metadata": {
        "colab": {
          "base_uri": "https://localhost:8080/"
        },
        "id": "FJ3OGfQC1E3M",
        "outputId": "58c25892-04ac-49fd-8673-6dcb299d7e67"
      },
      "execution_count": null,
      "outputs": [
        {
          "output_type": "execute_result",
          "data": {
            "text/plain": [
              "[1, 2, 3, 4, 5]"
            ]
          },
          "metadata": {},
          "execution_count": 31
        }
      ]
    },
    {
      "cell_type": "markdown",
      "source": [
        "## Insertion sort"
      ],
      "metadata": {
        "id": "vHBByFjH4nN5"
      }
    },
    {
      "cell_type": "markdown",
      "source": [
        "- Explanation:\n",
        "It starts with the second element (index 1) and compares it to the elements before it, moving it to the correct position within the sorted part of the array.\n",
        "\n",
        "- Time Complexity:\n",
        "\n",
        "    * In the worst-case scenario, when the array is sorted in reverse order, it has a time complexity of O(n^2), where n is the number of elements in the array.\n",
        "    * In the best-case scenario, when the array is already sorted, it has a time complexity of O(n).\n",
        "    * On average, it has an expected time complexity of O(n^2).\n"
      ],
      "metadata": {
        "id": "9QwIP8Ax6brh"
      }
    },
    {
      "cell_type": "markdown",
      "source": [
        "### Solution"
      ],
      "metadata": {
        "id": "Yd4QA56G-eRy"
      }
    },
    {
      "cell_type": "code",
      "source": [
        "def insertion(a):\n",
        "\n",
        "    for i in range(1, len(a)):\n",
        "        key = a[i]\n",
        "        j = i - 1\n",
        "\n",
        "        while (j >= 0) and (a[j] > key):\n",
        "            a[j + 1] = a[j]\n",
        "            j -= 1\n",
        "\n",
        "        a[j + 1] = key\n",
        "\n",
        "    return a\n",
        "\n",
        "insertion([1, 3, 2, 5, 4])"
      ],
      "metadata": {
        "colab": {
          "base_uri": "https://localhost:8080/"
        },
        "id": "D6RoknPY4qiq",
        "outputId": "26150b1e-49d3-41f7-c689-5bcd73e2ab66"
      },
      "execution_count": null,
      "outputs": [
        {
          "output_type": "execute_result",
          "data": {
            "text/plain": [
              "[1, 2, 3, 4, 5]"
            ]
          },
          "metadata": {},
          "execution_count": 34
        }
      ]
    },
    {
      "cell_type": "markdown",
      "source": [
        "## Quick sort"
      ],
      "metadata": {
        "id": "4bgOSAUf_jUi"
      }
    },
    {
      "cell_type": "markdown",
      "source": [
        "* Explanation:\n",
        "\n",
        "    * Quick Sort is a popular sorting algorithm that follows the divide-and-conquer approach.\n",
        "    * The main function, quick(a, low, high), takes an array a, a lower index low, and an upper index high as parameters. These indices define the portion of the array that needs to be sorted.\n",
        "    * Inside the quick function, there's a nested partition function responsible for selecting a pivot element and partitioning the array into two subarrays: elements less than the pivot and elements greater than the pivot.\n",
        "    * The pivot is typically chosen as the last element in the current subarray (a[high]), and the partition function rearranges the elements such that all elements less than the pivot are on the left side, and all elements greater than the pivot are on the right side.\n",
        "    * After partitioning, the function recursively calls itself on the two subarrays, one with elements less than the pivot (quick(a, low, pivot - 1)) and the other with elements greater than the pivot (quick(a, pivot + 1, high)).\n",
        "    * The process continues until the subarrays become smaller and eventually sorted, and the entire array becomes sorted.\n",
        "\n",
        "* Time Complexity:\n",
        "\n",
        "    * On average and in the best-case scenario, Quick Sort has an expected time complexity of O(n log n), making it one of the most efficient sorting algorithms for general use.\n",
        "    * In the worst-case scenario, Quick Sort can have a time complexity of O(n^2), but this is relatively rare and can be mitigated through good pivot selection strategies, such as choosing the median-of-three.\n",
        "    * Quick Sort is often preferred for sorting large datasets due to its average-case efficiency and relatively low overhead compared to some other sorting algorithms like Merge Sort."
      ],
      "metadata": {
        "id": "lpIwhewLC5KV"
      }
    },
    {
      "cell_type": "markdown",
      "source": [
        "### Solution"
      ],
      "metadata": {
        "id": "yb1PlECt-bg9"
      }
    },
    {
      "cell_type": "code",
      "source": [
        "def quick(a, low, high):\n",
        "\n",
        "    def partition(low, high):\n",
        "        pivot = a[high]\n",
        "\n",
        "        left = low\n",
        "        for right in range(low, high):\n",
        "            if a[right] < pivot:\n",
        "                a[left], a[right] = a[right], a[left]\n",
        "                left += 1\n",
        "\n",
        "        a[left], a[high] = a[high], a[left]\n",
        "\n",
        "        return left\n",
        "\n",
        "    if low < high:\n",
        "        pivot = partition(low, high)\n",
        "        quick(a, low, pivot - 1)\n",
        "        quick(a, pivot + 1, high)\n",
        "\n",
        "    return a\n",
        "\n",
        "a = [1, 3, 2, 4, 6, 5]\n",
        "quick(a, 0, len(a) - 1)"
      ],
      "metadata": {
        "colab": {
          "base_uri": "https://localhost:8080/"
        },
        "id": "d_6ECNgv_rpV",
        "outputId": "bf0060ef-b994-48ef-d42e-d7f9e53e2df2"
      },
      "execution_count": null,
      "outputs": [
        {
          "output_type": "execute_result",
          "data": {
            "text/plain": [
              "[1, 2, 3, 4, 5, 6]"
            ]
          },
          "metadata": {},
          "execution_count": 33
        }
      ]
    },
    {
      "cell_type": "markdown",
      "source": [
        "## Merge sort"
      ],
      "metadata": {
        "id": "FJ4v0RMGRvUO"
      }
    },
    {
      "cell_type": "markdown",
      "source": [
        "* Explanation\n",
        "\n",
        "    * Merge Sort is a widely used sorting algorithm that follows the divide-and-conquer approach to sorting an array:\n",
        "\n",
        "    * Divide: The input array is divided into two halves recursively until each subarray contains one or zero elements (which are inherently sorted).\n",
        "\n",
        "    * Conquer: Pairs of subarrays are merged together in a sorted manner. This merging process continues until we have a single sorted array.\n",
        "\n",
        "* Time Complexity\n",
        "    * Merge Sort has a consistent and predictable time complexity of O(n log n) in all cases, including the worst-case, average-case, and best-case scenarios."
      ],
      "metadata": {
        "id": "mVN2yqFDTRTA"
      }
    },
    {
      "cell_type": "markdown",
      "source": [
        "### Solution"
      ],
      "metadata": {
        "id": "8-FWoK4m-Zoa"
      }
    },
    {
      "cell_type": "code",
      "source": [
        "def conquer(first, second):\n",
        "    result = []\n",
        "    idx1, idx2 = 0, 0\n",
        "    len1, len2 = len(first), len(second)\n",
        "\n",
        "    while (idx1 < len1) and (idx2 < len2):\n",
        "        if first[idx1] < second[idx2]:\n",
        "            result.append(first[idx1])\n",
        "            idx1 += 1\n",
        "        else:\n",
        "            result.append(second[idx2])\n",
        "            idx2 += 1\n",
        "\n",
        "    while idx1 < len1:\n",
        "        result.append(first[idx1])\n",
        "        idx1 += 1\n",
        "\n",
        "    while idx2 < len2:\n",
        "        result.append(second[idx2])\n",
        "        idx2 += 1\n",
        "\n",
        "    return result\n",
        "\n",
        "def divide(a):\n",
        "\n",
        "    if len(a) <= 1:\n",
        "        return a\n",
        "\n",
        "    mid = len(a) // 2\n",
        "    first = a[:mid]\n",
        "    second = a[mid:]\n",
        "\n",
        "    first = divide(first)\n",
        "    second = divide(second)\n",
        "\n",
        "    return conquer(first, second)\n",
        "\n",
        "a = [2, 5, 7, 1, 9, 3, 8, 11, 4, 10]\n",
        "divide(a)"
      ],
      "metadata": {
        "colab": {
          "base_uri": "https://localhost:8080/"
        },
        "id": "s9Qfog-LSy92",
        "outputId": "4a789d63-6b85-4e1d-def6-d1460a2ec655"
      },
      "execution_count": null,
      "outputs": [
        {
          "output_type": "execute_result",
          "data": {
            "text/plain": [
              "[1, 2, 3, 4, 5, 7, 8, 9, 10, 11]"
            ]
          },
          "metadata": {},
          "execution_count": 3
        }
      ]
    },
    {
      "cell_type": "markdown",
      "source": [
        "## Tim sort"
      ],
      "metadata": {
        "id": "enlvor78Wa7v"
      }
    },
    {
      "cell_type": "markdown",
      "source": [
        "* Explanation\n",
        "\n",
        "    * Tim Sort is a hybrid sorting algorithm derived from Merge Sort and Insertion Sort.\n",
        "    * It first divides the input array into small chunks (called \"runs\") and individually sorts these runs using Insertion Sort.\n",
        "    * Then, it repeatedly merges these sorted runs, taking advantage of Merge Sort's efficient merging strategy.\n",
        "    * Tim Sort is designed to perform well on many types of real-world data, including partially sorted data and data with runs or patterns.\n",
        "\n",
        "* Time Complexity\n",
        "\n",
        "    * Best Case: O(n)\n",
        "    * Average Case: O(n log n)\n",
        "    * Worst Case: O(n log n)"
      ],
      "metadata": {
        "id": "3k8_JPsC8FEp"
      }
    },
    {
      "cell_type": "markdown",
      "source": [
        "### Solution"
      ],
      "metadata": {
        "id": "29Bn2Bhh-Cmu"
      }
    },
    {
      "cell_type": "code",
      "source": [
        "class Solution:\n",
        "\n",
        "    minRun: int = 32;\n",
        "\n",
        "    def __init__(self, minRun):\n",
        "        self.minRun = minRun;\n",
        "\n",
        "    def insertion(self, A, start, end):\n",
        "\n",
        "        for i in range(start + 1, end + 1):\n",
        "            key = A[i]\n",
        "            j = i - 1\n",
        "\n",
        "            while j >= start and A[j] > key:\n",
        "                A[j + 1] = A[j]\n",
        "                j -= 1\n",
        "\n",
        "            A[j + 1] = key\n",
        "\n",
        "        return A\n",
        "\n",
        "    def merge(self, A, start, mid, end):\n",
        "\n",
        "        first, last = A[start : mid + 1], A[mid + 1 : end + 1]\n",
        "        len1, len2 = len(first), len(last)\n",
        "\n",
        "        idx1, idx2 = 0, 0\n",
        "        idx = start\n",
        "\n",
        "        while idx1 < len1 and idx2 < len2:\n",
        "            if first[idx1] < last[idx2]:\n",
        "                A[idx] = first[idx1]\n",
        "                idx1 += 1\n",
        "            else:\n",
        "                A[idx] = last[idx2]\n",
        "                idx2 += 1\n",
        "\n",
        "            idx += 1\n",
        "\n",
        "        while idx1 < len1:\n",
        "            A[idx] = first[idx1]\n",
        "            idx1 += 1\n",
        "            idx += 1\n",
        "\n",
        "        while idx2 < len2:\n",
        "            A[idx] = last[idx2]\n",
        "            idx2 += 1\n",
        "            idx += 1\n",
        "\n",
        "        return A\n",
        "\n",
        "    def timSort(self, A):\n",
        "\n",
        "        n = len(A)\n",
        "\n",
        "        for start in range(0, n, self.minRun):\n",
        "\n",
        "            end = min(n - 1, start + self.minRun - 1)\n",
        "            A = self.insertion(A, start, end)\n",
        "\n",
        "        cur_size = self.minRun\n",
        "\n",
        "        while cur_size < n:\n",
        "\n",
        "            for start in range(0, n, cur_size * 2):\n",
        "                mid = min(n - 1, start + cur_size - 1)\n",
        "                end = min(n - 1, mid + cur_size)\n",
        "\n",
        "\n",
        "                A = self.merge(A, start, mid, end)\n",
        "\n",
        "            cur_size *= 2\n",
        "\n",
        "        return A"
      ],
      "metadata": {
        "id": "pQ9N0EARWdbZ"
      },
      "execution_count": null,
      "outputs": []
    },
    {
      "cell_type": "markdown",
      "source": [
        "### Benchmark"
      ],
      "metadata": {
        "id": "yUTElorx-GIx"
      }
    },
    {
      "cell_type": "code",
      "source": [
        "run_sizes = [8, 32, 128, 512, 4096, 16384]\n",
        "\n",
        "for run_size in run_sizes:\n",
        "    solution = Solution(run_size)\n",
        "\n",
        "    def run_timSort():\n",
        "        return solution.timSort(data)\n",
        "\n",
        "    execution_time = timeit.timeit(run_timSort, number = 1000)\n",
        "    print(f\"Run Size {run_size} - Execution Time: {execution_time} seconds\")"
      ],
      "metadata": {
        "colab": {
          "base_uri": "https://localhost:8080/"
        },
        "id": "wbo8z9xP9ce3",
        "outputId": "7c55a842-c801-4f59-80cf-1dde00ef31a9"
      },
      "execution_count": null,
      "outputs": [
        {
          "output_type": "stream",
          "name": "stdout",
          "text": [
            "Run Size 8 - Execution Time: 0.9493175999996311 seconds\n",
            "Run Size 32 - Execution Time: 0.6510790540014568 seconds\n",
            "Run Size 128 - Execution Time: 0.43770793299700017 seconds\n",
            "Run Size 512 - Execution Time: 0.20911728200007929 seconds\n",
            "Run Size 4096 - Execution Time: 0.12507283900049515 seconds\n",
            "Run Size 16384 - Execution Time: 0.11072638100085896 seconds\n"
          ]
        }
      ]
    },
    {
      "cell_type": "markdown",
      "source": [
        "# Leetcode"
      ],
      "metadata": {
        "id": "zPMEJdjV057f"
      }
    },
    {
      "cell_type": "markdown",
      "source": [
        "## Two Sum\n",
        "https://leetcode.com/problems/two-sum/description/"
      ],
      "metadata": {
        "id": "AtavxGAYsd4_"
      }
    },
    {
      "cell_type": "markdown",
      "source": [
        "### Solution - 1 (Slicing)\n",
        "\n",
        "The twoSum method takes an array nums and a target number target. It loops through each element in nums and checks if the complement of the current element (i.e., target - cur) exists in the remaining part of the array. If found, it returns the indices of the two numbers that add up to the target. This approach has a time complexity of O(n ^ 2)."
      ],
      "metadata": {
        "id": "V4xZG2xHxXQg"
      }
    },
    {
      "cell_type": "code",
      "source": [
        "class Solution:\n",
        "    def twoSum(self, nums: List[int], target: int) -> List[int]:\n",
        "\n",
        "        for i, cur in enumerate(nums):\n",
        "            complement = target - cur\n",
        "\n",
        "            if complement in nums[i + 1:]:\n",
        "                return [i, nums[i + 1:].index(complement) + (i + 1)]"
      ],
      "metadata": {
        "id": "IcC41voB2Kgd"
      },
      "execution_count": null,
      "outputs": []
    },
    {
      "cell_type": "markdown",
      "source": [
        "### Solution - 2 (Using Map)\n",
        "\n",
        "The twoSum method uses a dictionary (nums_map) to efficiently find a pair of numbers in the nums list that add up to the target. It iterates through the list, calculates the complement for each number, and checks if that complement exists in the dictionary. If found, it returns the indices of the two numbers. This approach has a time complexity of O(n)."
      ],
      "metadata": {
        "id": "PYizi_ZUyets"
      }
    },
    {
      "cell_type": "code",
      "source": [
        "class Solution:\n",
        "    def twoSum(self, nums: List[int], target: int) -> List[int]:\n",
        "        nums_map = {}\n",
        "\n",
        "        for i, n in enumerate(nums):\n",
        "\n",
        "            if target - n in nums_map:\n",
        "                return [nums_map[target - n], i]\n",
        "\n",
        "            nums_map[n] = i"
      ],
      "metadata": {
        "id": "sVtPjpg1yiQQ"
      },
      "execution_count": null,
      "outputs": []
    },
    {
      "cell_type": "markdown",
      "source": [
        "## Palindrome Number\n",
        "https://leetcode.com/problems/palindrome-number/description/"
      ],
      "metadata": {
        "id": "EUeV-kPd05uS"
      }
    },
    {
      "cell_type": "markdown",
      "source": [
        "### Solution - 1 (to String and Slicing)\n",
        "\n",
        "The isPalindrome function checks if an integer x is a palindrome by converting it to a string and comparing it to its reverse. If they are equal, it returns True, indicating a palindrome; otherwise, it returns False."
      ],
      "metadata": {
        "id": "uhXSAQ2P4M5N"
      }
    },
    {
      "cell_type": "code",
      "source": [
        "class Solution:\n",
        "    def isPalindrome(self, x: int) -> bool:\n",
        "\n",
        "        if x < 0:\n",
        "            return False\n",
        "\n",
        "        x_str = str(x)\n",
        "\n",
        "        return x_str == x_str[::-1]"
      ],
      "metadata": {
        "id": "NEEwlyfc4QX3"
      },
      "execution_count": null,
      "outputs": []
    },
    {
      "cell_type": "markdown",
      "source": [
        "### Soltuion - 2 (Arithmatic)\n",
        "\n",
        "The isPalindrome function checks if an integer x is a palindrome by reversing its digits and comparing it to the original number. If they are equal, it returns True, indicating a palindrome; otherwise, it returns False."
      ],
      "metadata": {
        "id": "h_gjcPJF5Zi8"
      }
    },
    {
      "cell_type": "code",
      "source": [
        "class Solution:\n",
        "    def isPalindrome(self, x: int) -> bool:\n",
        "\n",
        "        if x < 0:\n",
        "            return False\n",
        "\n",
        "        reversed_x = 0\n",
        "        original_x = x\n",
        "\n",
        "        while x > 0:\n",
        "\n",
        "            digit = x % 10\n",
        "            reversed_x = reversed_x * 10 + digit\n",
        "\n",
        "            x //= 10\n",
        "\n",
        "        return original_x == reversed_x"
      ],
      "metadata": {
        "id": "PkDT2DqR5i_H"
      },
      "execution_count": null,
      "outputs": []
    },
    {
      "cell_type": "markdown",
      "source": [
        "## Valid Parentheses\n",
        "https://leetcode.com/problems/valid-parentheses/description/\n"
      ],
      "metadata": {
        "id": "Mz-QK-hr6grx"
      }
    },
    {
      "cell_type": "markdown",
      "source": [
        "### Solution (Stack)\n",
        "\n",
        "It uses a stack to track opening brackets as it iterates through the string. When it encounters a closing bracket, it checks if the stack is empty or if the top element of the stack matches the corresponding opening bracket from a predefined dictionary. If there's a mismatch or if the stack is empty when it shouldn't be, the function returns False, indicating an invalid expression. Otherwise, if the stack is empty at the end of the iteration, it returns True, indicating a valid expression that adheres to the criteria of balanced and correctly ordered brackets."
      ],
      "metadata": {
        "id": "8KC8kLPj9p9j"
      }
    },
    {
      "cell_type": "code",
      "source": [
        "class Solution:\n",
        "    def isValid(self, s: str) -> bool:\n",
        "        pair_dictionary = {\n",
        "            \"}\": \"{\",\n",
        "            \")\": \"(\",\n",
        "            \"]\": \"[\"\n",
        "        }\n",
        "\n",
        "        stack = []\n",
        "\n",
        "        for item in s:\n",
        "            if item in pair_dictionary:\n",
        "                if not stack or stack.pop() != pair_dictionary[item]:\n",
        "                    return False\n",
        "            else:\n",
        "                stack.append(item)\n",
        "\n",
        "        return not stack"
      ],
      "metadata": {
        "id": "oDcikiE2-Elv"
      },
      "execution_count": null,
      "outputs": []
    },
    {
      "cell_type": "markdown",
      "source": [
        "## Merge Two Sorted Lists\n",
        "https://leetcode.com/problems/merge-two-sorted-lists/"
      ],
      "metadata": {
        "id": "_X0X35zlEOPQ"
      }
    },
    {
      "cell_type": "markdown",
      "source": [
        "### Solution (ListNode, Recursive Function)\n",
        "\n",
        "The mergeTwoLists function is designed to merge two sorted linked lists (list1 and list2) into a single sorted linked list. It begins by checking if list1 is empty or if list2 exists and the first element of list2 is smaller than the first element of list1. If either of these conditions is true, it swaps the lists to ensure that **list1 always represents the merged result, starting with the smallest element**. Then, it recursively calls itself to merge the remaining portions of the lists, **updating the next pointer of the current node in list1 to reference to the merged result of the remaining nodes**. This process continues until both input lists are fully merged, and the function returns the merged list, satisfying the requirement of combining and sorting the elements from both input lists while preserving their order."
      ],
      "metadata": {
        "id": "fGEroBGbETmf"
      }
    },
    {
      "cell_type": "code",
      "source": [
        "class Solution:\n",
        "    def mergeTwoLists(self, list1: Optional[ListNode], list2: Optional[ListNode]) -> Optional[ListNode]:\n",
        "        if (not list1) or (list2 and list1.val > list2.val):\n",
        "            list1, list2 = list2, list1\n",
        "        if list1:\n",
        "            list1.next = self.mergeTwoLists(list1.next, list2)\n",
        "        return list1"
      ],
      "metadata": {
        "id": "c8GyL-N0Ei_q"
      },
      "execution_count": null,
      "outputs": []
    },
    {
      "cell_type": "markdown",
      "source": [
        "## The Index of the First Occurrence in a String\n",
        "https://leetcode.com/problems/find-the-index-of-the-first-occurrence-in-a-string/description/\n"
      ],
      "metadata": {
        "id": "mVgRPcPzOJ9F"
      }
    },
    {
      "cell_type": "markdown",
      "source": [
        "### Solution (Loop)\n",
        "\n",
        "It uses nested loops to iterate through both strings, comparing characters. The outer loop iterates through the haystack string, while the inner loop iterates through the needle string. It checks for matching characters and returns the index when a match is found. If the end of the haystack string is reached without finding a match, it returns -1."
      ],
      "metadata": {
        "id": "4bQ2AHL9OwyR"
      }
    },
    {
      "cell_type": "code",
      "source": [
        "class Solution:\n",
        "    def strStr(self, haystack: str, needle: str) -> int:\n",
        "        for i in range(len(haystack) + 1):\n",
        "            for j in range(len(needle) + 1):\n",
        "                if j == len(needle):\n",
        "                    return i\n",
        "                if i + j == len(haystack):\n",
        "                    return -1\n",
        "                if needle[j] != haystack[i + j]:\n",
        "                    break"
      ],
      "metadata": {
        "id": "f6fKX2OsTFgW"
      },
      "execution_count": null,
      "outputs": []
    },
    {
      "cell_type": "markdown",
      "source": [
        "## Search Insert Position\n",
        "\n",
        "https://leetcode.com/problems/search-insert-position/description/"
      ],
      "metadata": {
        "id": "NUyJ4Poqtw3X"
      }
    },
    {
      "cell_type": "markdown",
      "source": [
        "### Solution - (Binary Search, Two Pointers)\n",
        "\n",
        "It initializes two pointers, left and right, to the list's boundaries. Inside a while loop, it calculates the middle index, mid, and compares nums[mid] to the target. If they match, it returns mid. If nums[mid] is less than the target, it updates left to mid + 1 to search the right half. If nums[mid] is greater, it updates right to mid - 1 to search the left half. **The loop continues until left exceeds right, at which point it returns left as the correct insertion position.** This binary search ensures an efficient O(log n) time complexity for the task."
      ],
      "metadata": {
        "id": "KLb6j7Abt2SO"
      }
    },
    {
      "cell_type": "code",
      "source": [
        "class Solution:\n",
        "    def searchInsert(self, nums: List[int], target: int) -> int:\n",
        "\n",
        "        left, right = 0, len(nums) - 1\n",
        "\n",
        "        while left <= right:\n",
        "            mid = left + (right - left) // 2\n",
        "\n",
        "            if nums[mid] == target:\n",
        "                return mid\n",
        "\n",
        "            elif nums[mid] < target:\n",
        "                left = mid + 1\n",
        "\n",
        "            else:\n",
        "                right = mid - 1\n",
        "\n",
        "        return left"
      ],
      "metadata": {
        "id": "vlAqicI0yiD2"
      },
      "execution_count": null,
      "outputs": []
    },
    {
      "cell_type": "markdown",
      "source": [
        "## Plus One\n",
        "\n",
        "https://leetcode.com/problems/plus-one/description/"
      ],
      "metadata": {
        "id": "lIEkn9kc1R_A"
      }
    },
    {
      "cell_type": "markdown",
      "source": [
        "### Solution (Arithmatic)\n",
        "\n",
        "It first converts the digit array into an integer by iterating through the digits, adding them up with appropriate place values. Then, it increments this integer by one. Afterward, it converts the updated integer back into a list of digits by repeatedly extracting the last digit and updating the number by integer division. Finally, it returns the list of digits representing the incremented number. While this code works, it may not be the most efficient approach for adding one to a number represented by an array, as it involves integer conversions and extra iterations."
      ],
      "metadata": {
        "id": "e1zaQS8452zI"
      }
    },
    {
      "cell_type": "code",
      "source": [
        "class Solution:\n",
        "    def plusOne(self, digits: List[int]) -> List[int]:\n",
        "\n",
        "        num = 0\n",
        "        for i in range(len(digits)):\n",
        "            digit = digits[len(digits) - 1 - i]\n",
        "            num += digit * 10 ** i\n",
        "\n",
        "        num += 1\n",
        "\n",
        "        answer = []\n",
        "        while num > 0:\n",
        "            answer.insert(0, num % 10)\n",
        "            num //= 10\n",
        "\n",
        "        return answer"
      ],
      "metadata": {
        "id": "6DVvf68D2x4Q"
      },
      "execution_count": null,
      "outputs": []
    },
    {
      "cell_type": "markdown",
      "source": [
        "## Fibonacci Number\n",
        "https://leetcode.com/problems/fibonacci-number/description/"
      ],
      "metadata": {
        "id": "dmdaCFCA7crs"
      }
    },
    {
      "cell_type": "markdown",
      "source": [
        "### Solution (Dynamic Programming, Memoization)\n",
        "\n",
        "The code implements a Fibonacci number calculator using dynamic programming with memoization. It takes an integer n as input and calculates the nth Fibonacci number efficiently. The code utilizes a dictionary (dp) to store previously computed Fibonacci numbers to avoid redundant calculations. If n is less than or equal to 1, it returns n directly. Otherwise, it checks if the Fibonacci number for n is already in the dp dictionary; if so, it returns the stored result. If not, it calculates the Fibonacci number for n by recursively summing the Fibonacci numbers for n-1 and n-2 and stores the result in dp. This approach significantly improves efficiency by eliminating redundant calculations, resulting in a faster computation of Fibonacci numbers for large values of n."
      ],
      "metadata": {
        "id": "-BuMXWIz7hrP"
      }
    },
    {
      "cell_type": "code",
      "source": [
        "class Solution:\n",
        "\n",
        "    dp = {}\n",
        "\n",
        "    def fib(self, n: int) -> int:\n",
        "\n",
        "        if n <= 1:\n",
        "            return n\n",
        "\n",
        "        if n in self.dp:\n",
        "            return self.dp[n]\n",
        "\n",
        "        self.dp[n] = self.fib(n - 1) + self.fib(n - 2)\n",
        "\n",
        "        return self.dp[n]"
      ],
      "metadata": {
        "id": "HUeV-eVY8Ujv"
      },
      "execution_count": null,
      "outputs": []
    },
    {
      "cell_type": "markdown",
      "source": [
        "## Climbing Stairs\n",
        "\n",
        "https://leetcode.com/problems/climbing-stairs/description/"
      ],
      "metadata": {
        "id": "CXOZdDBZ6ruF"
      }
    },
    {
      "cell_type": "markdown",
      "source": [
        "### Solution (Dynamic Programming, Memoization)"
      ],
      "metadata": {
        "id": "HL1cUEme6urK"
      }
    },
    {
      "cell_type": "code",
      "source": [
        "class Solution:\n",
        "\n",
        "    dp = {}\n",
        "\n",
        "    def climbStairs(self, n: int) -> int:\n",
        "\n",
        "        if n <= 2:\n",
        "            return n\n",
        "\n",
        "        if n in self.dp:\n",
        "            return self.dp[n]\n",
        "\n",
        "        self.dp[n] = self.climbStairs(n - 1) + self.climbStairs(n - 2)\n",
        "\n",
        "        return self.dp[n]"
      ],
      "metadata": {
        "id": "wg7JO1bsFlWI"
      },
      "execution_count": null,
      "outputs": []
    },
    {
      "cell_type": "markdown",
      "source": [
        "## Binary Tree Preorder Traversal\n",
        "\n",
        "https://leetcode.com/problems/binary-tree-preorder-traversal/description/"
      ],
      "metadata": {
        "id": "f5L5IKjrqTKi"
      }
    },
    {
      "cell_type": "markdown",
      "source": [
        "### Solution"
      ],
      "metadata": {
        "id": "TGbs0hFN0Xr-"
      }
    },
    {
      "cell_type": "code",
      "source": [
        "class Solution:\n",
        "    def preorderTraversal(self, root: Optional[TreeNode]) -> List[int]:\n",
        "\n",
        "        answer = []\n",
        "        def dfs(node: Optional[TreeNode]):\n",
        "\n",
        "            if node is None:\n",
        "                return\n",
        "\n",
        "            answer.append(node.val)\n",
        "\n",
        "            dfs(node.left)\n",
        "            dfs(node.right)\n",
        "\n",
        "        dfs(root)\n",
        "\n",
        "        return answer"
      ],
      "metadata": {
        "id": "WZpYb5lM0enr"
      },
      "execution_count": null,
      "outputs": []
    },
    {
      "cell_type": "markdown",
      "source": [
        "## Binary Tree Postorder Traversal\n",
        "\n",
        "https://leetcode.com/problems/binary-tree-postorder-traversal/description/"
      ],
      "metadata": {
        "id": "Xw7oO1an8D-h"
      }
    },
    {
      "cell_type": "markdown",
      "source": [
        "### Solution"
      ],
      "metadata": {
        "id": "MLzf4aZC8KJX"
      }
    },
    {
      "cell_type": "code",
      "source": [
        "class Solution:\n",
        "    def postorderTraversal(self, root: Optional[TreeNode]) -> List[int]:\n",
        "\n",
        "        answer = []\n",
        "        def dfs(node: Optional[TreeNode]):\n",
        "\n",
        "            if node is None:\n",
        "                return\n",
        "\n",
        "            dfs(node.left)\n",
        "            dfs(node.right)\n",
        "\n",
        "            answer.append(node.val)\n",
        "\n",
        "        dfs(root)\n",
        "\n",
        "        return answer"
      ],
      "metadata": {
        "id": "GafWvql18LA0"
      },
      "execution_count": null,
      "outputs": []
    },
    {
      "cell_type": "markdown",
      "source": [
        "## Symmetric Tree\n",
        "\n",
        "https://leetcode.com/problems/symmetric-tree/description/\n"
      ],
      "metadata": {
        "id": "UsgWdI6OFtGw"
      }
    },
    {
      "cell_type": "markdown",
      "source": [
        "### Solution (Binary Tree, Recursive Call)\n",
        "\n",
        "The dfs function recursively checks if the tree rooted at two input nodes, left and right, is symmetric by comparing corresponding node values and mirroring their subtrees. If both subtrees are symmetric and the values match, the function returns True; otherwise, it returns False. The main function initiates the DFS by calling dfs on the left and right subtrees of the root node and returns the result. This approach efficiently examines the entire tree's symmetry by recursively verifying mirrored subtrees."
      ],
      "metadata": {
        "id": "ceJBm7nYdG5F"
      }
    },
    {
      "cell_type": "code",
      "source": [
        "class Solution:\n",
        "    def isSymmetric(self, root: Optional[TreeNode]) -> bool:\n",
        "\n",
        "        def dfs(left: Optional[TreeNode], right: Optional[TreeNode]) -> bool:\n",
        "\n",
        "            if not left and not right:\n",
        "                return True\n",
        "\n",
        "            if not left or not right:\n",
        "                return False\n",
        "\n",
        "            return (left.val == right.val and\n",
        "                dfs(left.left, right.right) and\n",
        "                dfs(left.right, right.left))\n",
        "\n",
        "        return dfs(root.left, root.right)"
      ],
      "metadata": {
        "id": "TCg2vVcedIck"
      },
      "execution_count": null,
      "outputs": []
    },
    {
      "cell_type": "markdown",
      "source": [
        "## Maximum Depth of Binary Tree\n",
        "https://leetcode.com/problems/maximum-depth-of-binary-tree/description/"
      ],
      "metadata": {
        "id": "srcE6Vm0f4ik"
      }
    },
    {
      "cell_type": "markdown",
      "source": [
        "### Solution\n",
        "\n",
        "The code utilizes a recursive depth-first search (DFS) approach to determine the maximum depth of a binary tree. The dfs function takes a node as input and recursively computes the depth of the tree rooted at that node. If the input node is None, indicating an empty subtree, it returns 0. Otherwise, it recursively calculates the depths of the left and right subtrees by calling dfs on them and then returns the maximum depth between the left and right subtrees plus 1, accounting for the current node. The main function initializes the DFS by calling dfs on the root node and returns the computed maximum depth."
      ],
      "metadata": {
        "id": "Vsdowz1zgIOs"
      }
    },
    {
      "cell_type": "code",
      "source": [
        "class Solution:\n",
        "    def maxDetph(self, root: Optional[TreeNode]) -> int:\n",
        "\n",
        "        def dfs(node: Optional[TreeNode]):\n",
        "\n",
        "            if node is None:\n",
        "                return 0\n",
        "\n",
        "            left = dfs(node.left)\n",
        "            right = dfs(node.right)\n",
        "\n",
        "            return max(left, right) + 1\n",
        "\n",
        "        return dfs(root)"
      ],
      "metadata": {
        "id": "aGRca7QVjitK"
      },
      "execution_count": null,
      "outputs": []
    },
    {
      "cell_type": "markdown",
      "source": [
        "## Minimum Depth of Binary Tree\n",
        "\n",
        "https://leetcode.com/problems/minimum-depth-of-binary-tree/description/"
      ],
      "metadata": {
        "id": "Jkz14pJms5KM"
      }
    },
    {
      "cell_type": "markdown",
      "source": [
        "### Solution"
      ],
      "metadata": {
        "id": "bHQfbwSKs9o7"
      }
    },
    {
      "cell_type": "code",
      "source": [
        "class Solution:\n",
        "    def minDepth(self, root: Optional[TreeNode]) -> int:\n",
        "\n",
        "        def dfs(node: Optional[TreeNode]):\n",
        "\n",
        "            if node is None:\n",
        "                return 0\n",
        "\n",
        "            left = dfs(node.left)\n",
        "            right = dfs(node.right)\n",
        "\n",
        "            if left == 0:\n",
        "                return right +  1\n",
        "            elif right == 0:\n",
        "                return left + 1\n",
        "\n",
        "            return min(left, right) + 1\n",
        "\n",
        "        return dfs(root)"
      ],
      "metadata": {
        "id": "FnkHfkhss_L3"
      },
      "execution_count": null,
      "outputs": []
    },
    {
      "cell_type": "markdown",
      "source": [
        "## Diameter of Binary Tree\n",
        "\n",
        "https://leetcode.com/problems/diameter-of-binary-tree/description/"
      ],
      "metadata": {
        "id": "-nqVFUwVt1uO"
      }
    },
    {
      "cell_type": "markdown",
      "source": [
        "### Solution\n",
        "\n",
        "The code employs a depth-first search (DFS) approach using a nested function dfs. It recursively computes the depth of the binary tree while simultaneously updating the path variable to store the maximum diameter found so far. Throughout the traversal, it updates the path variable whenever a longer diameter is encountered."
      ],
      "metadata": {
        "id": "gxwe1CiMt7n0"
      }
    },
    {
      "cell_type": "code",
      "source": [
        "class Solution:\n",
        "\n",
        "    path = 0\n",
        "    def diameterOfBinaryTree(self, root: Optional[TreeNode]) -> int:\n",
        "\n",
        "        def dfs(node: Optional[TreeNode]):\n",
        "\n",
        "            if node is None:\n",
        "                return -1\n",
        "\n",
        "            left = dfs(node.left)\n",
        "            right = dfs(node.right)\n",
        "\n",
        "            self.path = max(self.path, left + right + 2)\n",
        "\n",
        "            return max(left, right) + 1\n",
        "\n",
        "        dfs(root)\n",
        "\n",
        "        return self.path\n"
      ],
      "metadata": {
        "id": "g_vGkLqY5Tkj"
      },
      "execution_count": null,
      "outputs": []
    },
    {
      "cell_type": "markdown",
      "source": [
        "## Convert Sorted Array to Binary Search Tree\n",
        "https://leetcode.com/problems/convert-sorted-array-to-binary-search-tree/description/"
      ],
      "metadata": {
        "id": "-EvBHwUhCS4C"
      }
    },
    {
      "cell_type": "markdown",
      "source": [
        "### Solution\n",
        "\n",
        "If the nums array is empty, it returns None; otherwise, it calculates the middle index of the array, creates a TreeNode with that value, and recursively constructs the left and right subtrees."
      ],
      "metadata": {
        "id": "dw2lLj08CXUM"
      }
    },
    {
      "cell_type": "code",
      "source": [
        "class Solution:\n",
        "    def sortedArrayToBST(self, nums: List[int]) -> Optional[TreeNode]:\n",
        "\n",
        "        def dfs(nums):\n",
        "\n",
        "            if not nums:\n",
        "                return None\n",
        "\n",
        "            mid = len(nums) // 2\n",
        "\n",
        "            node = TreeNode(nums[mid])\n",
        "\n",
        "            node.left = dfs(nums[:mid])\n",
        "            node.right = dfs(nums[mid + 1:])\n",
        "\n",
        "            return node\n",
        "\n",
        "        return dfs(nums)"
      ],
      "metadata": {
        "id": "UTc3UGU8Lmcg"
      },
      "execution_count": null,
      "outputs": []
    },
    {
      "cell_type": "markdown",
      "source": [
        "## Balanced Binary Tree\n",
        "https://leetcode.com/problems/balanced-binary-tree/description/"
      ],
      "metadata": {
        "id": "6WHfweRmQfF_"
      }
    },
    {
      "cell_type": "markdown",
      "source": [
        "### Solution\n",
        "\n",
        "The dfs function calculates the height of each subtree and checks if the absolute difference between the heights exceeds one."
      ],
      "metadata": {
        "id": "rvyfn9vQTuto"
      }
    },
    {
      "cell_type": "code",
      "source": [
        "class Solution:\n",
        "    diff = True\n",
        "    def isBalanced(self, root: Optional[TreeNode]) -> bool:\n",
        "\n",
        "        def dfs(node: Optional[TreeNode]):\n",
        "\n",
        "            if node is None:\n",
        "                return 0\n",
        "\n",
        "            left = dfs(node.left)\n",
        "            right = dfs(node.right)\n",
        "\n",
        "            if abs(left - right) > 1:\n",
        "                self.diff = False\n",
        "\n",
        "            return max(left, right) + 1\n",
        "\n",
        "        dfs(root)\n",
        "\n",
        "        return self.diff"
      ],
      "metadata": {
        "id": "UAXciP-XTwlK"
      },
      "execution_count": null,
      "outputs": []
    },
    {
      "cell_type": "markdown",
      "source": [
        "## Pascal's Triangle\n",
        "https://leetcode.com/problems/pascals-triangle/description/\n"
      ],
      "metadata": {
        "id": "detADc1BkEPX"
      }
    },
    {
      "cell_type": "markdown",
      "source": [
        "### Solution (Loop)"
      ],
      "metadata": {
        "id": "ZuyNJxbskOhs"
      }
    },
    {
      "cell_type": "code",
      "source": [
        "class Solution:\n",
        "    def generate(self, numRows: int) -> List[List[int]]:\n",
        "\n",
        "        result = []\n",
        "        for i in range(1, numRows + 1):\n",
        "            row = [0] * i\n",
        "            row[0], row[-1]  = 1, 1\n",
        "\n",
        "            for j in range(1, i - 1):\n",
        "                row[j] = result[-1][j - 1] + result[-1][j]\n",
        "\n",
        "            result.append(row)\n",
        "\n",
        "        return result"
      ],
      "metadata": {
        "id": "GPjOm94LobVD"
      },
      "execution_count": null,
      "outputs": []
    },
    {
      "cell_type": "markdown",
      "source": [
        "### Solution (Recursive Call)\n",
        "\n",
        "In recursive algorithms, \"Base Cases\" serve as the termination conditions for the recursion, where recursion stops, and a direct result is returned without further recursive calls.\n",
        "\n",
        "\"Non-base Cases (Recursive case)\" refer to the situations where recursive calls are made, and some modification or computation is performed on the problem or resource."
      ],
      "metadata": {
        "id": "pWKHmxuWtbGT"
      }
    },
    {
      "cell_type": "code",
      "source": [
        "class Solution:\n",
        "    def generate(self, numRows: int) -> List[List[int]]:\n",
        "\n",
        "        if numRows == 0:\n",
        "            return []\n",
        "\n",
        "        if numRows == 1:\n",
        "            return [[1]]\n",
        "\n",
        "        prevRows = self.generate(numRows - 1)\n",
        "        newRow = [1] * numRows\n",
        "\n",
        "        for i in range(1, numRows - 1):\n",
        "            newRow[i] = prevRows[-1][i - 1] + prevRows[-1][i]\n",
        "\n",
        "        prevRows.append(newRow)\n",
        "\n",
        "        return prevRows"
      ],
      "metadata": {
        "id": "xwi0a5Hcte_w"
      },
      "execution_count": null,
      "outputs": []
    },
    {
      "cell_type": "markdown",
      "source": [
        "## Best Time to Buy and Sell Stock\n",
        "\n",
        "https://leetcode.com/problems/best-time-to-buy-and-sell-stock/description/"
      ],
      "metadata": {
        "id": "z7ARkpIg639H"
      }
    },
    {
      "cell_type": "markdown",
      "source": [
        "### Solution (Dynamic Programming)\n",
        "\n",
        "The solution iterates through the prices, continually updating carry to be the minimum of the current carry and the current price (representing the optimal buying decision) and updating profit to be the maximum of the current profit and the difference between the current price and carry (representing the optimal selling decision)."
      ],
      "metadata": {
        "id": "sz_NxfXvFTl8"
      }
    },
    {
      "cell_type": "code",
      "source": [
        "class Solution:\n",
        "    def maxProfit(self, prices: List[int]) -> int:\n",
        "\n",
        "        profit = 0\n",
        "        carry = prices[0]\n",
        "\n",
        "        for i in range(1, len(prices)):\n",
        "            carry = min(carry, prices[i])\n",
        "            profit = max(profit, prices[i] - carry)\n",
        "\n",
        "        return profit"
      ],
      "metadata": {
        "id": "rhwFvD9TFbXS"
      },
      "execution_count": null,
      "outputs": []
    },
    {
      "cell_type": "markdown",
      "source": [
        "## Best Time to Buy and Sell Stock II\n",
        "\n",
        "https://leetcode.com/problems/best-time-to-buy-and-sell-stock-ii/description/"
      ],
      "metadata": {
        "id": "BnIzuEOaCrpK"
      }
    },
    {
      "cell_type": "markdown",
      "source": [
        "### Solution (Stack)"
      ],
      "metadata": {
        "id": "YPL3r5cOCvyi"
      }
    },
    {
      "cell_type": "code",
      "source": [
        "class Solution:\n",
        "    def maxProfit(self, prices: List[int]) -> int:\n",
        "\n",
        "        profit = 0\n",
        "        stack = []\n",
        "\n",
        "        for price in prices:\n",
        "            if stack and (price > stack[-1]):\n",
        "                profit += (price - stack.pop())\n",
        "\n",
        "            stack.append(price)\n",
        "\n",
        "        return profit"
      ],
      "metadata": {
        "id": "uwUPxt4lDllS"
      },
      "execution_count": null,
      "outputs": []
    },
    {
      "cell_type": "markdown",
      "source": [
        "## Valid Palindrome\n",
        "https://leetcode.com/problems/valid-palindrome/description/"
      ],
      "metadata": {
        "id": "RVF3X5kvJIeo"
      }
    },
    {
      "cell_type": "markdown",
      "source": [
        "### Solution (Regular Expression)"
      ],
      "metadata": {
        "id": "ZTCsTd5eJb06"
      }
    },
    {
      "cell_type": "code",
      "source": [
        "class Solution:\n",
        "    def isPalindrome(self, s: str) -> bool:\n",
        "        s = s.lower()\n",
        "        s = re.sub('[^a-z0-9]', '', s)\n",
        "\n",
        "        return s == s[::-1]"
      ],
      "metadata": {
        "id": "D_5cMOtfLq2P"
      },
      "execution_count": null,
      "outputs": []
    },
    {
      "cell_type": "markdown",
      "source": [
        "### Solution (Stack)"
      ],
      "metadata": {
        "id": "hpAvc3coLug3"
      }
    },
    {
      "cell_type": "code",
      "source": [
        "class Solution:\n",
        "    def isPalindrome(self, s: str) -> bool:\n",
        "\n",
        "        stack = []\n",
        "\n",
        "        for char in s:\n",
        "            if char.isalnum():\n",
        "                stack.append(char.lower())\n",
        "\n",
        "        while len(stack) > 1:\n",
        "            if stack.pop() != stack.pop(0):\n",
        "                return False\n",
        "\n",
        "        return True"
      ],
      "metadata": {
        "id": "rL_Bs5zwMUlm"
      },
      "execution_count": null,
      "outputs": []
    },
    {
      "cell_type": "markdown",
      "source": [
        "## Single Number\n",
        "https://leetcode.com/problems/single-number/description/"
      ],
      "metadata": {
        "id": "6GnDcegZMeyt"
      }
    },
    {
      "cell_type": "markdown",
      "source": [
        "### Solution (Bit Operation)"
      ],
      "metadata": {
        "id": "8pPGsqSPMgUX"
      }
    },
    {
      "cell_type": "code",
      "source": [
        "class Solution:\n",
        "    def singleNumber(self, nums: List[int]) -> int:\n",
        "        result = 0\n",
        "\n",
        "        for num in nums:\n",
        "            result ^= num\n",
        "\n",
        "        return result"
      ],
      "metadata": {
        "id": "_A4K_8dPPBVw"
      },
      "execution_count": null,
      "outputs": []
    },
    {
      "cell_type": "markdown",
      "source": [
        "### Solution (List)"
      ],
      "metadata": {
        "id": "P8poqhPnTINz"
      }
    },
    {
      "cell_type": "code",
      "source": [
        "class Solution:\n",
        "    def singleNumber(self, nums: List[int]) -> int:\n",
        "\n",
        "        unique = []\n",
        "        for num in nums:\n",
        "\n",
        "            if unique and num in unique:\n",
        "                unique.remove(num)\n",
        "                continue\n",
        "\n",
        "            unique.append(num)\n",
        "\n",
        "        return unique[-1]"
      ],
      "metadata": {
        "id": "yFet8iE8SXMD"
      },
      "execution_count": null,
      "outputs": []
    },
    {
      "cell_type": "markdown",
      "source": [
        "## Reverse Words in a String III\n",
        "https://leetcode.com/problems/reverse-words-in-a-string-iii/description/"
      ],
      "metadata": {
        "id": "cKHxvIPCH07C"
      }
    },
    {
      "cell_type": "markdown",
      "source": [
        "### Solution (Two Pointers)\n",
        "\n",
        " The two-pointer-approach code below effectively identifies the start and end positions of each word in the string and reverses them as needed."
      ],
      "metadata": {
        "id": "K9U5IrOEH_VN"
      }
    },
    {
      "cell_type": "code",
      "source": [
        "class Solution:\n",
        "    def reverseWords(self, s: str) -> str:\n",
        "        s += ' '\n",
        "        answer = ''\n",
        "        left = 0\n",
        "\n",
        "        for right, char in enumerate(s):\n",
        "            if char == ' ':\n",
        "                word = s[left : right]\n",
        "                answer += word[::-1] + ' '\n",
        "                left = right + 1\n",
        "\n",
        "        return answer.rstrip()"
      ],
      "metadata": {
        "id": "iNNnjXUWJPUo"
      },
      "execution_count": null,
      "outputs": []
    },
    {
      "cell_type": "markdown",
      "source": [
        "### Solution (Functional)"
      ],
      "metadata": {
        "id": "Ao0cAElnKzCu"
      }
    },
    {
      "cell_type": "code",
      "source": [
        "class Solution:\n",
        "    def reverseWords(self, s: str) -> str:\n",
        "        return ' '.join(\n",
        "            map(lambda word: word[::-1],\n",
        "                s.split())\n",
        "        )"
      ],
      "metadata": {
        "id": "vArozuyqLBGl"
      },
      "execution_count": null,
      "outputs": []
    },
    {
      "cell_type": "markdown",
      "source": [
        "## Majority Element\n",
        "\n",
        "https://leetcode.com/problems/majority-element/description/"
      ],
      "metadata": {
        "id": "ZWy9CMgd8zMN"
      }
    },
    {
      "cell_type": "markdown",
      "source": [
        "### Solution (Counting-based)"
      ],
      "metadata": {
        "id": "U3uV1bUm87ye"
      }
    },
    {
      "cell_type": "code",
      "source": [
        "class Solution:\n",
        "    def majorityElement(self, nums: List[int]) -> int:\n",
        "\n",
        "        counter = {}\n",
        "\n",
        "        for num in nums:\n",
        "\n",
        "            if num in counter:\n",
        "                counter[num] += 1\n",
        "\n",
        "            else:\n",
        "                counter[num] = 1\n",
        "\n",
        "        return list(map(\n",
        "                        lambda item: item[0],\n",
        "                        sorted(counter.items(), key = lambda item: item[1], reverse = True)\n",
        "                    ))[0]"
      ],
      "metadata": {
        "id": "5FZm3i3P9aNI"
      },
      "execution_count": null,
      "outputs": []
    },
    {
      "cell_type": "markdown",
      "source": [
        "### Solution (Divide and Conquer)\n",
        "\n",
        "The solution recursively divides the list into halves and computes the majority element within each half. Then, it compares the counts of the majority elements from both halves to determine the final majority element of the entire list. This approach reduces the problem size through recursion but still requires counting operations at each level, resulting in a time complexity of O(n * log n)."
      ],
      "metadata": {
        "id": "C2FQfRzDBpaI"
      }
    },
    {
      "cell_type": "code",
      "source": [
        "class Solution:\n",
        "    def majorityElement(self, nums: List[int]) -> int:\n",
        "\n",
        "        if len(nums) == 0:\n",
        "            return None\n",
        "\n",
        "        if len(nums) == 1:\n",
        "            return nums[0]\n",
        "\n",
        "        # serves as a halving index && majority bar\n",
        "        mid = len(nums) // 2\n",
        "\n",
        "        a = self.majorityElement(nums[:mid])\n",
        "        b = self.majorityElement(nums[mid:])\n",
        "\n",
        "        return [b, a][nums.count(a) > mid]"
      ],
      "metadata": {
        "id": "0XCYSJ-uBrNO"
      },
      "execution_count": null,
      "outputs": []
    },
    {
      "cell_type": "markdown",
      "source": [
        "### Solution (Boyer-Moore Majority Vote)\n",
        "\n",
        "Iterate through the array, and if the count becomes zero, update the candidate to the current element. Whenever the candidate element appears again, increment the count; otherwise, decrement the count. Since the majority element appears more than n/2 times, it will have a count greater than zero at the end of the iteration."
      ],
      "metadata": {
        "id": "C2tPCihJDOHy"
      }
    },
    {
      "cell_type": "code",
      "source": [
        "class Solution:\n",
        "    def majorityElement(self, nums: List[int]) -> int:\n",
        "        candidate = None\n",
        "        count = 0\n",
        "\n",
        "        for num in nums:\n",
        "            if count == 0:\n",
        "                candidate = num\n",
        "                count += 1\n",
        "            elif num == candidate:\n",
        "                count += 1\n",
        "            else:\n",
        "                count -= 1\n",
        "\n",
        "        return candidate"
      ],
      "metadata": {
        "id": "NGpb06cbDPn5"
      },
      "execution_count": null,
      "outputs": []
    },
    {
      "cell_type": "markdown",
      "source": [
        "## Reverse Linked List\n",
        "\n",
        "https://leetcode.com/problems/reverse-linked-list/description/"
      ],
      "metadata": {
        "id": "qaqRYlwjIhbJ"
      }
    },
    {
      "cell_type": "markdown",
      "source": [
        "### Solution (Recursive Call)"
      ],
      "metadata": {
        "id": "cYvqRUbiIhTY"
      }
    },
    {
      "cell_type": "code",
      "source": [
        "class Solution:\n",
        "    def reverseList(self, head: Optional[ListNode]) -> Optional[ListNode]:\n",
        "\n",
        "        nodes = []\n",
        "        while head:\n",
        "            nodes.append(head.val)\n",
        "            head = head.next\n",
        "\n",
        "        def dfs(nodes: List[int]) -> Optional[ListNode]:\n",
        "\n",
        "            if not nodes:\n",
        "                return None\n",
        "\n",
        "            node = nodes.pop()\n",
        "            reversed = dfs(nodes)\n",
        "\n",
        "            return ListNode(node, reversed)\n",
        "\n",
        "        return dfs(nodes)"
      ],
      "metadata": {
        "id": "NKTkm-l_Sl8t"
      },
      "execution_count": null,
      "outputs": []
    },
    {
      "cell_type": "markdown",
      "source": [
        "### Solution (While Loop)"
      ],
      "metadata": {
        "id": "zZeENSveVFbk"
      }
    },
    {
      "cell_type": "code",
      "source": [
        "class Solution:\n",
        "    def reverseList(self, head: Optional[ListNode]) -> Optional[ListNode]:\n",
        "\n",
        "        prev = None\n",
        "        while head:\n",
        "            prev, prev.next, head = head, prev, head.next\n",
        "\n",
        "        return prev"
      ],
      "metadata": {
        "id": "fSfeWiARRn-n"
      },
      "execution_count": null,
      "outputs": []
    },
    {
      "cell_type": "markdown",
      "source": [
        "## Invert Binary Tree\n",
        "https://leetcode.com/problems/invert-binary-tree/description/"
      ],
      "metadata": {
        "id": "m4DhisTNpGxz"
      }
    },
    {
      "cell_type": "markdown",
      "source": [
        "### Solution\n",
        "\n",
        "The function starts by checking if the given node is not empty. If the node exists, it recursively calls itself on the right and left subtrees, effectively swapping them. This process continues until all nodes in the tree have been swapped."
      ],
      "metadata": {
        "id": "xTPxgWHhpgoQ"
      }
    },
    {
      "cell_type": "code",
      "source": [
        "class Solution:\n",
        "    def invertTree(self, root: Optional[TreeNode]) -> Optional[TreeNode]:\n",
        "        def invert(node):\n",
        "            if node:\n",
        "                node.left, node.right = invert(node.right), invert(node.left)\n",
        "                return node\n",
        "            return None\n",
        "\n",
        "        return invert(root)"
      ],
      "metadata": {
        "id": "df8viv6dwfmA"
      },
      "execution_count": null,
      "outputs": []
    },
    {
      "cell_type": "markdown",
      "source": [
        "## Palindrome Linked List\n",
        "\n",
        "https://leetcode.com/problems/palindrome-linked-list/description/"
      ],
      "metadata": {
        "id": "KNS7GqOw2OIN"
      }
    },
    {
      "cell_type": "markdown",
      "source": [
        "### Solution (Convert To List)"
      ],
      "metadata": {
        "id": "WlfqdLxy2R4W"
      }
    },
    {
      "cell_type": "code",
      "source": [
        "class Solution:\n",
        "    def isPalindrome(self, head: Optional[ListNode]) -> bool:\n",
        "\n",
        "        converted = []\n",
        "\n",
        "        while head:\n",
        "\n",
        "            converted.append(head.val)\n",
        "            head = head.next\n",
        "\n",
        "        return converted == converted[::-1]"
      ],
      "metadata": {
        "id": "v32Pk8UY2UFP"
      },
      "execution_count": null,
      "outputs": []
    },
    {
      "cell_type": "markdown",
      "source": [
        "### Solution (Two Pointers)\n",
        "\n",
        " It reverses the first half of the linked list using the prev pointer to keep track of the reversed part. When the fast pointer reaches the end of the list, the slow pointer will be in the middle, and the prev pointer will have reversed the first half."
      ],
      "metadata": {
        "id": "cOK2ZTNO2sQX"
      }
    },
    {
      "cell_type": "code",
      "source": [
        "class Solution:\n",
        "    def isPalindrome(self, head: Optional[ListNode]) -> bool:\n",
        "\n",
        "        prev = None\n",
        "        slow, fast = head, head\n",
        "\n",
        "        while fast and fast.next:\n",
        "            fast = fast.next.next\n",
        "            prev, prev.next, slow = slow, prev, slow.next\n",
        "\n",
        "        if fast:\n",
        "            slow = slow.next\n",
        "\n",
        "        while prev and prev.val == slow.val:\n",
        "            prev, slow = prev.next, slow.next\n",
        "\n",
        "        return not prev"
      ],
      "metadata": {
        "id": "-1LZZQVN4rei"
      },
      "execution_count": null,
      "outputs": []
    },
    {
      "cell_type": "markdown",
      "source": [
        "## Valid Anagram\n",
        "\n",
        "https://leetcode.com/problems/valid-anagram/description/"
      ],
      "metadata": {
        "id": "Kl3K-NNcBHCU"
      }
    },
    {
      "cell_type": "markdown",
      "source": [
        "### Solution (Sorting)"
      ],
      "metadata": {
        "id": "OOQERilCBgyO"
      }
    },
    {
      "cell_type": "code",
      "source": [
        "class Solution:\n",
        "    def isAnagram(self, s: str, t: str) -> bool:\n",
        "\n",
        "        return sorted(s) == sorted(t)"
      ],
      "metadata": {
        "id": "MDewOsYSJD80"
      },
      "execution_count": null,
      "outputs": []
    },
    {
      "cell_type": "markdown",
      "source": [
        "### Solution (Dictionary)"
      ],
      "metadata": {
        "id": "FwkpM9z9JFdL"
      }
    },
    {
      "cell_type": "code",
      "source": [
        "class Solution:\n",
        "    def isAnagram(self, s: str, t: str) -> bool:\n",
        "\n",
        "        if len(s) != len(t):\n",
        "            return False\n",
        "\n",
        "        s_dict, t_dict = {}, {}\n",
        "        for i in range(len(s)):\n",
        "\n",
        "            s_dict[s[i]] = s_dict.get(i, 0) + 1\n",
        "            t_dict[t[i]] = t_dict.get(i, 0) + 1\n",
        "\n",
        "        return s_dict == t_dict"
      ],
      "metadata": {
        "id": "DknU5M9-JT2i"
      },
      "execution_count": null,
      "outputs": []
    },
    {
      "cell_type": "markdown",
      "source": [
        "## Missing Number\n",
        "https://leetcode.com/problems/missing-number/description/\n"
      ],
      "metadata": {
        "id": "Fac1DkcCKMNV"
      }
    },
    {
      "cell_type": "markdown",
      "source": [
        "### Solution (Brute)"
      ],
      "metadata": {
        "id": "ZCxQspPVU9KL"
      }
    },
    {
      "cell_type": "code",
      "source": [
        "class Solution:\n",
        "    def missingNumber(self, nums: List[int]) -> int:\n",
        "\n",
        "        n = len(nums)\n",
        "\n",
        "        filled = [i for i in range(0, n + 1)]\n",
        "        for num in nums:\n",
        "            filled.remove(num)\n",
        "\n",
        "        return filled[-1]\n"
      ],
      "metadata": {
        "id": "DkknWiGKVPAZ"
      },
      "execution_count": null,
      "outputs": []
    },
    {
      "cell_type": "markdown",
      "source": [
        "### Solution (Arithmatic)"
      ],
      "metadata": {
        "id": "89WU-DvfVQGb"
      }
    },
    {
      "cell_type": "code",
      "source": [
        "class Solution:\n",
        "    def missingNumber(self, nums: List[int]) -> int:\n",
        "\n",
        "        n = len(nums)\n",
        "        target = n * (n + 1) // 2\n",
        "\n",
        "        sum = 0\n",
        "        for num in nums:\n",
        "            sum += num\n",
        "\n",
        "        return target - sum"
      ],
      "metadata": {
        "id": "dXb9c9GGVWMR"
      },
      "execution_count": null,
      "outputs": []
    },
    {
      "cell_type": "markdown",
      "source": [
        "## Reverse String\n",
        "\n",
        "https://leetcode.com/problems/reverse-string/description/"
      ],
      "metadata": {
        "id": "l2sesiP1WrZC"
      }
    },
    {
      "cell_type": "markdown",
      "source": [
        "### Solution (Stack)"
      ],
      "metadata": {
        "id": "U1zoolMBXe5F"
      }
    },
    {
      "cell_type": "code",
      "source": [
        "class Solution:\n",
        "    def reverseString(self, s: List[str]) -> None:\n",
        "        stack = []\n",
        "        for char in s:\n",
        "            stack.append(char)\n",
        "\n",
        "        idx = 0\n",
        "        while stack:\n",
        "            s[idx] = stack.pop()\n",
        "            idx += 1"
      ],
      "metadata": {
        "id": "yDR5oaDyXhk_"
      },
      "execution_count": null,
      "outputs": []
    },
    {
      "cell_type": "markdown",
      "source": [
        "### Solution (Two pointers)"
      ],
      "metadata": {
        "id": "B-9l7CefXjH4"
      }
    },
    {
      "cell_type": "code",
      "source": [
        "class Solution:\n",
        "    def reverseString(self, s: List[str]) -> None:\n",
        "        left, right = 0, len(s) - 1\n",
        "\n",
        "        while left <= right:\n",
        "\n",
        "            s[left], s[right] = s[right], s[left]\n",
        "\n",
        "            left += 1\n",
        "            right -= 1"
      ],
      "metadata": {
        "id": "e-lqB6kYXlDn"
      },
      "execution_count": null,
      "outputs": []
    },
    {
      "cell_type": "markdown",
      "source": [
        "## Intersection of Two Arrays\n",
        "https://leetcode.com/problems/intersection-of-two-arrays/description/"
      ],
      "metadata": {
        "id": "bEePktctX7Gx"
      }
    },
    {
      "cell_type": "markdown",
      "source": [
        "### Solution (Set)"
      ],
      "metadata": {
        "id": "_iZMvIhpYX9m"
      }
    },
    {
      "cell_type": "code",
      "source": [
        "class Solution:\n",
        "    def intersection(self, nums1: List[int], nums2: List[int]) -> List[int]:\n",
        "\n",
        "        answer = set()\n",
        "        for num in nums2:\n",
        "            if num in set(nums1):\n",
        "                answer.add(num)\n",
        "\n",
        "        return answer"
      ],
      "metadata": {
        "id": "LDlUW_mPY-l9"
      },
      "execution_count": null,
      "outputs": []
    },
    {
      "cell_type": "markdown",
      "source": [
        "### Solution (Two Pointers)"
      ],
      "metadata": {
        "id": "ODlpBn7KZSlI"
      }
    },
    {
      "cell_type": "code",
      "source": [
        "class Solution:\n",
        "    def intersection(self, nums1: List[int], nums2: List[int]) -> List[int]:\n",
        "\n",
        "        nums1.sort()\n",
        "        nums2.sort()\n",
        "\n",
        "        i = j = 0\n",
        "        answer = set()\n",
        "        while (i < len(nums1)) and (j < len(nums2)):\n",
        "\n",
        "            if nums1[i] < nums2[j]:\n",
        "                i += 1\n",
        "\n",
        "            elif nums1[i] > nums2[j]:\n",
        "                j += 1\n",
        "\n",
        "            else:\n",
        "                answer.add(nums1[i])\n",
        "                i += 1\n",
        "                j += 1\n",
        "\n",
        "        return answer"
      ],
      "metadata": {
        "id": "wvT3l3zGZUXv"
      },
      "execution_count": null,
      "outputs": []
    },
    {
      "cell_type": "markdown",
      "source": [
        "## First Unique Character in a String\n",
        "https://leetcode.com/problems/first-unique-character-in-a-string/description/"
      ],
      "metadata": {
        "id": "Eote_MDYCP1Z"
      }
    },
    {
      "cell_type": "markdown",
      "source": [
        "### Solution (Set, Sorting)"
      ],
      "metadata": {
        "id": "gljKJLgAJ6iH"
      }
    },
    {
      "cell_type": "code",
      "source": [
        "class Solution:\n",
        "    def firstUniqChar(self, s: str) -> int:\n",
        "\n",
        "        uniques = {}\n",
        "        visited = set()\n",
        "        for i, char in enumerate(s):\n",
        "\n",
        "            if char in visited:\n",
        "                if (uniques.get(char) != None) :\n",
        "                    del uniques[char]\n",
        "                continue\n",
        "\n",
        "            visited.add(char)\n",
        "            uniques[char] = i\n",
        "\n",
        "        if len(uniques) > 0:\n",
        "            return list(map(\n",
        "                lambda item: item[1],\n",
        "                sorted(uniques.items(), key = lambda item: item[1])\n",
        "            ))[0]\n",
        "\n",
        "        return -1"
      ],
      "metadata": {
        "id": "7SKFRYcCGu4F"
      },
      "execution_count": null,
      "outputs": []
    },
    {
      "cell_type": "markdown",
      "source": [
        "### Solution (Counter)"
      ],
      "metadata": {
        "id": "oFIEFcPOKJPS"
      }
    },
    {
      "cell_type": "code",
      "source": [
        "class Solution:\n",
        "    def firstUniqChar(self, s: str) -> int:\n",
        "\n",
        "        counter = {}\n",
        "\n",
        "        for char in s:\n",
        "            if counter.get(char, 0):\n",
        "                counter[char] += 1\n",
        "            else:\n",
        "                counter[char] = 1\n",
        "\n",
        "        for idx, char in enumerate(s):\n",
        "            if (counter[char]) == 1:\n",
        "                return idx\n",
        "\n",
        "        return -1"
      ],
      "metadata": {
        "id": "jcRMIb_yLCf1"
      },
      "execution_count": null,
      "outputs": []
    },
    {
      "cell_type": "markdown",
      "source": [
        "## Longest Palindrome\n",
        "https://leetcode.com/problems/longest-palindrome/description/"
      ],
      "metadata": {
        "id": "zaPGwkbOLs5d"
      }
    },
    {
      "cell_type": "markdown",
      "source": [
        "### Solution"
      ],
      "metadata": {
        "id": "hXPEBf5XL3_g"
      }
    },
    {
      "cell_type": "code",
      "source": [
        "class Solution:\n",
        "    def longestPalindrome(self, s: str) -> int:\n",
        "\n",
        "        counter = {}\n",
        "        for char in s:\n",
        "            if counter.get(char, 0):\n",
        "                counter[char] += 1\n",
        "            else:\n",
        "                counter[char] = 1\n",
        "\n",
        "        hasOdds = False\n",
        "        odds, evens = 0, 0\n",
        "        for item in counter.items():\n",
        "            if item[1] % 2 == 1:\n",
        "                hasOdds = True\n",
        "                odds += item[1] - 1\n",
        "\n",
        "            else:\n",
        "                evens += item[1]\n",
        "\n",
        "        if hasOdds:\n",
        "            return odds + evens + 1\n",
        "\n",
        "        return evens"
      ],
      "metadata": {
        "id": "v4IaedEiL3ZQ"
      },
      "execution_count": null,
      "outputs": []
    },
    {
      "cell_type": "markdown",
      "source": [
        "## Assign Cookies\n",
        "https://leetcode.com/problems/assign-cookies/description/"
      ],
      "metadata": {
        "id": "GetkO-RaUSI4"
      }
    },
    {
      "cell_type": "markdown",
      "source": [
        "### Solution (Two Pointers, Greedy Algorithm)\n",
        "\n",
        "The greedy choice is made when it assigns a cookie to a child whose greed factor is satisfied by the available cookie's size. By iterating through the sorted lists and assigning cookies in this way, the algorithm aims to maximize the number of content children."
      ],
      "metadata": {
        "id": "zUExZTZRUZgw"
      }
    },
    {
      "cell_type": "code",
      "source": [
        "class Solution:\n",
        "    def findContentChildren(self, g: List[int], s: List[int]) -> int:\n",
        "\n",
        "        if len(s) == 0:\n",
        "            return 0\n",
        "\n",
        "        g.sort()\n",
        "        s.sort()\n",
        "\n",
        "        idx_i, idx_j = 0, 0\n",
        "        while idx_j < len(g) and idx_i < len(s):\n",
        "\n",
        "            if g[idx_j] <= s[idx_i]:\n",
        "                idx_j += 1\n",
        "\n",
        "            idx_i += 1\n",
        "\n",
        "        return idx_j"
      ],
      "metadata": {
        "id": "BtTZnQkuUbxS"
      },
      "execution_count": null,
      "outputs": []
    },
    {
      "cell_type": "markdown",
      "source": [
        "## Repeated Substring Pattern\n",
        "https://leetcode.com/problems/repeated-substring-pattern/description/"
      ],
      "metadata": {
        "id": "jPkp7FjCgLgs"
      }
    },
    {
      "cell_type": "markdown",
      "source": [
        "### Solution"
      ],
      "metadata": {
        "id": "k8SVI9xfcDH0"
      }
    },
    {
      "cell_type": "code",
      "source": [
        "class Solution:\n",
        "    def repeatedSubstringPattern(self, s: str) -> bool:\n",
        "        if len(s) == 1:\n",
        "            return False\n",
        "\n",
        "        start, chunks = 0, []\n",
        "        for end in range(1, len(s)):\n",
        "\n",
        "            if s[start: end] == s[end: end + end]:\n",
        "                chunks.append(s[start: end])\n",
        "\n",
        "        history = []\n",
        "        def iterate(chunk):\n",
        "            for i in range(0, len(s), len(chunk)):\n",
        "\n",
        "                if chunk != s[i: i + len(chunk)]:\n",
        "                    return False\n",
        "\n",
        "            return True\n",
        "\n",
        "        for chunk in chunks:\n",
        "            history.append(iterate(chunk))\n",
        "\n",
        "        return history.count(True) > 0"
      ],
      "metadata": {
        "id": "VIQ0OIYKgSV9"
      },
      "execution_count": null,
      "outputs": []
    },
    {
      "cell_type": "markdown",
      "source": [
        "## Hamming Distance\n",
        "https://leetcode.com/problems/hamming-distance/description/"
      ],
      "metadata": {
        "id": "vC7CfrKNL7AD"
      }
    },
    {
      "cell_type": "markdown",
      "source": [
        "### Solution (Bit operation)\n",
        "\n",
        "It XORs (bitwise exclusive OR) x and y, which results in a new binary number where each bit represents the difference between the corresponding bits in x and y. Then, it counts the number of '1's in the binary representation of the XOR result using the count method on the binary string."
      ],
      "metadata": {
        "id": "prtxkzi_WCg5"
      }
    },
    {
      "cell_type": "code",
      "source": [
        "class Solution:\n",
        "    def hammingDistance(self, x: int, y: int) -> int:\n",
        "\n",
        "        return bin(x ^ y).count('1')"
      ],
      "metadata": {
        "colab": {
          "base_uri": "https://localhost:8080/"
        },
        "id": "_cIKVpGWM0z1",
        "outputId": "7d56e388-d48b-41d4-c3cb-36b90b119dfd"
      },
      "execution_count": null,
      "outputs": [
        {
          "output_type": "stream",
          "name": "stdout",
          "text": [
            "[] [2]\n"
          ]
        }
      ]
    },
    {
      "cell_type": "markdown",
      "source": [
        "### Solution (Convert to List)\n"
      ],
      "metadata": {
        "id": "mqsDrnHxZaE_"
      }
    },
    {
      "cell_type": "code",
      "source": [
        "class Solution:\n",
        "    def hammingDistance(self, x: int, y: int) -> int:\n",
        "\n",
        "        binary_x = self.int_to_binary(x)\n",
        "        binary_y = self.int_to_binary(y)\n",
        "\n",
        "        max_len = max(len(binary_x), len(binary_y))\n",
        "        binary_x = binary_x.zfill(max_len)\n",
        "        binary_y = binary_y.zfill(max_len)\n",
        "\n",
        "        hamming_distance = 0\n",
        "\n",
        "        for bit_x, bit_y in zip(binary_x, binary_y):\n",
        "            if bit_x != bit_y:\n",
        "                hamming_distance += 1\n",
        "\n",
        "        return hamming_distance\n",
        "\n",
        "    def int_to_binary(self, num: int) -> str:\n",
        "        if num == 0:\n",
        "            return \"0\"\n",
        "\n",
        "        binary = \"\"\n",
        "        while num > 0:\n",
        "            binary = str(num % 2) + binary\n",
        "            num = num // 2\n",
        "\n",
        "        return binary"
      ],
      "metadata": {
        "id": "V1tUNTGuZdYL"
      },
      "execution_count": null,
      "outputs": []
    },
    {
      "cell_type": "markdown",
      "source": [
        "## Next Greater Element I\n",
        "\n",
        "https://leetcode.com/problems/next-greater-element-i/description/"
      ],
      "metadata": {
        "id": "C5qvcdTwdmTQ"
      }
    },
    {
      "cell_type": "markdown",
      "source": [
        "### Solution (Nested For Loops)"
      ],
      "metadata": {
        "id": "u8le3IOCd9A4"
      }
    },
    {
      "cell_type": "code",
      "source": [
        "class Solution:\n",
        "    def nextGreaterElement(self, nums1: List[int], nums2: List[int]) -> List[int]:\n",
        "\n",
        "        result = [-1] * (len(nums1))\n",
        "        for idx, this in enumerate(nums1):\n",
        "\n",
        "            for idx2 in range(nums2.index(this) + 1, len(nums2)):\n",
        "                other = nums2[idx2]\n",
        "\n",
        "                if this < other:\n",
        "                    result[idx] = other\n",
        "                    break\n",
        "\n",
        "        return result"
      ],
      "metadata": {
        "id": "1Y2kSjFXgQul"
      },
      "execution_count": null,
      "outputs": []
    },
    {
      "cell_type": "markdown",
      "source": [
        "### Solution (Stack)\n",
        "\n",
        "First, it iterates through nums2 using a stack to keep track of elements. For each element, it checks if it is greater than the elements at the top of the stack. If so, it updates the nextMap dictionary with the current element and pops elements from the stack until the condition is no longer met."
      ],
      "metadata": {
        "id": "7t6BHQpzk9kI"
      }
    },
    {
      "cell_type": "code",
      "source": [
        "class Solution:\n",
        "    def nextGreaterElement(self, nums1: List[int], nums2: List[int]) -> List[int]:\n",
        "\n",
        "        stack = []\n",
        "        nextMap = {}\n",
        "\n",
        "        for num in nums2:\n",
        "            while stack and stack[-1] < num:\n",
        "                nextMap[stack.pop()] = num\n",
        "\n",
        "            stack.append(num)\n",
        "\n",
        "        answer = [-1] * len(nums1)\n",
        "        for idx, num in enumerate(nums1):\n",
        "\n",
        "            if nextMap.get(num, 0):\n",
        "                answer[idx] = nextMap[num]\n",
        "\n",
        "        return answer"
      ],
      "metadata": {
        "id": "0lglFEOipbRU"
      },
      "execution_count": null,
      "outputs": []
    },
    {
      "cell_type": "markdown",
      "source": [
        "## Array Partition\n",
        "https://leetcode.com/problems/array-partition/description/"
      ],
      "metadata": {
        "id": "7_MwY3FXxPzR"
      }
    },
    {
      "cell_type": "markdown",
      "source": [
        "### Solution"
      ],
      "metadata": {
        "id": "QP3hI2Z6xmcu"
      }
    },
    {
      "cell_type": "code",
      "source": [
        "class Solution:\n",
        "    def arrayPairSum(self, nums: List[int]) -> int:\n",
        "\n",
        "        nums.sort()\n",
        "\n",
        "        if len(nums) == 2:\n",
        "            return nums[0]\n",
        "\n",
        "        sum = 0\n",
        "        for i in range(0, len(nums) - 1, 2):\n",
        "            sum += nums[i]\n",
        "\n",
        "        return sum"
      ],
      "metadata": {
        "id": "OHRi2K2e0Iz7"
      },
      "execution_count": null,
      "outputs": []
    },
    {
      "cell_type": "markdown",
      "source": [
        "## Merge Two Binary Trees\n",
        "https://leetcode.com/problems/merge-two-binary-trees/description/"
      ],
      "metadata": {
        "id": "R3IaEgD-1f6C"
      }
    },
    {
      "cell_type": "markdown",
      "source": [
        "### Solution (Recursive Call)"
      ],
      "metadata": {
        "id": "9aZ6uH811mmI"
      }
    },
    {
      "cell_type": "code",
      "source": [
        "class Solution:\n",
        "    def mergeTrees(self, root1: Optional[TreeNode], root2: Optional[TreeNode]) -> Optional[TreeNode]:\n",
        "\n",
        "        if root1 and root2:\n",
        "\n",
        "            root1.val = root1.val + root2.val\n",
        "\n",
        "            root1.left = self.mergeTrees(root1.left, root2.left)\n",
        "            root1.right = self.mergeTrees(root1.right, root2.right)\n",
        "\n",
        "            return root1\n",
        "\n",
        "        if not root1:\n",
        "            return root2\n",
        "\n",
        "        if not root2:\n",
        "            return root1"
      ],
      "metadata": {
        "id": "GEcea2WN1nYa"
      },
      "execution_count": null,
      "outputs": []
    },
    {
      "cell_type": "markdown",
      "source": [
        "## Binary Search\n",
        "https://leetcode.com/problems/binary-search/description/"
      ],
      "metadata": {
        "id": "wmn8Go6d36At"
      }
    },
    {
      "cell_type": "markdown",
      "source": [
        "### Solution (Binary Search)"
      ],
      "metadata": {
        "id": "YjNuUqZp3_cE"
      }
    },
    {
      "cell_type": "code",
      "source": [
        "class Solution:\n",
        "    def search(self, nums: List[int], target: int) -> int:\n",
        "\n",
        "        start, end = 0, len(nums) - 1\n",
        "\n",
        "        while start <= end:\n",
        "            mid = start + (end - start) // 2\n",
        "\n",
        "            if nums[mid] < target:\n",
        "                start = mid + 1\n",
        "\n",
        "            elif nums[mid] > target:\n",
        "                end = mid - 1\n",
        "\n",
        "            else:\n",
        "                return mid\n",
        "\n",
        "        return -1"
      ],
      "metadata": {
        "id": "eWihpVjJ4BAD"
      },
      "execution_count": null,
      "outputs": []
    },
    {
      "cell_type": "markdown",
      "source": [
        "## Can Place Flowers\n",
        "https://leetcode.com/problems/can-place-flowers/description/"
      ],
      "metadata": {
        "id": "vGLk2Klx4-Sa"
      }
    },
    {
      "cell_type": "markdown",
      "source": [
        "### Solution (Greedy algorithms)\n",
        "\n",
        "Inside the loop, we check if the current position i is a valid spot to plant a flower:\n",
        "- If `flowerbed[i] == 0`, it means the current spot is empty.\n",
        "We also check the adjacent spots:\n",
        "    - If `i == 0` (first position) or `flowerbed[i - 1] == 0`, it means the previous spot (if it exists) is empty.\n",
        "    - If `i == len(flowerbed) - 1` (last position) or `flowerbed[i + 1] == 0`, it means the next spot (if it exists) is empty.\n",
        "\n",
        "The key concept of greediness here is that we make a locally optimal choice at each step (i.e., plant a flower if it's possible without violating adjacent flower rules) with the hope that these choices will lead to a globally optimal solution (i.e., maximizing the number of planted flowers)."
      ],
      "metadata": {
        "id": "JJwrS5si5EwL"
      }
    },
    {
      "cell_type": "code",
      "source": [
        "class Solution:\n",
        "    def canPlaceFlowers(self, flowerbed: List[int], n: int) -> bool:\n",
        "        count = 0\n",
        "        i = 0\n",
        "\n",
        "        while i < len(flowerbed):\n",
        "            if flowerbed[i] == 0:\n",
        "                if i == 0 or flowerbed[i - 1] == 0:\n",
        "                    if i == len(flowerbed) - 1 or flowerbed[i + 1] == 0:\n",
        "                        flowerbed[i] = 1\n",
        "                        count += 1\n",
        "            i += 1\n",
        "\n",
        "        return count >= n"
      ],
      "metadata": {
        "id": "2gdTcEKD5F3A"
      },
      "execution_count": null,
      "outputs": []
    },
    {
      "cell_type": "markdown",
      "source": [
        "## Jewels and Stones\n",
        "https://leetcode.com/problems/jewels-and-stones/description/"
      ],
      "metadata": {
        "id": "osdZNMsQPc6_"
      }
    },
    {
      "cell_type": "markdown",
      "source": [
        "### Solution"
      ],
      "metadata": {
        "id": "dMIWCjsDTngm"
      }
    },
    {
      "cell_type": "code",
      "source": [
        "class Solution:\n",
        "    def numJewelsInStones(self, jewels: str, stones: str) -> int:\n",
        "\n",
        "        counter = {}\n",
        "        for stone in stones:\n",
        "            if stone not in counter:\n",
        "                counter[stone] = 1\n",
        "            else:\n",
        "                counter[stone] += 1\n",
        "\n",
        "        occurence = 0\n",
        "        for jewel in jewels:\n",
        "            if jewel in counter:\n",
        "                occurence += counter[jewel]\n",
        "\n",
        "        return occurence"
      ],
      "metadata": {
        "id": "lM7cJR52TubW"
      },
      "execution_count": null,
      "outputs": []
    },
    {
      "cell_type": "markdown",
      "source": [
        "## Minimum Distance Between BST Nodes\n",
        "\n",
        "https://leetcode.com/problems/minimum-distance-between-bst-nodes/description/"
      ],
      "metadata": {
        "id": "lpgjf5ORT54j"
      }
    },
    {
      "cell_type": "markdown",
      "source": [
        "### Solution\n",
        "\n",
        "It employs two global variables, dist and prev, to keep track of the minimum distance and the previous node's value, respectively, as it traverses the BST. The global variables provide a convenient way to maintain state across recursive calls, ultimately returning the minimum absolute difference once the traversal is complete.\n",
        "\n",
        "In an \"in-order\" traversal, the algorithm explores the BST nodes in ascending order of their values."
      ],
      "metadata": {
        "id": "BWTyg72qUKZH"
      }
    },
    {
      "cell_type": "code",
      "source": [
        "class Solution:\n",
        "\n",
        "    dist:int = sys.maxsize\n",
        "    prev:int = -sys.maxsize\n",
        "    def minDiffInBST(self, root: Optional[TreeNode]) -> int:\n",
        "\n",
        "        def dfs(node: Optional[TreeNode]):\n",
        "\n",
        "            if node is None:\n",
        "                return\n",
        "\n",
        "            dfs(node.left)\n",
        "\n",
        "            self.dist = min(self.dist, node.val - self.prev)\n",
        "            self.prev = node.val\n",
        "\n",
        "            dfs(node.right)\n",
        "\n",
        "        dfs(root)\n",
        "\n",
        "        return self.dist"
      ],
      "metadata": {
        "id": "vOGpUJ3Agfx5"
      },
      "execution_count": null,
      "outputs": []
    },
    {
      "cell_type": "markdown",
      "source": [
        "## Most Common Word\n",
        "https://leetcode.com/problems/most-common-word/description/\n"
      ],
      "metadata": {
        "id": "yOyDRqHUpSJc"
      }
    },
    {
      "cell_type": "markdown",
      "source": [
        "### Solution (Regular Expression)\n"
      ],
      "metadata": {
        "id": "M0y7vIE_pVBi"
      }
    },
    {
      "cell_type": "code",
      "source": [
        "class Solution:\n",
        "    def mostCommonWord(self, paragraph: str, banned: List[str]) -> str:\n",
        "        counter = {}\n",
        "        words = re.sub(r'[^\\w]', ' ', paragraph.lower()).split()\n",
        "\n",
        "        for word in words:\n",
        "            if word not in banned:\n",
        "                if word not in counter:\n",
        "                    counter[word] = 1\n",
        "                else:\n",
        "                    counter[word] += 1\n",
        "\n",
        "        return list(map(\n",
        "            lambda item: item[0],\n",
        "            sorted(counter.items(), key = lambda item: item[1])\n",
        "        ))[-1]"
      ],
      "metadata": {
        "id": "wzuezK6HmWCa"
      },
      "execution_count": null,
      "outputs": []
    },
    {
      "cell_type": "markdown",
      "source": [
        "## Range Sum of BST\n",
        "https://leetcode.com/problems/range-sum-of-bst/description/"
      ],
      "metadata": {
        "id": "oy4d3k9J1kZM"
      }
    },
    {
      "cell_type": "markdown",
      "source": [
        "### Solution"
      ],
      "metadata": {
        "id": "2P849g9W16EM"
      }
    },
    {
      "cell_type": "code",
      "source": [
        "class Solution:\n",
        "\n",
        "    sum = 0\n",
        "    def rangeSumBST(self, root: Optional[TreeNode], low: int, high: int) -> int:\n",
        "\n",
        "        def dfs(node: Optional[TreeNode]):\n",
        "\n",
        "            if node is None:\n",
        "                return\n",
        "\n",
        "            dfs(node.left)\n",
        "\n",
        "            if node.val >= low and node.val <= high:\n",
        "                self.sum += node.val\n",
        "\n",
        "            dfs(node.right)\n",
        "\n",
        "        dfs(root)\n",
        "\n",
        "        return self.sum"
      ],
      "metadata": {
        "id": "yoiJt_el3b9Q"
      },
      "execution_count": null,
      "outputs": []
    },
    {
      "cell_type": "markdown",
      "source": [
        "### Solution (Optimized)"
      ],
      "metadata": {
        "id": "BSA6zz213c-z"
      }
    },
    {
      "cell_type": "code",
      "source": [
        "class Solution:\n",
        "\n",
        "    sum = 0\n",
        "    def rangeSumBST(self, root: Optional[TreeNode], low: int, high: int) -> int:\n",
        "\n",
        "        def dfs(node: Optional[TreeNode]):\n",
        "\n",
        "            if node is None:\n",
        "                return\n",
        "\n",
        "            if node.val >= low:\n",
        "                dfs(node.left)\n",
        "\n",
        "            if node.val >= low and node.val <= high:\n",
        "                self.sum += node.val\n",
        "\n",
        "            if node.val <= high:\n",
        "                dfs(node.right)\n",
        "\n",
        "        dfs(root)\n",
        "\n",
        "        return self.sum"
      ],
      "metadata": {
        "id": "fnkeSEIB33iF"
      },
      "execution_count": null,
      "outputs": []
    },
    {
      "cell_type": "markdown",
      "source": [
        "### Soltuion (Stack)"
      ],
      "metadata": {
        "id": "lWHEtiLL3-tt"
      }
    },
    {
      "cell_type": "code",
      "source": [
        "class Solution:\n",
        "\n",
        "    sum = 0\n",
        "    def rangeSumBST(self, root: Optional[TreeNode], low: int, high: int) -> int:\n",
        "\n",
        "        stack = [root]\n",
        "        sum = 0\n",
        "\n",
        "        while stack:\n",
        "\n",
        "            node = stack.pop()\n",
        "\n",
        "            if node:\n",
        "\n",
        "                if node.val > low:\n",
        "                    stack.append(node.left)\n",
        "                if node.val < high:\n",
        "                    stack.append(node.right)\n",
        "\n",
        "                if node.val >= low and node.val <= high:\n",
        "                    sum += node.val\n",
        "\n",
        "        return sum"
      ],
      "metadata": {
        "id": "R9CiLjvm4BxS"
      },
      "execution_count": null,
      "outputs": []
    },
    {
      "cell_type": "markdown",
      "source": [
        "## Greatest Common Divisor of Strings\n",
        "\n",
        "https://leetcode.com/problems/greatest-common-divisor-of-strings/description/"
      ],
      "metadata": {
        "id": "ERVM9PExBtfp"
      }
    },
    {
      "cell_type": "markdown",
      "source": [
        "### Solution (String comparison)\n",
        "\n",
        "This code checks if str1 + str2 is equal to str2 + str1. If they are equal, it means there's a common divisor string. Then, it uses the GCD function to find the greatest common divisor of the lengths of str1 and str2 and returns the corresponding substring of str1."
      ],
      "metadata": {
        "id": "1XNo6YpSByIz"
      }
    },
    {
      "cell_type": "code",
      "source": [
        "class Solution:\n",
        "    def gcdOfStrings(self, str1: str, str2: str) -> str:\n",
        "        if str1 + str2 != str2 + str1:\n",
        "            return ''\n",
        "\n",
        "        def gcd(a, b):\n",
        "            while b:\n",
        "                a, b = b, a % b\n",
        "            return a\n",
        "\n",
        "        return str1[:gcd(len(str1), len(str2))]"
      ],
      "metadata": {
        "id": "vwgr2jTq7UCm"
      },
      "execution_count": null,
      "outputs": []
    },
    {
      "cell_type": "markdown",
      "source": [
        "## N-th Tribonacci Number\n",
        "https://leetcode.com/problems/n-th-tribonacci-number/description/"
      ],
      "metadata": {
        "id": "30QUxli6ER2H"
      }
    },
    {
      "cell_type": "markdown",
      "source": [
        "### Solution (Memoization)"
      ],
      "metadata": {
        "id": "LChVvXmxEUZJ"
      }
    },
    {
      "cell_type": "code",
      "source": [
        "class Solution:\n",
        "\n",
        "    dp = {}\n",
        "    def tribonacci(self, n: int) -> int:\n",
        "\n",
        "        if n <= 1:\n",
        "            return n\n",
        "        if n == 2:\n",
        "            return 1\n",
        "\n",
        "        if n not in self.dp:\n",
        "            self.dp[n] = self.tribonacci(n - 1) + self.tribonacci(n - 2) + self.tribonacci(n - 3)\n",
        "\n",
        "        return self.dp[n]"
      ],
      "metadata": {
        "colab": {
          "base_uri": "https://localhost:8080/"
        },
        "id": "HbuuGHaLEgEi",
        "outputId": "76e02691-a043-4908-9c39-f8fdc0904b16"
      },
      "execution_count": null,
      "outputs": [
        {
          "output_type": "stream",
          "name": "stdout",
          "text": [
            "hi\n"
          ]
        }
      ]
    },
    {
      "cell_type": "markdown",
      "source": [
        "## Check If It Is a Straight Line\n",
        "https://leetcode.com/problems/check-if-it-is-a-straight-line/description/"
      ],
      "metadata": {
        "id": "hXAfLSNJG6kx"
      }
    },
    {
      "cell_type": "markdown",
      "source": [
        "### Solution (Stack)"
      ],
      "metadata": {
        "id": "_lreljijHAIx"
      }
    },
    {
      "cell_type": "code",
      "source": [
        "class Solution:\n",
        "    def checkStraightLine(self, coordinates: List[List[int]]) -> bool:\n",
        "\n",
        "        stack = []\n",
        "        for i in range(len(coordinates) - 1):\n",
        "\n",
        "            cur, next = coordinates[i], coordinates[i + 1]\n",
        "\n",
        "            if (next[0] != cur[0]):\n",
        "                grad = (next[1] - cur[1]) // (next[0] - cur[0])\n",
        "            else:\n",
        "                grad = sys.maxsize\n",
        "\n",
        "            if stack and stack[-1] != grad:\n",
        "                return False\n",
        "\n",
        "            stack.append(grad)\n",
        "\n",
        "        return True"
      ],
      "metadata": {
        "id": "u_zWkGUVJsu-"
      },
      "execution_count": null,
      "outputs": []
    },
    {
      "cell_type": "markdown",
      "source": [
        "## Kids With the Greatest Number of Candies\n",
        "\n",
        "https://leetcode.com/problems/kids-with-the-greatest-number-of-candies/description/"
      ],
      "metadata": {
        "id": "yZ7mHucTJ74R"
      }
    },
    {
      "cell_type": "markdown",
      "source": [
        "### Solution"
      ],
      "metadata": {
        "id": "etYWNoW_L15a"
      }
    },
    {
      "cell_type": "code",
      "source": [
        "class Solution:\n",
        "    def kidsWithCandies(self, candies: List[int], extraCandies: int) -> List[bool]:\n",
        "\n",
        "        stack = []\n",
        "        greatest = -1\n",
        "        for candy in candies:\n",
        "\n",
        "            while stack and stack[-1] < candy:\n",
        "                greatest = max(greatest, stack.pop())\n",
        "\n",
        "            stack.append(candy)\n",
        "\n",
        "\n",
        "        answer = [False] * len(candies)\n",
        "\n",
        "        for i, candy in enumerate(candies):\n",
        "\n",
        "            if candy + extraCandies >= greatest:\n",
        "                answer[i] = True\n",
        "\n",
        "        return answer"
      ],
      "metadata": {
        "id": "PBENPTLjLXW9"
      },
      "execution_count": null,
      "outputs": []
    },
    {
      "cell_type": "markdown",
      "source": [
        "## Shuffle the Array\n",
        "https://leetcode.com/problems/shuffle-the-array/"
      ],
      "metadata": {
        "id": "76bGmReSR-8N"
      }
    },
    {
      "cell_type": "markdown",
      "source": [
        "### Solution"
      ],
      "metadata": {
        "id": "OrdexIN4SDNI"
      }
    },
    {
      "cell_type": "code",
      "source": [
        "class Solution:\n",
        "    def shuffle(self, nums: List[int], n: int) -> List[int]:\n",
        "\n",
        "        mid = len(nums) // 2\n",
        "        answer = []\n",
        "\n",
        "        for i in range(mid):\n",
        "            answer.append(nums[i])\n",
        "            answer.append(nums[i + mid])\n",
        "\n",
        "        return answer"
      ],
      "metadata": {
        "id": "IG7ogpyFRhpt"
      },
      "execution_count": null,
      "outputs": []
    },
    {
      "cell_type": "markdown",
      "source": [
        "## Kth Missing Positive Number\n",
        "\n",
        "https://leetcode.com/problems/kth-missing-positive-number/description/"
      ],
      "metadata": {
        "id": "uxLuir3qq60R"
      }
    },
    {
      "cell_type": "markdown",
      "source": [
        "### Solution (Two Pointers)"
      ],
      "metadata": {
        "id": "uucBKYoDrAkR"
      }
    },
    {
      "cell_type": "code",
      "source": [
        "class Solution:\n",
        "    def findKthPositive(self, arr: List[int], k: int) -> int:\n",
        "\n",
        "        last = arr[-1]\n",
        "        filled = [i for i in range(last + 1)][1:]\n",
        "\n",
        "        count, i = 0, 0\n",
        "        for j in range(len(filled)):\n",
        "            if count == k:\n",
        "                return filled[j - 1]\n",
        "\n",
        "            if filled[j] != arr[i]:\n",
        "                count += 1\n",
        "\n",
        "            else:\n",
        "                i += 1\n",
        "\n",
        "        if count < k:\n",
        "            return last + k - count"
      ],
      "metadata": {
        "id": "enje4RNrq8GE"
      },
      "execution_count": null,
      "outputs": []
    },
    {
      "cell_type": "markdown",
      "source": [
        "### Solution (Binary Search)"
      ],
      "metadata": {
        "id": "_lvtMWal7STt"
      }
    },
    {
      "cell_type": "code",
      "source": [
        "class Solution:\n",
        "    def findKthPositive(self, arr: List[int], k: int) -> int:\n",
        "\n",
        "        left, right = 0, len(arr) - 1\n",
        "        while left <= right:\n",
        "            mid = (left + right) // 2\n",
        "\n",
        "            if arr[mid] - mid - 1 < k:\n",
        "                left = mid + 1\n",
        "            else:\n",
        "                right = mid - 1\n",
        "\n",
        "        return right + 1 + k"
      ],
      "metadata": {
        "id": "3VUNDlBG7VPe"
      },
      "execution_count": null,
      "outputs": []
    },
    {
      "cell_type": "markdown",
      "source": [
        "## Number of Students Unable to Eat Lunch\n",
        "\n",
        "https://leetcode.com/problems/number-of-students-unable-to-eat-lunch/description/"
      ],
      "metadata": {
        "id": "FSpTep0VImFN"
      }
    },
    {
      "cell_type": "markdown",
      "source": [
        "### Solution (Stack)"
      ],
      "metadata": {
        "id": "r620cSSnIqmz"
      }
    },
    {
      "cell_type": "code",
      "source": [
        "class Solution:\n",
        "    def countStudents(self, students: List[int], sandwiches: List[int]) -> int:\n",
        "\n",
        "        while students:\n",
        "\n",
        "            cur = students.pop(0)\n",
        "\n",
        "            if cur == sandwiches[0]:\n",
        "                sandwiches.pop(0)\n",
        "            else:\n",
        "                students.append(cur)\n",
        "\n",
        "            if sandwiches and sandwiches[0] not in students:\n",
        "                break\n",
        "\n",
        "        return len(students)"
      ],
      "metadata": {
        "id": "QqMSneWYK8Vj"
      },
      "execution_count": null,
      "outputs": []
    },
    {
      "cell_type": "markdown",
      "source": [
        "## Sign of the Product of an Array\n",
        "\n",
        "https://leetcode.com/problems/sign-of-the-product-of-an-array/description/"
      ],
      "metadata": {
        "id": "w8u63CwkN5Vn"
      }
    },
    {
      "cell_type": "markdown",
      "source": [
        "### Solution"
      ],
      "metadata": {
        "id": "_vhOI8UFN9fd"
      }
    },
    {
      "cell_type": "code",
      "source": [
        "class Solution:\n",
        "    def arraySign(self, nums: List[int]) -> int:\n",
        "\n",
        "        prod = 1\n",
        "        for num in nums:\n",
        "            if num == 0:\n",
        "                return 0\n",
        "\n",
        "            prod *= num\n",
        "\n",
        "        if prod > 1:\n",
        "            return 1\n",
        "        else:\n",
        "            return - 1"
      ],
      "metadata": {
        "id": "-3wBAa0ZN_5P"
      },
      "execution_count": null,
      "outputs": []
    },
    {
      "cell_type": "markdown",
      "source": [
        "## Permutation\n",
        "https://leetcode.com/problems/permutations/"
      ],
      "metadata": {
        "id": "tFxaXXyQuDWd"
      }
    },
    {
      "cell_type": "markdown",
      "source": [
        "### Solution"
      ],
      "metadata": {
        "id": "lr_p603KuEw1"
      }
    },
    {
      "cell_type": "code",
      "source": [
        "class Solution:\n",
        "    def permute(self, nums: List[int]) -> List[List[int]]:\n",
        "\n",
        "        answer = []\n",
        "        def dfs(cur: List[int], prev: List[int]):\n",
        "\n",
        "            if len(prev) == len(nums):\n",
        "                answer.append(prev[:])\n",
        "                return\n",
        "\n",
        "            for elem in cur:\n",
        "\n",
        "                prev.append(elem)\n",
        "                next = cur[:]\n",
        "                next.remove(elem)\n",
        "\n",
        "                dfs(next, prev)\n",
        "\n",
        "                prev.pop()\n",
        "\n",
        "        dfs(nums, [])\n",
        "\n",
        "        return answer"
      ],
      "metadata": {
        "id": "9DbfuRAWuFr9"
      },
      "execution_count": null,
      "outputs": []
    },
    {
      "cell_type": "markdown",
      "source": [
        "## Roman to Integer\n",
        "https://leetcode.com/problems/roman-to-integer/description/"
      ],
      "metadata": {
        "id": "ZBubfVttOvfi"
      }
    },
    {
      "cell_type": "markdown",
      "source": [
        "### Solution (Stack)"
      ],
      "metadata": {
        "id": "D_bSO3jTO0Bq"
      }
    },
    {
      "cell_type": "code",
      "source": [
        "class Solution:\n",
        "    def romanToInt(self, s: str) -> int:\n",
        "\n",
        "        val_dict = {\n",
        "            \"I\": 1, \"V\": 5, \"X\": 10, \"L\": 50, \"C\": 100, \"D\": 500, \"M\": 1000\n",
        "        }\n",
        "\n",
        "        sub_pattern = {\n",
        "            \"V\": \"I\",\n",
        "            \"X\": \"I\",\n",
        "            \"L\": \"X\",\n",
        "            \"C\": \"X\",\n",
        "            \"D\": \"C\",\n",
        "            \"M\": \"C\"\n",
        "        }\n",
        "\n",
        "        sum = 0\n",
        "        stack = []\n",
        "        for char in s:\n",
        "            if sub_pattern.get(char, 0):\n",
        "                if stack and stack[-1] == sub_pattern[char]:\n",
        "                    sum = sum - val_dict[stack.pop()] * 2\n",
        "\n",
        "            sum += val_dict[char]\n",
        "            stack.append(char)\n",
        "\n",
        "        return sum"
      ],
      "metadata": {
        "id": "HXoonNRlO1_9"
      },
      "execution_count": null,
      "outputs": []
    },
    {
      "cell_type": "markdown",
      "source": [
        "## Longest Common Prefix\n",
        "https://leetcode.com/problems/longest-common-prefix/description/"
      ],
      "metadata": {
        "id": "iqJ7oCVkP3mo"
      }
    },
    {
      "cell_type": "code",
      "source": [
        "class Solution:\n",
        "    def longestCommonPrefix(self, strs: List[str]) -> str:\n",
        "\n",
        "        stack = []\n",
        "        idx = len(strs[0])\n",
        "        for word in strs:\n",
        "\n",
        "            if stack:\n",
        "                while idx > 0:\n",
        "                    if stack[-1][:idx] == word[:idx]:\n",
        "                        break\n",
        "                    idx -= 1\n",
        "\n",
        "            stack.append(word)\n",
        "\n",
        "        return stack[-1][:idx]\n",
        "\n",
        "\n",
        "sol = Solution()\n",
        "sol.longestCommonPrefix([\"flower\",\"flower\", \"flowering\", \"flower\"])"
      ],
      "metadata": {
        "colab": {
          "base_uri": "https://localhost:8080/",
          "height": 35
        },
        "id": "9Fkf4ALaXur9",
        "outputId": "a435b5c4-e91f-4d75-c967-7c92268e2360"
      },
      "execution_count": null,
      "outputs": [
        {
          "output_type": "execute_result",
          "data": {
            "text/plain": [
              "'flower'"
            ],
            "application/vnd.google.colaboratory.intrinsic+json": {
              "type": "string"
            }
          },
          "metadata": {},
          "execution_count": 106
        }
      ]
    },
    {
      "cell_type": "markdown",
      "source": [
        "## Remove Duplicates from Sorted Array\n",
        "https://leetcode.com/problems/remove-duplicates-from-sorted-array/description/"
      ],
      "metadata": {
        "id": "V6dYEO9SczkV"
      }
    },
    {
      "cell_type": "markdown",
      "source": [
        "### Solution (List)"
      ],
      "metadata": {
        "id": "nVzUSa67c8WE"
      }
    },
    {
      "cell_type": "code",
      "source": [
        "class Solution:\n",
        "    def removeDuplicates(self, nums: List[int]) -> int:\n",
        "\n",
        "        ## modify nums array, then return the length of it\n",
        "        if nums is None:\n",
        "            return 0\n",
        "\n",
        "        uniques = []\n",
        "        for num in nums:\n",
        "            if num not in uniques:\n",
        "                uniques.append(num)\n",
        "\n",
        "        nums[:len(uniques)] = uniques\n",
        "\n",
        "        return len(uniques)"
      ],
      "metadata": {
        "id": "BWp1P6lfc-wK"
      },
      "execution_count": null,
      "outputs": []
    },
    {
      "cell_type": "markdown",
      "source": [
        "### Solution (Two Pointers)"
      ],
      "metadata": {
        "id": "cY_GsCiXfweK"
      }
    },
    {
      "cell_type": "code",
      "source": [
        "class Solution:\n",
        "    def removeDuplicates(self, nums: List[int]) -> int:\n",
        "        i, j = 0, 1\n",
        "        while i <= j and j < len(nums):\n",
        "            if nums[i] == nums[j]:\n",
        "                j += 1\n",
        "            else:\n",
        "                nums[i + 1] = nums[j]\n",
        "                i += 1\n",
        "        return i + 1"
      ],
      "metadata": {
        "id": "1xKk_dfRfy5F"
      },
      "execution_count": null,
      "outputs": []
    },
    {
      "cell_type": "markdown",
      "source": [
        "## Remove Element\n",
        "https://leetcode.com/problems/remove-element/description/"
      ],
      "metadata": {
        "id": "6Bwa0uuBiyiy"
      }
    },
    {
      "cell_type": "markdown",
      "source": [
        "### Solution (While Loop)"
      ],
      "metadata": {
        "id": "okIBW3rYi4k_"
      }
    },
    {
      "cell_type": "code",
      "source": [
        "class Solution:\n",
        "    def removeElement(self, nums: List[int], val: int) -> int:\n",
        "        i = 0\n",
        "\n",
        "        while i < len(nums):\n",
        "            if nums[i] == val:\n",
        "                nums.pop(i)\n",
        "            else:\n",
        "                i += 1\n",
        "\n",
        "        return len(nums)"
      ],
      "metadata": {
        "id": "s10DdR3Zi7rJ"
      },
      "execution_count": null,
      "outputs": []
    },
    {
      "cell_type": "markdown",
      "source": [
        "### Solution (For Loop)\n",
        "\n",
        "It creates a copy of the original list using `nums_temp = nums[:]` to prevent modifying the list while iterating over it. Then, it iterates through the `nums` list, removing any instances of `val` from the `nums_temp` copy. Finally, it updates the original `nums` list with the modified `nums_temp` list using `nums[:] = nums_temp`. `nums[:] = nums_temp` is used to update the original list's content, while `nums = nums_temp` would rebind the variable nums to a different list, leaving the original list unchanged."
      ],
      "metadata": {
        "id": "0f12utUak3OX"
      }
    },
    {
      "cell_type": "code",
      "source": [
        "class Solution:\n",
        "    def removeElement(self, nums: List[int], val: int) -> int:\n",
        "\n",
        "        nums_temp = nums[:]\n",
        "        for num in nums:\n",
        "            if num == val:\n",
        "                nums_temp.remove(num)\n",
        "\n",
        "        nums[:] = nums_temp\n",
        "\n",
        "        return len(nums)"
      ],
      "metadata": {
        "id": "j6Sqqggmk7wM"
      },
      "execution_count": null,
      "outputs": []
    },
    {
      "cell_type": "markdown",
      "source": [
        "## Length of Last Word\n",
        "https://leetcode.com/problems/length-of-last-word/description/"
      ],
      "metadata": {
        "id": "etRQbOtyxRBL"
      }
    },
    {
      "cell_type": "markdown",
      "source": [
        "### Solution (Split)"
      ],
      "metadata": {
        "id": "397G4GPSxVId"
      }
    },
    {
      "cell_type": "code",
      "source": [
        "class Solution:\n",
        "    def lengthOfLastWord(self, s: str) -> int:\n",
        "\n",
        "        words = s.split()\n",
        "        return len(words[-1])"
      ],
      "metadata": {
        "id": "u5pChldFxTpa"
      },
      "execution_count": null,
      "outputs": []
    },
    {
      "cell_type": "markdown",
      "source": [
        "### Solution (Two Pointers)"
      ],
      "metadata": {
        "id": "oFjlvfr-yPT7"
      }
    },
    {
      "cell_type": "code",
      "source": [
        "class Solution:\n",
        "    def lengthOfLastWord(self, s: str) -> int:\n",
        "\n",
        "        end = len(s) - 1\n",
        "        while end >= 0:\n",
        "            if s[end] != ' ':\n",
        "                break\n",
        "            end -= 1\n",
        "\n",
        "        start = end\n",
        "        while start >= 0:\n",
        "            if s[start] == ' ':\n",
        "                break\n",
        "            start -= 1\n",
        "\n",
        "        return end - start"
      ],
      "metadata": {
        "id": "ZhwS9cZozhEP"
      },
      "execution_count": null,
      "outputs": []
    },
    {
      "cell_type": "markdown",
      "source": [
        "## Add Binary\n",
        "https://leetcode.com/problems/add-binary/description/"
      ],
      "metadata": {
        "id": "xzSMpOAD4x8n"
      }
    },
    {
      "cell_type": "markdown",
      "source": [
        "### Solution (String Conversion)"
      ],
      "metadata": {
        "id": "3O61-Ns285BB"
      }
    },
    {
      "cell_type": "code",
      "source": [
        "class Solution:\n",
        "    def addBinary(self, a: str, b: str) -> str:\n",
        "\n",
        "        a, b = int(a), int(b)\n",
        "\n",
        "        if a == 0 and b == 0 :\n",
        "            return '0'\n",
        "\n",
        "        i, j = 0, 0\n",
        "        a_int, b_int = 0, 0\n",
        "\n",
        "        while a > 0:\n",
        "            a_int += (2 ** (i)) * (a % 10)\n",
        "            a //= 10\n",
        "            i += 1\n",
        "\n",
        "        while b > 0:\n",
        "            b_int += (2 ** (j))  * (b % 10)\n",
        "            b //= 10\n",
        "            j += 1\n",
        "\n",
        "        added = a_int + b_int\n",
        "        answer = ''\n",
        "        while added >= 1:\n",
        "            answer += str(added % 2)\n",
        "\n",
        "            added //= 2\n",
        "\n",
        "        return answer[::-1]"
      ],
      "metadata": {
        "id": "pbBMJR9s5cWG"
      },
      "execution_count": null,
      "outputs": []
    },
    {
      "cell_type": "markdown",
      "source": [
        "### Solution (Mathematics)"
      ],
      "metadata": {
        "id": "48bgIp_k9XvJ"
      }
    },
    {
      "cell_type": "code",
      "source": [
        "class Solution:\n",
        "    def addBinary(self, a: str, b: str) -> str:\n",
        "        history = []\n",
        "        carry = 0\n",
        "        i = len(a) - 1\n",
        "        j = len(b) - 1\n",
        "\n",
        "        while (i >= 0) or (j >= 0) or (carry):\n",
        "            if i >= 0:\n",
        "                carry += int(a[i])\n",
        "                i -= 1\n",
        "            if j >= 0:\n",
        "                carry += int(b[j])\n",
        "                j -= 1\n",
        "\n",
        "            history.append(str(carry % 2))\n",
        "            carry //= 2\n",
        "\n",
        "        return ''.join(s[::-1])"
      ],
      "metadata": {
        "id": "PIf6MpVh9bzT"
      },
      "execution_count": null,
      "outputs": []
    },
    {
      "cell_type": "markdown",
      "source": [
        "## Sqrt(x)\n",
        "https://leetcode.com/problems/sqrtx/description/"
      ],
      "metadata": {
        "id": "upkOX7QPEboJ"
      }
    },
    {
      "cell_type": "markdown",
      "source": [
        "### Solution (Accumulation)\n",
        "\n",
        "The first solution calculates the square root of x by incrementing a variable i and accumulating the squares of consecutive odd integers until the accumulated value exceeds x."
      ],
      "metadata": {
        "id": "TJnEyeEyEehT"
      }
    },
    {
      "cell_type": "code",
      "source": [
        "class Solution:\n",
        "    def mySqrt(self, x: int) -> int:\n",
        "\n",
        "        if x == 1:\n",
        "            return 1\n",
        "\n",
        "        aggregate = 0\n",
        "        answer = 0\n",
        "        for i in range(x) :\n",
        "            aggregate += 1 + 2 * i\n",
        "\n",
        "            if aggregate > x:\n",
        "                answer = i\n",
        "                break\n",
        "\n",
        "        return answer"
      ],
      "metadata": {
        "id": "7ORu5dMID7j9"
      },
      "execution_count": null,
      "outputs": []
    },
    {
      "cell_type": "markdown",
      "source": [
        "### Solution (Increment)\n",
        "This method avoids the need for explicit addition and accumulation of values, which makes it more efficient in terms of computation."
      ],
      "metadata": {
        "id": "FLDxfGXyFm-y"
      }
    },
    {
      "cell_type": "code",
      "source": [
        "class Solution:\n",
        "    def mySqrt(self, x: int) -> int:\n",
        "\n",
        "        cur = 1\n",
        "        while cur * cur <= x:\n",
        "            cur += 1\n",
        "\n",
        "        return cur - 1"
      ],
      "metadata": {
        "id": "rG3O528mFrDP"
      },
      "execution_count": null,
      "outputs": []
    },
    {
      "cell_type": "markdown",
      "source": [
        "### Solution (Binary Search)"
      ],
      "metadata": {
        "id": "Ihdb9U-2FusB"
      }
    },
    {
      "cell_type": "code",
      "source": [
        "class Solution:\n",
        "    def mySqrt(self, x: int) -> int:\n",
        "\n",
        "        start, end = 0, x\n",
        "\n",
        "        while start <= end:\n",
        "\n",
        "            mid = start + (end - start) // 2\n",
        "            print(start, end, mid)\n",
        "\n",
        "            if mid * mid < x:\n",
        "                start = mid + 1\n",
        "            elif mid * mid > x:\n",
        "                end = mid - 1\n",
        "            else:\n",
        "                return mid\n",
        "\n",
        "        return end  ## for returning the rounded down value"
      ],
      "metadata": {
        "id": "Z7Kg8x7ZGSIh"
      },
      "execution_count": null,
      "outputs": []
    },
    {
      "cell_type": "markdown",
      "source": [
        "## Remove Duplicates from Sorted List\n",
        "https://leetcode.com/problems/remove-duplicates-from-sorted-list/description/"
      ],
      "metadata": {
        "id": "Ni1EOjD0XZgd"
      }
    },
    {
      "cell_type": "markdown",
      "source": [
        "### Solution"
      ],
      "metadata": {
        "id": "6RfNFR01OtDj"
      }
    },
    {
      "cell_type": "code",
      "source": [
        "class Solution:\n",
        "    def deleteDuplicates(self, head: Optional[ListNode]) -> Optional[ListNode]:\n",
        "\n",
        "        cur = head\n",
        "        while cur and cur.next:\n",
        "            if cur.val == cur.next.val:\n",
        "                cur.next = cur.next.next\n",
        "            else:\n",
        "                cur = cur.next\n",
        "\n",
        "        return head"
      ],
      "metadata": {
        "id": "asEx_-IROuDZ"
      },
      "execution_count": null,
      "outputs": []
    },
    {
      "cell_type": "markdown",
      "source": [
        "### Solution"
      ],
      "metadata": {
        "id": "J3HRfV4-bZAr"
      }
    },
    {
      "cell_type": "code",
      "source": [
        "class Solution:\n",
        "    def deleteDuplicates(self, head: Optional[ListNode]) -> Optional[ListNode]:\n",
        "\n",
        "        root = ListNode(0)\n",
        "        root.next = head\n",
        "        unique = root\n",
        "\n",
        "        visited = set()\n",
        "        while head:\n",
        "\n",
        "            if head.val in visited:\n",
        "                head = head.next\n",
        "                continue\n",
        "\n",
        "\n",
        "            visited.add(head.val)\n",
        "            unique.next = head\n",
        "            unique = unique.next\n",
        "\n",
        "            head = head.next\n",
        "\n",
        "        unique.next = None\n",
        "\n",
        "        return root.next"
      ],
      "metadata": {
        "id": "NHqEZsK1badK"
      },
      "execution_count": null,
      "outputs": []
    },
    {
      "cell_type": "markdown",
      "source": [
        "## Merge Sorted Array\n",
        "https://leetcode.com/problems/merge-sorted-array/description/"
      ],
      "metadata": {
        "id": "fnXcFxaFVC44"
      }
    },
    {
      "cell_type": "markdown",
      "source": [
        "### Solution (Two Pointers)"
      ],
      "metadata": {
        "id": "dQEfU4h8VHES"
      }
    },
    {
      "cell_type": "code",
      "source": [
        "class Solution:\n",
        "    def merge(self, nums1: List[int], m: int, nums2: List[int], n: int) -> None:\n",
        "        i, j, k = m - 1, n - 1, m + n - 1\n",
        "\n",
        "        while i >= 0 and j >= 0:\n",
        "            if nums1[i] > nums2[j]:\n",
        "                nums1[k] = nums1[i]\n",
        "                i -= 1\n",
        "            else:\n",
        "                nums1[k] = nums2[j]\n",
        "                j -= 1\n",
        "            k -= 1\n",
        "\n",
        "        while j >= 0:\n",
        "            nums1[k] = nums2[j]\n",
        "            j -= 1\n",
        "            k -= 1"
      ],
      "metadata": {
        "id": "BHfStcSObm-W"
      },
      "execution_count": null,
      "outputs": []
    },
    {
      "cell_type": "markdown",
      "source": [
        "## Binary Tree Inorder Traversal\n",
        "https://leetcode.com/problems/binary-tree-inorder-traversal/description/"
      ],
      "metadata": {
        "id": "GG9pJ-4ettMR"
      }
    },
    {
      "cell_type": "markdown",
      "source": [
        "### Solution"
      ],
      "metadata": {
        "id": "sVCjkoBZtu7c"
      }
    },
    {
      "cell_type": "code",
      "source": [
        "class Solution:\n",
        "    def inorderTraversal(self, root: Optional[TreeNode]) -> List[int]:\n",
        "\n",
        "        answer = []\n",
        "        def dfs(node: Optional[TreeNode]):\n",
        "            if node is None:\n",
        "                return\n",
        "\n",
        "            dfs(node.left)\n",
        "\n",
        "            answer.append(node.val)\n",
        "\n",
        "            dfs(node.right)\n",
        "\n",
        "        dfs(root)\n",
        "\n",
        "        return answer"
      ],
      "metadata": {
        "id": "fAJ7WVqjtxit"
      },
      "execution_count": null,
      "outputs": []
    },
    {
      "cell_type": "markdown",
      "source": [
        "## Same Tree\n",
        "https://leetcode.com/problems/same-tree/description/"
      ],
      "metadata": {
        "id": "8nfYO1xkPXnY"
      }
    },
    {
      "cell_type": "markdown",
      "source": [
        "### Solution\n",
        "\n",
        " The base cases check if both `p` and `q` are `None`, indicating empty trees, in which case they are considered structurally identical. If one of the trees is empty while the other is not, they are not structurally identical. Subsequently, it checks if the values of the current nodes in `p` and `q` are equal. If they are, the function recursively proceeds to compare the left and right subtrees. This process continues for all nodes in the trees, and if at any point a mismatch is found in structure or node values, the function returns `False`."
      ],
      "metadata": {
        "id": "vMtYKDwKPcXs"
      }
    },
    {
      "cell_type": "code",
      "source": [
        "class Solution:\n",
        "    def isSameTree(self, p: Optional[TreeNode], q: Optional[TreeNode]) -> bool:\n",
        "\n",
        "        def dfs(left: Optional[TreeNode], right: Optional[TreeNode]):\n",
        "\n",
        "            # are structrurally identical\n",
        "            if (left is None) and (right is None):\n",
        "                return True\n",
        "\n",
        "            if left is None:\n",
        "                return False\n",
        "\n",
        "            if right is None:\n",
        "                return False\n",
        "\n",
        "            # have the same value\n",
        "            if left.val != right.val:\n",
        "                return False\n",
        "\n",
        "            return (\n",
        "                dfs(left.left, right.left) and\n",
        "                dfs(left.right, right.right)\n",
        "            )\n",
        "\n",
        "        return dfs(p, q)"
      ],
      "metadata": {
        "id": "_KknlR4tPdhp"
      },
      "execution_count": null,
      "outputs": []
    },
    {
      "cell_type": "markdown",
      "source": [
        "## Path Sum\n",
        "https://leetcode.com/problems/path-sum/description/"
      ],
      "metadata": {
        "id": "wd5gtWQAS2xH"
      }
    },
    {
      "cell_type": "markdown",
      "source": [
        "### Solution\n",
        "\n",
        "It uses a recursive depth-first search (DFS) algorithm to traverse the tree, maintaining an aggregate value that accumulates the sum of node values along the current path. If the algorithm encounters a leaf node (both left and right children are `None`), it checks if the aggregate equals the `targetSum` and returns `True` if they match. Otherwise, it recursively explores the left and right subtrees, returning `True` if either subtree contains a valid path with the desired sum. If no such path is found, it returns `False`."
      ],
      "metadata": {
        "id": "46CQp-fMTl2H"
      }
    },
    {
      "cell_type": "code",
      "source": [
        "class Solution:\n",
        "    def hasPathSum(self, root: Optional[TreeNode], targetSum: int) -> bool:\n",
        "\n",
        "        def dfs(node: Optional[TreeNode], aggregate: int):\n",
        "\n",
        "            if node is None:\n",
        "                return False\n",
        "\n",
        "            aggregate += node.val\n",
        "\n",
        "            if (node.left is None) and (node.right is None):\n",
        "                return aggregate == targetSum\n",
        "\n",
        "            return (\n",
        "                dfs(node.left, aggregate) or\n",
        "                dfs(node.right, aggregate)\n",
        "            )\n",
        "\n",
        "        return dfs(root, 0)"
      ],
      "metadata": {
        "id": "xkuk27r5VGBI"
      },
      "execution_count": null,
      "outputs": []
    },
    {
      "cell_type": "markdown",
      "source": [
        "## Pascal's Triangle II\n",
        "https://leetcode.com/problems/pascals-triangle-ii/description/"
      ],
      "metadata": {
        "id": "BzlGbM4ch-Sq"
      }
    },
    {
      "cell_type": "markdown",
      "source": [
        "### Solution (Recursive)"
      ],
      "metadata": {
        "id": "AQOr-KIuiCd1"
      }
    },
    {
      "cell_type": "code",
      "source": [
        "class Solution:\n",
        "    def getRow(self, rowIndex: int) -> List[int]:\n",
        "\n",
        "        if rowIndex == 0:\n",
        "            return [1]\n",
        "\n",
        "        if rowIndex == 1:\n",
        "            return [1, 1]\n",
        "\n",
        "        prev = self.getRow(rowIndex - 1)\n",
        "        cur = [1] * (rowIndex + 1)\n",
        "\n",
        "        for i in range(1, rowIndex):\n",
        "            cur[i] = prev[i] + prev[i - 1]\n",
        "\n",
        "        return cur"
      ],
      "metadata": {
        "id": "zLqrkuYJiEyR"
      },
      "execution_count": null,
      "outputs": []
    },
    {
      "cell_type": "markdown",
      "source": [
        "### Solution (Nested Loops)"
      ],
      "metadata": {
        "id": "ZHJsLn6EiJqQ"
      }
    },
    {
      "cell_type": "code",
      "source": [
        "class Solution:\n",
        "    def getRow(self, rowIndex: int) -> List[int]:\n",
        "        row = [1] * (rowIndex + 1)\n",
        "\n",
        "        # modification starts from 3rd row (indexed by 2)\n",
        "        for i in range(2, rowIndex + 1):\n",
        "\n",
        "            # we iterate from 1 to i - 1, as moving from right to left in each row\n",
        "            for j in range(1, i):\n",
        "                row[i - j] += row[i - j - 1]\n",
        "\n",
        "        return row"
      ],
      "metadata": {
        "id": "mXDAlI_0iMlx"
      },
      "execution_count": null,
      "outputs": []
    },
    {
      "cell_type": "markdown",
      "source": [
        "## Linked List Cycle\n",
        "https://leetcode.com/problems/linked-list-cycle/description/"
      ],
      "metadata": {
        "id": "dIkZfA-zly85"
      }
    },
    {
      "cell_type": "markdown",
      "source": [
        "### Solution (Set)"
      ],
      "metadata": {
        "id": "XQyXgWn-z4eC"
      }
    },
    {
      "cell_type": "code",
      "source": [
        "class Solution:\n",
        "    def hasCycle(self, head: Optional[ListNode]) -> bool:\n",
        "        nodeSet = set()\n",
        "\n",
        "        while head:\n",
        "            if head in nodeSet:\n",
        "                return True\n",
        "\n",
        "            nodeSet.add(head)\n",
        "            head = head.next\n",
        "\n",
        "        return False"
      ],
      "metadata": {
        "id": "2EMMU445z6GO"
      },
      "execution_count": null,
      "outputs": []
    },
    {
      "cell_type": "markdown",
      "source": [
        "### Solution (Two Pointers)"
      ],
      "metadata": {
        "id": "HTL5Y81Ao8IE"
      }
    },
    {
      "cell_type": "code",
      "source": [
        "class Solution:\n",
        "    def hasCycle(self, head: Optional[ListNode]) -> bool:\n",
        "        slow = head\n",
        "        fast = head\n",
        "\n",
        "        while fast and fast.next:\n",
        "            slow = slow.next\n",
        "            fast = fast.next.next\n",
        "\n",
        "            if slow == fast:\n",
        "                return True\n",
        "\n",
        "        return False"
      ],
      "metadata": {
        "id": "H3bYcmT0q1no"
      },
      "execution_count": null,
      "outputs": []
    },
    {
      "cell_type": "markdown",
      "source": [
        "## Intersection of Two Linked Lists\n",
        "https://leetcode.com/problems/intersection-of-two-linked-lists/description/"
      ],
      "metadata": {
        "id": "JK3MMyTsAWbs"
      }
    },
    {
      "cell_type": "markdown",
      "source": [
        "### Solution\n",
        "\n",
        " It starts by initializing two pointers, list1 and list2, to the heads of the respective linked lists. The code then compares the nodes pointed to by list1 and list2 to check if they are the same. If they are not, it advances each pointer by one node, iterating through both linked lists. This process continues until the pointers meet at the intersection node, or they both reach the end of their respective lists."
      ],
      "metadata": {
        "id": "taeyazb_AkHf"
      }
    },
    {
      "cell_type": "code",
      "source": [
        "class Solution:\n",
        "    def getIntersectionNode(self, headA: ListNode, headB: ListNode) -> Optional[ListNode]:\n",
        "\n",
        "        list1, list2 = headA, headB\n",
        "\n",
        "        while list1 != list2:\n",
        "            list1 = list1.next if list1 else headB\n",
        "            list2 = list2.next if list2 else headA\n",
        "\n",
        "        return list1"
      ],
      "metadata": {
        "id": "iD8C7PFaAnFm"
      },
      "execution_count": null,
      "outputs": []
    },
    {
      "cell_type": "markdown",
      "source": [
        "## Excel Sheet Column Title\n",
        "https://leetcode.com/problems/excel-sheet-column-title/description/"
      ],
      "metadata": {
        "id": "xpg6l7ng-N3T"
      }
    },
    {
      "cell_type": "markdown",
      "source": [
        "### Solution\n",
        "The subtraction of one from columnNumber is performed to adjust the numbering system, as Excel column numbering starts from 1, whereas the solution uses a 0-based indexing system."
      ],
      "metadata": {
        "id": "xZusc733-MMz"
      }
    },
    {
      "cell_type": "code",
      "source": [
        "class Solution:\n",
        "    def titleToNumber(self, columnNumber: int) -> str:\n",
        "\n",
        "        digits = []\n",
        "        while columnNumber > 0:\n",
        "            columnNumber -= 1\n",
        "            digits.append(chr(65 + (columnNumber % 26)))\n",
        "            columnNumber //= 26\n",
        "\n",
        "        return ''.join(digits[::-1])"
      ],
      "metadata": {
        "id": "fgRZSfoRk1Ia"
      },
      "execution_count": null,
      "outputs": []
    },
    {
      "cell_type": "markdown",
      "source": [
        "## Excel Sheet Column Number\n",
        "\n",
        "https://leetcode.com/problems/excel-sheet-column-number/description/"
      ],
      "metadata": {
        "id": "QU0KBNbHvVo4"
      }
    },
    {
      "cell_type": "markdown",
      "source": [
        "### Solution"
      ],
      "metadata": {
        "id": "E_iVx38JveQH"
      }
    },
    {
      "cell_type": "code",
      "source": [
        "class Solution:\n",
        "    def titleToNumber(self, columnTitle: str) -> int:\n",
        "\n",
        "        chrMap = {}\n",
        "        for i in range(65, 65 + 26):\n",
        "            chrMap[chr(i)] = i - 64\n",
        "\n",
        "\n",
        "        i, answer = 0, 0\n",
        "        while columnTitle:\n",
        "\n",
        "            cur = columnTitle[-1]\n",
        "            answer += (26 ** i) * chrMap[cur]\n",
        "\n",
        "            columnTitle = columnTitle[:-1]\n",
        "            i += 1\n",
        "\n",
        "        return answer"
      ],
      "metadata": {
        "id": "h5NeR1uxvgWS"
      },
      "execution_count": null,
      "outputs": []
    },
    {
      "cell_type": "markdown",
      "source": [
        "## Happy Number\n",
        "\n",
        "https://leetcode.com/problems/happy-number/description/"
      ],
      "metadata": {
        "id": "jyufMzCeLF_h"
      }
    },
    {
      "cell_type": "markdown",
      "source": [
        "### Solution (Recursive)"
      ],
      "metadata": {
        "id": "FsM1tZIOLQui"
      }
    },
    {
      "cell_type": "code",
      "source": [
        "class Solution:\n",
        "    def __init__(self):\n",
        "        self.traced = set()\n",
        "\n",
        "    def isHappy(self, n: int) -> bool:\n",
        "        if n in self.traced:\n",
        "            return False\n",
        "\n",
        "        self.traced.add(n)\n",
        "\n",
        "        aggregate = 0\n",
        "        while n > 0:\n",
        "            aggregate += (n % 10) ** 2\n",
        "            n //= 10\n",
        "\n",
        "        if aggregate == 1:\n",
        "            return True\n",
        "\n",
        "        return self.isHappy(aggregate)"
      ],
      "metadata": {
        "id": "VumyNLecLfU6"
      },
      "execution_count": null,
      "outputs": []
    },
    {
      "cell_type": "markdown",
      "source": [
        "### Solution (While)"
      ],
      "metadata": {
        "id": "bXUxMTKqRzW2"
      }
    },
    {
      "cell_type": "code",
      "source": [
        "class Solution:\n",
        "    def isHappy(self, n):\n",
        "\n",
        "        traced = set()\n",
        "        while n != 1:\n",
        "            if n in traced:\n",
        "                return False\n",
        "            traced.add(n)\n",
        "            n = sum([int(i) ** 2 for i in str(n)])\n",
        "        else:\n",
        "            return True"
      ],
      "metadata": {
        "id": "cbpNMoRMR17K"
      },
      "execution_count": null,
      "outputs": []
    },
    {
      "cell_type": "markdown",
      "source": [
        "## Remove Linked List Elements\n",
        "\n",
        "https://leetcode.com/problems/remove-linked-list-elements/description/"
      ],
      "metadata": {
        "id": "Wa-ttnAUpANM"
      }
    },
    {
      "cell_type": "markdown",
      "source": [
        "### Solution"
      ],
      "metadata": {
        "id": "NLEJkf5hpDGl"
      }
    },
    {
      "cell_type": "code",
      "source": [
        "class Solution:\n",
        "    def removeElements(self, head: Optional[ListNode], val: int) -> Optional[ListNode]:\n",
        "\n",
        "        while head is not None and head.val == val:\n",
        "            head = head.next\n",
        "\n",
        "        cur = head\n",
        "        while cur and cur.next:\n",
        "            if cur.next.val == val:\n",
        "                cur.next = cur.next.next\n",
        "            else:\n",
        "                cur = cur.next\n",
        "\n",
        "        return head"
      ],
      "metadata": {
        "id": "CMZBb_N3pPN2"
      },
      "execution_count": 28,
      "outputs": []
    },
    {
      "cell_type": "markdown",
      "source": [
        "\n",
        "# Time complexities\n",
        "- 상수 시간 복잡도 - Constant Time Complexity - O(1)\n",
        "- 로그 시간 복잡도 - Logarithmic Time Complexity - O(log n)\n",
        "- 선형 시간 복잡도 - Linear Time Complexity - O(n)\n",
        "- 선형 로그 시간 복잡도 - Linear Logarithmic Time Complexity - O(n log n)\n",
        "- 이차 시간 복잡도 - Quadratic Time Complexity - O(n^2)\n",
        "- 지수 시간 복잡도 - Exponential Time Complexity - O(2^n)\n",
        "- 팩토리얼 시간 복잡도 - Factorial Time Complexity - O(n!)"
      ],
      "metadata": {
        "id": "6y8q8QjQ7NN1"
      }
    }
  ]
}