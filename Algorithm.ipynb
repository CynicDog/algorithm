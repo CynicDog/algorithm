{
  "nbformat": 4,
  "nbformat_minor": 0,
  "metadata": {
    "colab": {
      "provenance": [],
      "collapsed_sections": [
        "sbAcFzjZ-Vdw",
        "AKZ1mOjr0_vm",
        "Mk_0wP1A1Cd0",
        "gaK1nny4jvyZ",
        "vHBByFjH4nN5",
        "Yd4QA56G-eRy",
        "4bgOSAUf_jUi",
        "yb1PlECt-bg9",
        "FJ4v0RMGRvUO",
        "enlvor78Wa7v",
        "29Bn2Bhh-Cmu",
        "yUTElorx-GIx",
        "zPMEJdjV057f",
        "AtavxGAYsd4_",
        "V4xZG2xHxXQg",
        "PYizi_ZUyets",
        "EUeV-kPd05uS",
        "uhXSAQ2P4M5N",
        "h_gjcPJF5Zi8",
        "Mz-QK-hr6grx",
        "8KC8kLPj9p9j",
        "_X0X35zlEOPQ",
        "fGEroBGbETmf",
        "mVgRPcPzOJ9F",
        "4bQ2AHL9OwyR",
        "NUyJ4Poqtw3X",
        "KLb6j7Abt2SO",
        "lIEkn9kc1R_A",
        "e1zaQS8452zI",
        "dmdaCFCA7crs",
        "-BuMXWIz7hrP",
        "CXOZdDBZ6ruF",
        "HL1cUEme6urK",
        "f5L5IKjrqTKi",
        "Xw7oO1an8D-h",
        "MLzf4aZC8KJX",
        "UsgWdI6OFtGw",
        "ceJBm7nYdG5F",
        "srcE6Vm0f4ik",
        "Jkz14pJms5KM",
        "bHQfbwSKs9o7",
        "-nqVFUwVt1uO",
        "gxwe1CiMt7n0",
        "-EvBHwUhCS4C",
        "dw2lLj08CXUM",
        "6WHfweRmQfF_",
        "detADc1BkEPX",
        "ZuyNJxbskOhs",
        "pWKHmxuWtbGT",
        "z7ARkpIg639H",
        "sz_NxfXvFTl8",
        "BnIzuEOaCrpK",
        "YPL3r5cOCvyi",
        "RVF3X5kvJIeo",
        "ZTCsTd5eJb06",
        "hpAvc3coLug3",
        "6GnDcegZMeyt",
        "8pPGsqSPMgUX",
        "P8poqhPnTINz",
        "cKHxvIPCH07C",
        "K9U5IrOEH_VN",
        "Ao0cAElnKzCu",
        "ZWy9CMgd8zMN",
        "U3uV1bUm87ye",
        "C2FQfRzDBpaI",
        "C2tPCihJDOHy",
        "qaqRYlwjIhbJ",
        "cYvqRUbiIhTY",
        "zZeENSveVFbk",
        "m4DhisTNpGxz",
        "xTPxgWHhpgoQ",
        "KNS7GqOw2OIN",
        "WlfqdLxy2R4W",
        "cOK2ZTNO2sQX",
        "Kl3K-NNcBHCU",
        "OOQERilCBgyO",
        "FwkpM9z9JFdL",
        "Fac1DkcCKMNV",
        "ZCxQspPVU9KL",
        "89WU-DvfVQGb",
        "l2sesiP1WrZC",
        "U1zoolMBXe5F",
        "B-9l7CefXjH4",
        "bEePktctX7Gx",
        "_iZMvIhpYX9m",
        "ODlpBn7KZSlI",
        "Eote_MDYCP1Z",
        "gljKJLgAJ6iH",
        "oFIEFcPOKJPS",
        "zaPGwkbOLs5d",
        "hXPEBf5XL3_g",
        "GetkO-RaUSI4",
        "zUExZTZRUZgw",
        "jPkp7FjCgLgs",
        "k8SVI9xfcDH0",
        "vC7CfrKNL7AD",
        "prtxkzi_WCg5",
        "mqsDrnHxZaE_",
        "C5qvcdTwdmTQ",
        "u8le3IOCd9A4",
        "7t6BHQpzk9kI",
        "7_MwY3FXxPzR",
        "R3IaEgD-1f6C",
        "9aZ6uH811mmI",
        "wmn8Go6d36At",
        "YjNuUqZp3_cE",
        "vGLk2Klx4-Sa",
        "JJwrS5si5EwL",
        "osdZNMsQPc6_",
        "lpgjf5ORT54j",
        "BWTyg72qUKZH",
        "yOyDRqHUpSJc",
        "M0y7vIE_pVBi",
        "oy4d3k9J1kZM",
        "2P849g9W16EM",
        "BSA6zz213c-z",
        "lWHEtiLL3-tt",
        "ERVM9PExBtfp",
        "1XNo6YpSByIz",
        "30QUxli6ER2H",
        "LChVvXmxEUZJ",
        "hXAfLSNJG6kx",
        "_lreljijHAIx",
        "yZ7mHucTJ74R",
        "etYWNoW_L15a",
        "76bGmReSR-8N",
        "OrdexIN4SDNI",
        "uxLuir3qq60R",
        "uucBKYoDrAkR",
        "_lvtMWal7STt",
        "FSpTep0VImFN",
        "r620cSSnIqmz",
        "w8u63CwkN5Vn",
        "tFxaXXyQuDWd",
        "lr_p603KuEw1",
        "D_bSO3jTO0Bq",
        "iqJ7oCVkP3mo",
        "nVzUSa67c8WE",
        "cY_GsCiXfweK",
        "6Bwa0uuBiyiy",
        "okIBW3rYi4k_",
        "0f12utUak3OX",
        "etRQbOtyxRBL",
        "397G4GPSxVId",
        "oFjlvfr-yPT7",
        "xzSMpOAD4x8n",
        "3O61-Ns285BB",
        "48bgIp_k9XvJ",
        "upkOX7QPEboJ",
        "TJnEyeEyEehT",
        "FLDxfGXyFm-y",
        "Ihdb9U-2FusB",
        "Ni1EOjD0XZgd",
        "6RfNFR01OtDj",
        "J3HRfV4-bZAr",
        "fnXcFxaFVC44",
        "dQEfU4h8VHES",
        "GG9pJ-4ettMR",
        "sVCjkoBZtu7c",
        "8nfYO1xkPXnY",
        "vMtYKDwKPcXs",
        "wd5gtWQAS2xH",
        "46CQp-fMTl2H",
        "BzlGbM4ch-Sq",
        "AQOr-KIuiCd1",
        "ZHJsLn6EiJqQ",
        "dIkZfA-zly85",
        "XQyXgWn-z4eC",
        "HTL5Y81Ao8IE",
        "JK3MMyTsAWbs",
        "taeyazb_AkHf",
        "xpg6l7ng-N3T",
        "xZusc733-MMz",
        "QU0KBNbHvVo4",
        "E_iVx38JveQH",
        "jyufMzCeLF_h",
        "FsM1tZIOLQui",
        "bXUxMTKqRzW2",
        "Wa-ttnAUpANM",
        "NLEJkf5hpDGl",
        "VlJf_D_u2Ed8",
        "JcDtMHVR2HCg",
        "El_gXvebbg2j",
        "dPX1v3tLbljb",
        "12UTfKalqeus",
        "Jimf7v5sqdX3",
        "DKFktc3oqX5q",
        "zOFAaFqYMVWJ",
        "wKaByxmWMa01",
        "svMEyBHQJz-p",
        "FSS6FIMPJ2Am",
        "5RpmA6XwNUjt",
        "3ktLtvs_NXRB",
        "5AoGFp0bPWeH",
        "1H3gKIFFPYQ9",
        "QGHcUPYaPaVC",
        "M1ghsL7gPfYE",
        "r_Mf0mYuQTNL",
        "7nnJbvkVQJy9",
        "UmeYt9LbR8Cc",
        "h22gNW8JR96N",
        "VNQPhTKGpMKm",
        "NfzqJvmcpPtA",
        "DujUsvnHpgId",
        "1Tj8oLwPpihW",
        "BpCDk02GvTy_",
        "Q5vl-d1Rvg-6",
        "1qTUQfwZFAnU",
        "2suTphQTFDUm",
        "Du7lZWe8MleY",
        "XF8kviagIy7n",
        "KzTKpiwBI1Hb",
        "cSZ3KrWORg7R",
        "ZLlf9HVfRi2G",
        "QnZ1JNC0haFS",
        "xSwCInsGgVh0",
        "5H0aHH8NjhF9",
        "bsS0gakjjidN",
        "ajq1jDIconlA",
        "FW4zRA04orgV",
        "SDW8Y-kuMCBu",
        "XUwj6I5LMHlI",
        "8ksKdoSgWAaX",
        "g98u0lpZWD9d",
        "avv1SF2ebPRM",
        "Rpzjw5wLbSL8",
        "-x16KtM7g1zq",
        "4N6mdHSPeNpO",
        "kDpNtEkIeR7q",
        "i3kxrPX-kbJj",
        "mZNKJaPLMpcN",
        "eh1hSt_vZ6yj",
        "c739nnypgbnk",
        "RxEkH0zXdqT4",
        "Iw3UHxhFgdYO",
        "1ngJbCu0jK5G",
        "IhZvLjparYGn",
        "Mb7muUGAueHP",
        "Pk-dXILd9PN-",
        "PvQjUUhmEUeY",
        "b5j4l1OREYJe",
        "olZGy1W1JVM1",
        "IED4tPSdQ_5x",
        "fpzMauywRB4Y",
        "YdrNTNIsQc9N",
        "muFAeY9SQhK_",
        "hYDMnRfaelCY",
        "SjAv76Vdf9xv",
        "sRODGfJcMuIX",
        "UV6ksV2HqaLS",
        "C8Bh5nAsqhPm",
        "0jSxYMOjjF9b",
        "6nNC5bbIppGn",
        "WrILGewhpoJA",
        "14oOnpW3pt3-",
        "aLehpE4SqX5v",
        "gx1wvSQHPtP0",
        "UDdnDvoxP12x",
        "6rc3VMmMRWSN",
        "t2-ceVM0Mv-X",
        "RrSXG4PI3Zin",
        "SRP25vUcOW9n",
        "hrjEbf51fKFd",
        "OMPWzB3bfLaO",
        "k2CgXLR-fNqw",
        "fdQBESAWfQpO",
        "oSsvGq0ez03w",
        "2oGj_R7L07xT",
        "lL3iuwVhDmp1",
        "pznXVKOFJTKZ",
        "IzryIDRL3yWf",
        "_vkOuPPP33-y",
        "Q5Gh4R18Tyvl",
        "cQzlI22wYpst",
        "rK-KHJWnYwOW",
        "-rmCo3WpbXsS",
        "VRUMl2sNba9M",
        "nP8xVITJo0y_",
        "8DOIv51Ro6Rd",
        "WFIs5q9i9KN4",
        "SJcNGSeN9NWA",
        "VulH_am5P4zP",
        "1saMYJYiP6oo",
        "0RV__ETDSdlr",
        "BK5it7PhSjnU",
        "cVdj2MhemjRv",
        "YSzZ3ZcBml3j",
        "qEduD2WXt6IC",
        "rxhhQl5bt860",
        "cJc_LkeL85vb",
        "zr0MziCQSBlb",
        "P9dUe9jGSGFx",
        "VB2JmJi2k54G",
        "RQISrAg5k9M1",
        "3sDGK8BGrGPx"
      ],
      "authorship_tag": "ABX9TyMUzIEuLUnEvLtXwWXRxTf/",
      "include_colab_link": true
    },
    "kernelspec": {
      "name": "python3",
      "display_name": "Python 3"
    },
    "language_info": {
      "name": "python"
    }
  },
  "cells": [
    {
      "cell_type": "markdown",
      "metadata": {
        "id": "view-in-github",
        "colab_type": "text"
      },
      "source": [
        "<a href=\"https://colab.research.google.com/github/CynicDog/algorithm/blob/main/Algorithm.ipynb\" target=\"_parent\"><img src=\"https://colab.research.google.com/assets/colab-badge.svg\" alt=\"Open In Colab\"/></a>"
      ]
    },
    {
      "cell_type": "markdown",
      "source": [
        "\n",
        "# <u>Time complexities</u>\n",
        "- 상수 시간 복잡도 - Constant Time Complexity - O(1)\n",
        "- 로그 시간 복잡도 - Logarithmic Time Complexity - O(log n)\n",
        "- 선형 시간 복잡도 - Linear Time Complexity - O(n)\n",
        "- 선형 로그 시간 복잡도 - Linear Logarithmic Time Complexity - O(n log n)\n",
        "- 이차 시간 복잡도 - Quadratic Time Complexity - O(n^2)\n",
        "- 지수 시간 복잡도 - Exponential Time Complexity - O(2^n)\n",
        "- 팩토리얼 시간 복잡도 - Factorial Time Complexity - O(n!)"
      ],
      "metadata": {
        "id": "jR6LCefdbwZ2"
      }
    },
    {
      "cell_type": "markdown",
      "source": [
        "# Dependencies"
      ],
      "metadata": {
        "id": "sbAcFzjZ-Vdw"
      }
    },
    {
      "cell_type": "code",
      "source": [
        "import re\n",
        "import sys\n",
        "import timeit\n",
        "import random\n",
        "import collections\n",
        "from collections import defaultdict\n",
        "from typing import List, Optional\n",
        "\n",
        "data = [random.randint(1, 1_000) for _ in range(1_000)]"
      ],
      "metadata": {
        "id": "7SRfTX_C-WrW"
      },
      "execution_count": null,
      "outputs": []
    },
    {
      "cell_type": "code",
      "source": [
        "class ListNode:\n",
        "    def __init__(self, val=0, next=None):\n",
        "        self.val = val\n",
        "        self.next = next"
      ],
      "metadata": {
        "id": "SpbxQWD6dNWX"
      },
      "execution_count": null,
      "outputs": []
    },
    {
      "cell_type": "code",
      "source": [
        "class TreeNode:\n",
        "    def __init__(self, val=0, left=None, right=None):\n",
        "        self.val = val\n",
        "        self.left = left\n",
        "        self.right = right"
      ],
      "metadata": {
        "id": "dRgX8uDxdLLD"
      },
      "execution_count": null,
      "outputs": []
    },
    {
      "cell_type": "code",
      "source": [
        "class Node:\n",
        "    def __init__(self, val = 0, neighbors = None):\n",
        "        self.val = val\n",
        "        self.neighbors = neighbors if neighbors is not None else []"
      ],
      "metadata": {
        "id": "EizOm5hCciD-"
      },
      "execution_count": null,
      "outputs": []
    },
    {
      "cell_type": "markdown",
      "source": [
        "# Sorting algorithms"
      ],
      "metadata": {
        "id": "AKZ1mOjr0_vm"
      }
    },
    {
      "cell_type": "markdown",
      "source": [
        "## Bubble sort"
      ],
      "metadata": {
        "id": "Mk_0wP1A1Cd0"
      }
    },
    {
      "cell_type": "markdown",
      "source": [
        "* Explanation:\n",
        "\n",
        "    * Bubble Sort works by repeatedly stepping through the list, comparing adjacent elements, and swapping them if they are in the wrong order.\n",
        "    * It starts from the beginning of the list and compares adjacent pairs of elements. If the elements are out of order (i.e., the current element is greater than the next one), it swaps them.\n",
        "    * This process continues until no more swaps are needed, indicating that the list is sorted.\n",
        "\n",
        "* Time Complexity:\n",
        "    * In the worst-case scenario, when the input list is sorted in reverse order, Bubble Sort has a time complexity of O(n^2), where n is the number of elements in the array.\n",
        "    * In the best-case scenario, when the input list is already sorted, Bubble Sort has a time complexity of O(n) because it performs only one pass without any swaps.\n",
        "    * On average, Bubble Sort has a time complexity of O(n^2)."
      ],
      "metadata": {
        "id": "f3RMGTE29FRX"
      }
    },
    {
      "cell_type": "markdown",
      "source": [
        "### Solution"
      ],
      "metadata": {
        "id": "gaK1nny4jvyZ"
      }
    },
    {
      "cell_type": "code",
      "source": [
        "def bubble(a):\n",
        "    for i in range(0, len(a) - 1):\n",
        "        for j in range(0, len(a) - 1):\n",
        "            if a[j] > a[j + 1]:\n",
        "                a[j], a[j + 1] = a[j + 1], a[j]\n",
        "\n",
        "    return a\n",
        "\n",
        "bubble([1, 3, 2, 5, 4])"
      ],
      "metadata": {
        "colab": {
          "base_uri": "https://localhost:8080/"
        },
        "id": "FJ3OGfQC1E3M",
        "outputId": "58c25892-04ac-49fd-8673-6dcb299d7e67"
      },
      "execution_count": null,
      "outputs": [
        {
          "output_type": "execute_result",
          "data": {
            "text/plain": [
              "[1, 2, 3, 4, 5]"
            ]
          },
          "metadata": {},
          "execution_count": 31
        }
      ]
    },
    {
      "cell_type": "markdown",
      "source": [
        "## Insertion sort"
      ],
      "metadata": {
        "id": "vHBByFjH4nN5"
      }
    },
    {
      "cell_type": "markdown",
      "source": [
        "- Explanation:\n",
        "It starts with the second element (index 1) and compares it to the elements before it, moving it to the correct position within the sorted part of the array.\n",
        "\n",
        "- Time Complexity:\n",
        "\n",
        "    * In the worst-case scenario, when the array is sorted in reverse order, it has a time complexity of O(n^2), where n is the number of elements in the array.\n",
        "    * In the best-case scenario, when the array is already sorted, it has a time complexity of O(n).\n",
        "    * On average, it has an expected time complexity of O(n^2).\n"
      ],
      "metadata": {
        "id": "9QwIP8Ax6brh"
      }
    },
    {
      "cell_type": "markdown",
      "source": [
        "### Solution"
      ],
      "metadata": {
        "id": "Yd4QA56G-eRy"
      }
    },
    {
      "cell_type": "code",
      "source": [
        "def insertion(a):\n",
        "\n",
        "    for i in range(1, len(a)):\n",
        "        key = a[i]\n",
        "        j = i - 1\n",
        "\n",
        "        while (j >= 0) and (a[j] > key):\n",
        "            a[j + 1] = a[j]\n",
        "            j -= 1\n",
        "\n",
        "        a[j + 1] = key\n",
        "\n",
        "    return a\n",
        "\n",
        "insertion([1, 3, 2, 5, 4])"
      ],
      "metadata": {
        "colab": {
          "base_uri": "https://localhost:8080/"
        },
        "id": "D6RoknPY4qiq",
        "outputId": "26150b1e-49d3-41f7-c689-5bcd73e2ab66"
      },
      "execution_count": null,
      "outputs": [
        {
          "output_type": "execute_result",
          "data": {
            "text/plain": [
              "[1, 2, 3, 4, 5]"
            ]
          },
          "metadata": {},
          "execution_count": 34
        }
      ]
    },
    {
      "cell_type": "markdown",
      "source": [
        "## Quick sort"
      ],
      "metadata": {
        "id": "4bgOSAUf_jUi"
      }
    },
    {
      "cell_type": "markdown",
      "source": [
        "* Explanation:\n",
        "\n",
        "    * Quick Sort is a popular sorting algorithm that follows the divide-and-conquer approach.\n",
        "    * The main function, quick(a, low, high), takes an array a, a lower index low, and an upper index high as parameters. These indices define the portion of the array that needs to be sorted.\n",
        "    * Inside the quick function, there's a nested partition function responsible for selecting a pivot element and partitioning the array into two subarrays: elements less than the pivot and elements greater than the pivot.\n",
        "    * The pivot is typically chosen as the last element in the current subarray (a[high]), and the partition function rearranges the elements such that all elements less than the pivot are on the left side, and all elements greater than the pivot are on the right side.\n",
        "    * After partitioning, the function recursively calls itself on the two subarrays, one with elements less than the pivot (quick(a, low, pivot - 1)) and the other with elements greater than the pivot (quick(a, pivot + 1, high)).\n",
        "    * The process continues until the subarrays become smaller and eventually sorted, and the entire array becomes sorted.\n",
        "\n",
        "* Time Complexity:\n",
        "\n",
        "    * On average and in the best-case scenario, Quick Sort has an expected time complexity of O(n log n), making it one of the most efficient sorting algorithms for general use.\n",
        "    * In the worst-case scenario, Quick Sort can have a time complexity of O(n^2), but this is relatively rare and can be mitigated through good pivot selection strategies, such as choosing the median-of-three.\n",
        "    * Quick Sort is often preferred for sorting large datasets due to its average-case efficiency and relatively low overhead compared to some other sorting algorithms like Merge Sort."
      ],
      "metadata": {
        "id": "lpIwhewLC5KV"
      }
    },
    {
      "cell_type": "markdown",
      "source": [
        "### Solution"
      ],
      "metadata": {
        "id": "yb1PlECt-bg9"
      }
    },
    {
      "cell_type": "code",
      "source": [
        "def quick(a, low, high):\n",
        "\n",
        "    def partition(low, high):\n",
        "        pivot = a[high]\n",
        "\n",
        "        left = low\n",
        "        for right in range(low, high):\n",
        "            if a[right] < pivot:\n",
        "                a[left], a[right] = a[right], a[left]\n",
        "                left += 1\n",
        "\n",
        "        a[left], a[high] = a[high], a[left]\n",
        "\n",
        "        return left\n",
        "\n",
        "    if low < high:\n",
        "        pivot = partition(low, high)\n",
        "        quick(a, low, pivot - 1)\n",
        "        quick(a, pivot + 1, high)\n",
        "\n",
        "    return a\n",
        "\n",
        "a = [1, 3, 2, 4, 6, 5]\n",
        "quick(a, 0, len(a) - 1)"
      ],
      "metadata": {
        "colab": {
          "base_uri": "https://localhost:8080/"
        },
        "id": "d_6ECNgv_rpV",
        "outputId": "746cba34-90ed-442b-f6e4-0dcce4d2dc5e"
      },
      "execution_count": null,
      "outputs": [
        {
          "output_type": "execute_result",
          "data": {
            "text/plain": [
              "[1, 2, 3, 4, 5, 6]"
            ]
          },
          "metadata": {},
          "execution_count": 1
        }
      ]
    },
    {
      "cell_type": "markdown",
      "source": [
        "## Merge sort"
      ],
      "metadata": {
        "id": "FJ4v0RMGRvUO"
      }
    },
    {
      "cell_type": "markdown",
      "source": [
        "* Explanation\n",
        "\n",
        "    * Merge Sort is a widely used sorting algorithm that follows the divide-and-conquer approach to sorting an array:\n",
        "\n",
        "    * Divide: The input array is divided into two halves recursively until each subarray contains one or zero elements (which are inherently sorted).\n",
        "\n",
        "    * Conquer: Pairs of subarrays are merged together in a sorted manner. This merging process continues until we have a single sorted array.\n",
        "\n",
        "* Time Complexity\n",
        "    * Merge Sort has a consistent and predictable time complexity of O(n log n) in all cases, including the worst-case, average-case, and best-case scenarios."
      ],
      "metadata": {
        "id": "mVN2yqFDTRTA"
      }
    },
    {
      "cell_type": "markdown",
      "source": [
        "### Solution"
      ],
      "metadata": {
        "id": "8-FWoK4m-Zoa"
      }
    },
    {
      "cell_type": "code",
      "source": [
        "def conquer(first, second):\n",
        "    result = []\n",
        "    idx1, idx2 = 0, 0\n",
        "    len1, len2 = len(first), len(second)\n",
        "\n",
        "    while (idx1 < len1) and (idx2 < len2):\n",
        "        if first[idx1] < second[idx2]:\n",
        "            result.append(first[idx1])\n",
        "            idx1 += 1\n",
        "        else:\n",
        "            result.append(second[idx2])\n",
        "            idx2 += 1\n",
        "\n",
        "    while idx1 < len1:\n",
        "        result.append(first[idx1])\n",
        "        idx1 += 1\n",
        "\n",
        "    while idx2 < len2:\n",
        "        result.append(second[idx2])\n",
        "        idx2 += 1\n",
        "\n",
        "    return result\n",
        "\n",
        "def divide(a):\n",
        "\n",
        "    if len(a) <= 1:\n",
        "        return a\n",
        "\n",
        "    mid = len(a) // 2\n",
        "    first = a[:mid]\n",
        "    second = a[mid:]\n",
        "\n",
        "    first = divide(first)\n",
        "    second = divide(second)\n",
        "\n",
        "    return conquer(first, second)\n",
        "\n",
        "a = [2, 5, 7, 1, 9, 3, 8, 11, 4, 10]\n",
        "divide(a)"
      ],
      "metadata": {
        "colab": {
          "base_uri": "https://localhost:8080/"
        },
        "id": "s9Qfog-LSy92",
        "outputId": "4a789d63-6b85-4e1d-def6-d1460a2ec655"
      },
      "execution_count": null,
      "outputs": [
        {
          "output_type": "execute_result",
          "data": {
            "text/plain": [
              "[1, 2, 3, 4, 5, 7, 8, 9, 10, 11]"
            ]
          },
          "metadata": {},
          "execution_count": 3
        }
      ]
    },
    {
      "cell_type": "markdown",
      "source": [
        "## Tim sort"
      ],
      "metadata": {
        "id": "enlvor78Wa7v"
      }
    },
    {
      "cell_type": "markdown",
      "source": [
        "* Explanation\n",
        "\n",
        "    * Tim Sort is a hybrid sorting algorithm derived from Merge Sort and Insertion Sort.\n",
        "    * It first divides the input array into small chunks (called \"runs\") and individually sorts these runs using Insertion Sort.\n",
        "    * Then, it repeatedly merges these sorted runs, taking advantage of Merge Sort's efficient merging strategy.\n",
        "    * Tim Sort is designed to perform well on many types of real-world data, including partially sorted data and data with runs or patterns.\n",
        "\n",
        "* Time Complexity\n",
        "\n",
        "    * Best Case: O(n)\n",
        "    * Average Case: O(n log n)\n",
        "    * Worst Case: O(n log n)"
      ],
      "metadata": {
        "id": "3k8_JPsC8FEp"
      }
    },
    {
      "cell_type": "markdown",
      "source": [
        "### Solution"
      ],
      "metadata": {
        "id": "29Bn2Bhh-Cmu"
      }
    },
    {
      "cell_type": "code",
      "source": [
        "class Solution:\n",
        "\n",
        "    minRun: int = 32;\n",
        "\n",
        "    def __init__(self, minRun):\n",
        "        self.minRun = minRun;\n",
        "\n",
        "    def insertion(self, A, start, end):\n",
        "\n",
        "        for i in range(start + 1, end + 1):\n",
        "            key = A[i]\n",
        "            j = i - 1\n",
        "\n",
        "            while j >= start and A[j] > key:\n",
        "                A[j + 1] = A[j]\n",
        "                j -= 1\n",
        "\n",
        "            A[j + 1] = key\n",
        "\n",
        "        return A\n",
        "\n",
        "    def merge(self, A, start, mid, end):\n",
        "\n",
        "        first, last = A[start : mid + 1], A[mid + 1 : end + 1]\n",
        "        len1, len2 = len(first), len(last)\n",
        "\n",
        "        idx1, idx2 = 0, 0\n",
        "        idx = start\n",
        "\n",
        "        while idx1 < len1 and idx2 < len2:\n",
        "            if first[idx1] < last[idx2]:\n",
        "                A[idx] = first[idx1]\n",
        "                idx1 += 1\n",
        "            else:\n",
        "                A[idx] = last[idx2]\n",
        "                idx2 += 1\n",
        "\n",
        "            idx += 1\n",
        "\n",
        "        while idx1 < len1:\n",
        "            A[idx] = first[idx1]\n",
        "            idx1 += 1\n",
        "            idx += 1\n",
        "\n",
        "        while idx2 < len2:\n",
        "            A[idx] = last[idx2]\n",
        "            idx2 += 1\n",
        "            idx += 1\n",
        "\n",
        "        return A\n",
        "\n",
        "    def timSort(self, A):\n",
        "\n",
        "        n = len(A)\n",
        "\n",
        "        for start in range(0, n, self.minRun):\n",
        "\n",
        "            end = min(n - 1, start + self.minRun - 1)\n",
        "            A = self.insertion(A, start, end)\n",
        "\n",
        "        cur_size = self.minRun\n",
        "\n",
        "        while cur_size < n:\n",
        "\n",
        "            for start in range(0, n, cur_size * 2):\n",
        "                mid = min(n - 1, start + cur_size - 1)\n",
        "                end = min(n - 1, mid + cur_size)\n",
        "\n",
        "\n",
        "                A = self.merge(A, start, mid, end)\n",
        "\n",
        "            cur_size *= 2\n",
        "\n",
        "        return A"
      ],
      "metadata": {
        "id": "pQ9N0EARWdbZ"
      },
      "execution_count": null,
      "outputs": []
    },
    {
      "cell_type": "markdown",
      "source": [
        "### Benchmark"
      ],
      "metadata": {
        "id": "yUTElorx-GIx"
      }
    },
    {
      "cell_type": "code",
      "source": [
        "run_sizes = [8, 32, 128, 512, 4096, 16384]\n",
        "\n",
        "for run_size in run_sizes:\n",
        "    solution = Solution(run_size)\n",
        "\n",
        "    def run_timSort():\n",
        "        return solution.timSort(data)\n",
        "\n",
        "    execution_time = timeit.timeit(run_timSort, number = 1000)\n",
        "    print(f\"Run Size {run_size} - Execution Time: {execution_time} seconds\")"
      ],
      "metadata": {
        "colab": {
          "base_uri": "https://localhost:8080/"
        },
        "id": "wbo8z9xP9ce3",
        "outputId": "7c55a842-c801-4f59-80cf-1dde00ef31a9"
      },
      "execution_count": null,
      "outputs": [
        {
          "output_type": "stream",
          "name": "stdout",
          "text": [
            "Run Size 8 - Execution Time: 0.9493175999996311 seconds\n",
            "Run Size 32 - Execution Time: 0.6510790540014568 seconds\n",
            "Run Size 128 - Execution Time: 0.43770793299700017 seconds\n",
            "Run Size 512 - Execution Time: 0.20911728200007929 seconds\n",
            "Run Size 4096 - Execution Time: 0.12507283900049515 seconds\n",
            "Run Size 16384 - Execution Time: 0.11072638100085896 seconds\n"
          ]
        }
      ]
    },
    {
      "cell_type": "markdown",
      "source": [
        "# Leetcode"
      ],
      "metadata": {
        "id": "zPMEJdjV057f"
      }
    },
    {
      "cell_type": "markdown",
      "source": [
        "## Two Sum\n",
        "https://leetcode.com/problems/two-sum/description/"
      ],
      "metadata": {
        "id": "AtavxGAYsd4_"
      }
    },
    {
      "cell_type": "markdown",
      "source": [
        "### Solution - 1 (Slicing)\n",
        "\n",
        "The twoSum method takes an array nums and a target number target. It loops through each element in nums and checks if the complement of the current element (i.e., target - cur) exists in the remaining part of the array. If found, it returns the indices of the two numbers that add up to the target. This approach has a time complexity of O(n ^ 2)."
      ],
      "metadata": {
        "id": "V4xZG2xHxXQg"
      }
    },
    {
      "cell_type": "code",
      "source": [
        "class Solution:\n",
        "    def twoSum(self, nums: List[int], target: int) -> List[int]:\n",
        "\n",
        "        for i, cur in enumerate(nums):\n",
        "            complement = target - cur\n",
        "\n",
        "            if complement in nums[i + 1:]:\n",
        "                return [i, nums[i + 1:].index(complement) + (i + 1)]"
      ],
      "metadata": {
        "id": "IcC41voB2Kgd"
      },
      "execution_count": null,
      "outputs": []
    },
    {
      "cell_type": "markdown",
      "source": [
        "### Solution - 2 (Using Map)\n",
        "\n",
        "The twoSum method uses a dictionary (nums_map) to efficiently find a pair of numbers in the nums list that add up to the target. It iterates through the list, calculates the complement for each number, and checks if that complement exists in the dictionary. If found, it returns the indices of the two numbers. This approach has a time complexity of O(n)."
      ],
      "metadata": {
        "id": "PYizi_ZUyets"
      }
    },
    {
      "cell_type": "code",
      "source": [
        "class Solution:\n",
        "    def twoSum(self, nums: List[int], target: int) -> List[int]:\n",
        "        nums_map = {}\n",
        "\n",
        "        for i, n in enumerate(nums):\n",
        "\n",
        "            if target - n in nums_map:\n",
        "                return [nums_map[target - n], i]\n",
        "\n",
        "            nums_map[n] = i"
      ],
      "metadata": {
        "id": "sVtPjpg1yiQQ"
      },
      "execution_count": null,
      "outputs": []
    },
    {
      "cell_type": "markdown",
      "source": [
        "## Palindrome Number\n",
        "https://leetcode.com/problems/palindrome-number/description/"
      ],
      "metadata": {
        "id": "EUeV-kPd05uS"
      }
    },
    {
      "cell_type": "markdown",
      "source": [
        "### Solution - 1 (to String and Slicing)\n",
        "\n",
        "The isPalindrome function checks if an integer x is a palindrome by converting it to a string and comparing it to its reverse. If they are equal, it returns True, indicating a palindrome; otherwise, it returns False."
      ],
      "metadata": {
        "id": "uhXSAQ2P4M5N"
      }
    },
    {
      "cell_type": "code",
      "source": [
        "class Solution:\n",
        "    def isPalindrome(self, x: int) -> bool:\n",
        "\n",
        "        if x < 0:\n",
        "            return False\n",
        "\n",
        "        x_str = str(x)\n",
        "\n",
        "        return x_str == x_str[::-1]"
      ],
      "metadata": {
        "id": "NEEwlyfc4QX3"
      },
      "execution_count": null,
      "outputs": []
    },
    {
      "cell_type": "markdown",
      "source": [
        "### Soltuion - 2 (Arithmatic)\n",
        "\n",
        "The isPalindrome function checks if an integer x is a palindrome by reversing its digits and comparing it to the original number. If they are equal, it returns True, indicating a palindrome; otherwise, it returns False."
      ],
      "metadata": {
        "id": "h_gjcPJF5Zi8"
      }
    },
    {
      "cell_type": "code",
      "source": [
        "class Solution:\n",
        "    def isPalindrome(self, x: int) -> bool:\n",
        "\n",
        "        if x < 0:\n",
        "            return False\n",
        "\n",
        "        reversed_x = 0\n",
        "        original_x = x\n",
        "\n",
        "        while x > 0:\n",
        "\n",
        "            digit = x % 10\n",
        "            reversed_x = reversed_x * 10 + digit\n",
        "\n",
        "            x //= 10\n",
        "\n",
        "        return original_x == reversed_x"
      ],
      "metadata": {
        "id": "PkDT2DqR5i_H"
      },
      "execution_count": null,
      "outputs": []
    },
    {
      "cell_type": "markdown",
      "source": [
        "## Valid Parentheses\n",
        "https://leetcode.com/problems/valid-parentheses/description/\n"
      ],
      "metadata": {
        "id": "Mz-QK-hr6grx"
      }
    },
    {
      "cell_type": "markdown",
      "source": [
        "### Solution (Stack)\n",
        "\n",
        "It uses a stack to track opening brackets as it iterates through the string. When it encounters a closing bracket, it checks if the stack is empty or if the top element of the stack matches the corresponding opening bracket from a predefined dictionary. If there's a mismatch or if the stack is empty when it shouldn't be, the function returns False, indicating an invalid expression. Otherwise, if the stack is empty at the end of the iteration, it returns True, indicating a valid expression that adheres to the criteria of balanced and correctly ordered brackets."
      ],
      "metadata": {
        "id": "8KC8kLPj9p9j"
      }
    },
    {
      "cell_type": "code",
      "source": [
        "class Solution:\n",
        "    def isValid(self, s: str) -> bool:\n",
        "        pair_dictionary = {\n",
        "            \"}\": \"{\",\n",
        "            \")\": \"(\",\n",
        "            \"]\": \"[\"\n",
        "        }\n",
        "\n",
        "        stack = []\n",
        "\n",
        "        for item in s:\n",
        "            if item in pair_dictionary:\n",
        "                if not stack or stack.pop() != pair_dictionary[item]:\n",
        "                    return False\n",
        "            else:\n",
        "                stack.append(item)\n",
        "\n",
        "        return not stack"
      ],
      "metadata": {
        "id": "oDcikiE2-Elv"
      },
      "execution_count": null,
      "outputs": []
    },
    {
      "cell_type": "markdown",
      "source": [
        "## Merge Two Sorted Lists\n",
        "https://leetcode.com/problems/merge-two-sorted-lists/"
      ],
      "metadata": {
        "id": "_X0X35zlEOPQ"
      }
    },
    {
      "cell_type": "markdown",
      "source": [
        "### Solution (ListNode, Recursive Function)\n",
        "\n",
        "The mergeTwoLists function is designed to merge two sorted linked lists (list1 and list2) into a single sorted linked list. It begins by checking if list1 is empty or if list2 exists and the first element of list2 is smaller than the first element of list1. If either of these conditions is true, it swaps the lists to ensure that **list1 always represents the merged result, starting with the smallest element**. Then, it recursively calls itself to merge the remaining portions of the lists, **updating the next pointer of the current node in list1 to reference to the merged result of the remaining nodes**. This process continues until both input lists are fully merged, and the function returns the merged list, satisfying the requirement of combining and sorting the elements from both input lists while preserving their order."
      ],
      "metadata": {
        "id": "fGEroBGbETmf"
      }
    },
    {
      "cell_type": "code",
      "source": [
        "class Solution:\n",
        "    def mergeTwoLists(self, list1: Optional[ListNode], list2: Optional[ListNode]) -> Optional[ListNode]:\n",
        "        if (not list1) or (list2 and list1.val > list2.val):\n",
        "            list1, list2 = list2, list1\n",
        "        if list1:\n",
        "            list1.next = self.mergeTwoLists(list1.next, list2)\n",
        "        return list1"
      ],
      "metadata": {
        "id": "c8GyL-N0Ei_q"
      },
      "execution_count": null,
      "outputs": []
    },
    {
      "cell_type": "markdown",
      "source": [
        "## The Index of the First Occurrence in a String\n",
        "https://leetcode.com/problems/find-the-index-of-the-first-occurrence-in-a-string/description/\n"
      ],
      "metadata": {
        "id": "mVgRPcPzOJ9F"
      }
    },
    {
      "cell_type": "markdown",
      "source": [
        "### Solution (Loop)\n",
        "\n",
        "It uses nested loops to iterate through both strings, comparing characters. The outer loop iterates through the haystack string, while the inner loop iterates through the needle string. It checks for matching characters and returns the index when a match is found. If the end of the haystack string is reached without finding a match, it returns -1."
      ],
      "metadata": {
        "id": "4bQ2AHL9OwyR"
      }
    },
    {
      "cell_type": "code",
      "source": [
        "class Solution:\n",
        "    def strStr(self, haystack: str, needle: str) -> int:\n",
        "        for i in range(len(haystack) + 1):\n",
        "            for j in range(len(needle) + 1):\n",
        "                if j == len(needle):\n",
        "                    return i\n",
        "                if i + j == len(haystack):\n",
        "                    return -1\n",
        "                if needle[j] != haystack[i + j]:\n",
        "                    break"
      ],
      "metadata": {
        "id": "f6fKX2OsTFgW"
      },
      "execution_count": null,
      "outputs": []
    },
    {
      "cell_type": "markdown",
      "source": [
        "## Search Insert Position\n",
        "\n",
        "https://leetcode.com/problems/search-insert-position/description/"
      ],
      "metadata": {
        "id": "NUyJ4Poqtw3X"
      }
    },
    {
      "cell_type": "markdown",
      "source": [
        "### Solution - (Binary Search, Two Pointers)\n",
        "\n",
        "It initializes two pointers, left and right, to the list's boundaries. Inside a while loop, it calculates the middle index, mid, and compares nums[mid] to the target. If they match, it returns mid. If nums[mid] is less than the target, it updates left to mid + 1 to search the right half. If nums[mid] is greater, it updates right to mid - 1 to search the left half. **The loop continues until left exceeds right, at which point it returns left as the correct insertion position.** This binary search ensures an efficient O(log n) time complexity for the task."
      ],
      "metadata": {
        "id": "KLb6j7Abt2SO"
      }
    },
    {
      "cell_type": "code",
      "source": [
        "class Solution:\n",
        "    def searchInsert(self, nums: List[int], target: int) -> int:\n",
        "\n",
        "        left, right = 0, len(nums) - 1\n",
        "\n",
        "        while left <= right:\n",
        "            mid = left + (right - left) // 2\n",
        "\n",
        "            if nums[mid] == target:\n",
        "                return mid\n",
        "\n",
        "            elif nums[mid] < target:\n",
        "                left = mid + 1\n",
        "\n",
        "            else:\n",
        "                right = mid - 1\n",
        "\n",
        "        return left"
      ],
      "metadata": {
        "id": "vlAqicI0yiD2"
      },
      "execution_count": null,
      "outputs": []
    },
    {
      "cell_type": "markdown",
      "source": [
        "## Plus One\n",
        "\n",
        "https://leetcode.com/problems/plus-one/description/"
      ],
      "metadata": {
        "id": "lIEkn9kc1R_A"
      }
    },
    {
      "cell_type": "markdown",
      "source": [
        "### Solution (Arithmatic)\n",
        "\n",
        "It first converts the digit array into an integer by iterating through the digits, adding them up with appropriate place values. Then, it increments this integer by one. Afterward, it converts the updated integer back into a list of digits by repeatedly extracting the last digit and updating the number by integer division. Finally, it returns the list of digits representing the incremented number. While this code works, it may not be the most efficient approach for adding one to a number represented by an array, as it involves integer conversions and extra iterations."
      ],
      "metadata": {
        "id": "e1zaQS8452zI"
      }
    },
    {
      "cell_type": "code",
      "source": [
        "class Solution:\n",
        "    def plusOne(self, digits: List[int]) -> List[int]:\n",
        "\n",
        "        num = 0\n",
        "        for i in range(len(digits)):\n",
        "            digit = digits[len(digits) - 1 - i]\n",
        "            num += digit * 10 ** i\n",
        "\n",
        "        num += 1\n",
        "\n",
        "        answer = []\n",
        "        while num > 0:\n",
        "            answer.insert(0, num % 10)\n",
        "            num //= 10\n",
        "\n",
        "        return answer"
      ],
      "metadata": {
        "id": "6DVvf68D2x4Q"
      },
      "execution_count": null,
      "outputs": []
    },
    {
      "cell_type": "markdown",
      "source": [
        "## Fibonacci Number\n",
        "https://leetcode.com/problems/fibonacci-number/description/"
      ],
      "metadata": {
        "id": "dmdaCFCA7crs"
      }
    },
    {
      "cell_type": "markdown",
      "source": [
        "### Solution (Dynamic Programming, Memoization)\n",
        "\n",
        "The code implements a Fibonacci number calculator using dynamic programming with memoization. It takes an integer n as input and calculates the nth Fibonacci number efficiently. The code utilizes a dictionary (dp) to store previously computed Fibonacci numbers to avoid redundant calculations. If n is less than or equal to 1, it returns n directly. Otherwise, it checks if the Fibonacci number for n is already in the dp dictionary; if so, it returns the stored result. If not, it calculates the Fibonacci number for n by recursively summing the Fibonacci numbers for n-1 and n-2 and stores the result in dp. This approach significantly improves efficiency by eliminating redundant calculations, resulting in a faster computation of Fibonacci numbers for large values of n."
      ],
      "metadata": {
        "id": "-BuMXWIz7hrP"
      }
    },
    {
      "cell_type": "code",
      "source": [
        "class Solution:\n",
        "\n",
        "    dp = {}\n",
        "\n",
        "    def fib(self, n: int) -> int:\n",
        "\n",
        "        if n <= 1:\n",
        "            return n\n",
        "\n",
        "        if n in self.dp:\n",
        "            return self.dp[n]\n",
        "\n",
        "        self.dp[n] = self.fib(n - 1) + self.fib(n - 2)\n",
        "\n",
        "        return self.dp[n]"
      ],
      "metadata": {
        "id": "HUeV-eVY8Ujv"
      },
      "execution_count": null,
      "outputs": []
    },
    {
      "cell_type": "markdown",
      "source": [
        "## Climbing Stairs\n",
        "\n",
        "https://leetcode.com/problems/climbing-stairs/description/"
      ],
      "metadata": {
        "id": "CXOZdDBZ6ruF"
      }
    },
    {
      "cell_type": "markdown",
      "source": [
        "### Solution (Dynamic Programming, Memoization)"
      ],
      "metadata": {
        "id": "HL1cUEme6urK"
      }
    },
    {
      "cell_type": "code",
      "source": [
        "class Solution:\n",
        "\n",
        "    dp = {}\n",
        "\n",
        "    def climbStairs(self, n: int) -> int:\n",
        "\n",
        "        if n <= 2:\n",
        "            return n\n",
        "\n",
        "        if n in self.dp:\n",
        "            return self.dp[n]\n",
        "\n",
        "        self.dp[n] = self.climbStairs(n - 1) + self.climbStairs(n - 2)\n",
        "\n",
        "        return self.dp[n]"
      ],
      "metadata": {
        "id": "wg7JO1bsFlWI"
      },
      "execution_count": null,
      "outputs": []
    },
    {
      "cell_type": "markdown",
      "source": [
        "## Binary Tree Preorder Traversal\n",
        "\n",
        "https://leetcode.com/problems/binary-tree-preorder-traversal/description/"
      ],
      "metadata": {
        "id": "f5L5IKjrqTKi"
      }
    },
    {
      "cell_type": "markdown",
      "source": [
        "### Solution"
      ],
      "metadata": {
        "id": "TGbs0hFN0Xr-"
      }
    },
    {
      "cell_type": "code",
      "source": [
        "class Solution:\n",
        "    def preorderTraversal(self, root: Optional[TreeNode]) -> List[int]:\n",
        "\n",
        "        answer = []\n",
        "        def dfs(node: Optional[TreeNode]):\n",
        "\n",
        "            if node is None:\n",
        "                return\n",
        "\n",
        "            answer.append(node.val)\n",
        "\n",
        "            dfs(node.left)\n",
        "            dfs(node.right)\n",
        "\n",
        "        dfs(root)\n",
        "\n",
        "        return answer"
      ],
      "metadata": {
        "id": "WZpYb5lM0enr"
      },
      "execution_count": null,
      "outputs": []
    },
    {
      "cell_type": "markdown",
      "source": [
        "## Binary Tree Postorder Traversal\n",
        "\n",
        "https://leetcode.com/problems/binary-tree-postorder-traversal/description/"
      ],
      "metadata": {
        "id": "Xw7oO1an8D-h"
      }
    },
    {
      "cell_type": "markdown",
      "source": [
        "### Solution"
      ],
      "metadata": {
        "id": "MLzf4aZC8KJX"
      }
    },
    {
      "cell_type": "code",
      "source": [
        "class Solution:\n",
        "    def postorderTraversal(self, root: Optional[TreeNode]) -> List[int]:\n",
        "\n",
        "        answer = []\n",
        "        def dfs(node: Optional[TreeNode]):\n",
        "\n",
        "            if node is None:\n",
        "                return\n",
        "\n",
        "            dfs(node.left)\n",
        "            dfs(node.right)\n",
        "\n",
        "            answer.append(node.val)\n",
        "\n",
        "        dfs(root)\n",
        "\n",
        "        return answer"
      ],
      "metadata": {
        "id": "GafWvql18LA0"
      },
      "execution_count": null,
      "outputs": []
    },
    {
      "cell_type": "markdown",
      "source": [
        "## Symmetric Tree\n",
        "\n",
        "https://leetcode.com/problems/symmetric-tree/description/\n"
      ],
      "metadata": {
        "id": "UsgWdI6OFtGw"
      }
    },
    {
      "cell_type": "markdown",
      "source": [
        "### Solution (Binary Tree, Recursive Call)\n",
        "\n",
        "The dfs function recursively checks if the tree rooted at two input nodes, left and right, is symmetric by comparing corresponding node values and mirroring their subtrees. If both subtrees are symmetric and the values match, the function returns True; otherwise, it returns False. The main function initiates the DFS by calling dfs on the left and right subtrees of the root node and returns the result. This approach efficiently examines the entire tree's symmetry by recursively verifying mirrored subtrees."
      ],
      "metadata": {
        "id": "ceJBm7nYdG5F"
      }
    },
    {
      "cell_type": "code",
      "source": [
        "class Solution:\n",
        "    def isSymmetric(self, root: Optional[TreeNode]) -> bool:\n",
        "\n",
        "        def dfs(left: Optional[TreeNode], right: Optional[TreeNode]) -> bool:\n",
        "\n",
        "            if not left and not right:\n",
        "                return True\n",
        "\n",
        "            if not left or not right:\n",
        "                return False\n",
        "\n",
        "            return (left.val == right.val and\n",
        "                dfs(left.left, right.right) and\n",
        "                dfs(left.right, right.left))\n",
        "\n",
        "        return dfs(root.left, root.right)"
      ],
      "metadata": {
        "id": "TCg2vVcedIck"
      },
      "execution_count": null,
      "outputs": []
    },
    {
      "cell_type": "markdown",
      "source": [
        "## Maximum Depth of Binary Tree\n",
        "https://leetcode.com/problems/maximum-depth-of-binary-tree/description/"
      ],
      "metadata": {
        "id": "srcE6Vm0f4ik"
      }
    },
    {
      "cell_type": "markdown",
      "source": [
        "### Solution\n",
        "\n",
        "The code utilizes a recursive depth-first search (DFS) approach to determine the maximum depth of a binary tree. The dfs function takes a node as input and recursively computes the depth of the tree rooted at that node. If the input node is None, indicating an empty subtree, it returns 0. Otherwise, it recursively calculates the depths of the left and right subtrees by calling dfs on them and then returns the maximum depth between the left and right subtrees plus 1, accounting for the current node. The main function initializes the DFS by calling dfs on the root node and returns the computed maximum depth."
      ],
      "metadata": {
        "id": "Vsdowz1zgIOs"
      }
    },
    {
      "cell_type": "code",
      "source": [
        "class Solution:\n",
        "    def maxDetph(self, root: Optional[TreeNode]) -> int:\n",
        "\n",
        "        def dfs(node: Optional[TreeNode]):\n",
        "\n",
        "            if node is None:\n",
        "                return 0\n",
        "\n",
        "            left = dfs(node.left)\n",
        "            right = dfs(node.right)\n",
        "\n",
        "            return max(left, right) + 1\n",
        "\n",
        "        return dfs(root)"
      ],
      "metadata": {
        "id": "aGRca7QVjitK"
      },
      "execution_count": null,
      "outputs": []
    },
    {
      "cell_type": "markdown",
      "source": [
        "## Minimum Depth of Binary Tree\n",
        "\n",
        "https://leetcode.com/problems/minimum-depth-of-binary-tree/description/"
      ],
      "metadata": {
        "id": "Jkz14pJms5KM"
      }
    },
    {
      "cell_type": "markdown",
      "source": [
        "### Solution"
      ],
      "metadata": {
        "id": "bHQfbwSKs9o7"
      }
    },
    {
      "cell_type": "code",
      "source": [
        "class Solution:\n",
        "    def minDepth(self, root: Optional[TreeNode]) -> int:\n",
        "\n",
        "        def dfs(node: Optional[TreeNode]):\n",
        "\n",
        "            if node is None:\n",
        "                return 0\n",
        "\n",
        "            left = dfs(node.left)\n",
        "            right = dfs(node.right)\n",
        "\n",
        "            if left == 0:\n",
        "                return right +  1\n",
        "            elif right == 0:\n",
        "                return left + 1\n",
        "\n",
        "            return min(left, right) + 1\n",
        "\n",
        "        return dfs(root)"
      ],
      "metadata": {
        "id": "FnkHfkhss_L3"
      },
      "execution_count": null,
      "outputs": []
    },
    {
      "cell_type": "markdown",
      "source": [
        "## Diameter of Binary Tree\n",
        "\n",
        "https://leetcode.com/problems/diameter-of-binary-tree/description/"
      ],
      "metadata": {
        "id": "-nqVFUwVt1uO"
      }
    },
    {
      "cell_type": "markdown",
      "source": [
        "### Solution\n",
        "\n",
        "The code employs a depth-first search (DFS) approach using a nested function dfs. It recursively computes the depth of the binary tree while simultaneously updating the path variable to store the maximum diameter found so far. Throughout the traversal, it updates the path variable whenever a longer diameter is encountered."
      ],
      "metadata": {
        "id": "gxwe1CiMt7n0"
      }
    },
    {
      "cell_type": "code",
      "source": [
        "class Solution:\n",
        "\n",
        "    path = 0\n",
        "    def diameterOfBinaryTree(self, root: Optional[TreeNode]) -> int:\n",
        "\n",
        "        def dfs(node: Optional[TreeNode]):\n",
        "\n",
        "            if node is None:\n",
        "                return -1\n",
        "\n",
        "            left = dfs(node.left)\n",
        "            right = dfs(node.right)\n",
        "\n",
        "            self.path = max(self.path, left + right + 2)\n",
        "\n",
        "            return max(left, right) + 1\n",
        "\n",
        "        dfs(root)\n",
        "\n",
        "        return self.path\n"
      ],
      "metadata": {
        "id": "g_vGkLqY5Tkj"
      },
      "execution_count": null,
      "outputs": []
    },
    {
      "cell_type": "markdown",
      "source": [
        "## Convert Sorted Array to Binary Search Tree\n",
        "https://leetcode.com/problems/convert-sorted-array-to-binary-search-tree/description/"
      ],
      "metadata": {
        "id": "-EvBHwUhCS4C"
      }
    },
    {
      "cell_type": "markdown",
      "source": [
        "### Solution\n",
        "\n",
        "If the nums array is empty, it returns None; otherwise, it calculates the middle index of the array, creates a TreeNode with that value, and recursively constructs the left and right subtrees."
      ],
      "metadata": {
        "id": "dw2lLj08CXUM"
      }
    },
    {
      "cell_type": "code",
      "source": [
        "class Solution:\n",
        "    def sortedArrayToBST(self, nums: List[int]) -> Optional[TreeNode]:\n",
        "\n",
        "        def dfs(nums):\n",
        "\n",
        "            if not nums:\n",
        "                return None\n",
        "\n",
        "            mid = len(nums) // 2\n",
        "\n",
        "            node = TreeNode(nums[mid])\n",
        "\n",
        "            node.left = dfs(nums[:mid])\n",
        "            node.right = dfs(nums[mid + 1:])\n",
        "\n",
        "            return node\n",
        "\n",
        "        return dfs(nums)"
      ],
      "metadata": {
        "id": "UTc3UGU8Lmcg"
      },
      "execution_count": null,
      "outputs": []
    },
    {
      "cell_type": "markdown",
      "source": [
        "## Balanced Binary Tree\n",
        "https://leetcode.com/problems/balanced-binary-tree/description/"
      ],
      "metadata": {
        "id": "6WHfweRmQfF_"
      }
    },
    {
      "cell_type": "markdown",
      "source": [
        "### Solution\n",
        "\n",
        "The dfs function calculates the height of each subtree and checks if the absolute difference between the heights exceeds one."
      ],
      "metadata": {
        "id": "rvyfn9vQTuto"
      }
    },
    {
      "cell_type": "code",
      "source": [
        "class Solution:\n",
        "    diff = True\n",
        "    def isBalanced(self, root: Optional[TreeNode]) -> bool:\n",
        "\n",
        "        def dfs(node: Optional[TreeNode]):\n",
        "\n",
        "            if node is None:\n",
        "                return 0\n",
        "\n",
        "            left = dfs(node.left)\n",
        "            right = dfs(node.right)\n",
        "\n",
        "            if abs(left - right) > 1:\n",
        "                self.diff = False\n",
        "\n",
        "            return max(left, right) + 1\n",
        "\n",
        "        dfs(root)\n",
        "\n",
        "        return self.diff"
      ],
      "metadata": {
        "id": "UAXciP-XTwlK"
      },
      "execution_count": null,
      "outputs": []
    },
    {
      "cell_type": "markdown",
      "source": [
        "## Pascal's Triangle\n",
        "https://leetcode.com/problems/pascals-triangle/description/\n"
      ],
      "metadata": {
        "id": "detADc1BkEPX"
      }
    },
    {
      "cell_type": "markdown",
      "source": [
        "### Solution (Loop)"
      ],
      "metadata": {
        "id": "ZuyNJxbskOhs"
      }
    },
    {
      "cell_type": "code",
      "source": [
        "class Solution:\n",
        "    def generate(self, numRows: int) -> List[List[int]]:\n",
        "\n",
        "        result = []\n",
        "        for i in range(1, numRows + 1):\n",
        "            row = [0] * i\n",
        "            row[0], row[-1]  = 1, 1\n",
        "\n",
        "            for j in range(1, i - 1):\n",
        "                row[j] = result[-1][j - 1] + result[-1][j]\n",
        "\n",
        "            result.append(row)\n",
        "\n",
        "        return result"
      ],
      "metadata": {
        "id": "GPjOm94LobVD"
      },
      "execution_count": null,
      "outputs": []
    },
    {
      "cell_type": "markdown",
      "source": [
        "### Solution (Recursive Call)\n",
        "\n",
        "In recursive algorithms, \"Base Cases\" serve as the termination conditions for the recursion, where recursion stops, and a direct result is returned without further recursive calls.\n",
        "\n",
        "\"Non-base Cases (Recursive case)\" refer to the situations where recursive calls are made, and some modification or computation is performed on the problem or resource."
      ],
      "metadata": {
        "id": "pWKHmxuWtbGT"
      }
    },
    {
      "cell_type": "code",
      "source": [
        "class Solution:\n",
        "    def generate(self, numRows: int) -> List[List[int]]:\n",
        "\n",
        "        if numRows == 0:\n",
        "            return []\n",
        "\n",
        "        if numRows == 1:\n",
        "            return [[1]]\n",
        "\n",
        "        prevRows = self.generate(numRows - 1)\n",
        "        newRow = [1] * numRows\n",
        "\n",
        "        for i in range(1, numRows - 1):\n",
        "            newRow[i] = prevRows[-1][i - 1] + prevRows[-1][i]\n",
        "\n",
        "        prevRows.append(newRow)\n",
        "\n",
        "        return prevRows"
      ],
      "metadata": {
        "id": "xwi0a5Hcte_w"
      },
      "execution_count": null,
      "outputs": []
    },
    {
      "cell_type": "markdown",
      "source": [
        "## Best Time to Buy and Sell Stock\n",
        "\n",
        "https://leetcode.com/problems/best-time-to-buy-and-sell-stock/description/"
      ],
      "metadata": {
        "id": "z7ARkpIg639H"
      }
    },
    {
      "cell_type": "markdown",
      "source": [
        "### Solution (Dynamic Programming)\n",
        "\n",
        "The solution iterates through the prices, continually updating carry to be the minimum of the current carry and the current price (representing the optimal buying decision) and updating profit to be the maximum of the current profit and the difference between the current price and carry (representing the optimal selling decision)."
      ],
      "metadata": {
        "id": "sz_NxfXvFTl8"
      }
    },
    {
      "cell_type": "code",
      "source": [
        "class Solution:\n",
        "    def maxProfit(self, prices: List[int]) -> int:\n",
        "\n",
        "        profit = 0\n",
        "        carry = prices[0]\n",
        "\n",
        "        for i in range(1, len(prices)):\n",
        "            carry = min(carry, prices[i])\n",
        "            profit = max(profit, prices[i] - carry)\n",
        "\n",
        "        return profit"
      ],
      "metadata": {
        "id": "rhwFvD9TFbXS"
      },
      "execution_count": null,
      "outputs": []
    },
    {
      "cell_type": "markdown",
      "source": [
        "## Best Time to Buy and Sell Stock II\n",
        "\n",
        "https://leetcode.com/problems/best-time-to-buy-and-sell-stock-ii/description/"
      ],
      "metadata": {
        "id": "BnIzuEOaCrpK"
      }
    },
    {
      "cell_type": "markdown",
      "source": [
        "### Solution (Stack)"
      ],
      "metadata": {
        "id": "YPL3r5cOCvyi"
      }
    },
    {
      "cell_type": "code",
      "source": [
        "class Solution:\n",
        "    def maxProfit(self, prices: List[int]) -> int:\n",
        "\n",
        "        profit = 0\n",
        "        stack = []\n",
        "\n",
        "        for price in prices:\n",
        "            if stack and (price > stack[-1]):\n",
        "                profit += (price - stack.pop())\n",
        "\n",
        "            stack.append(price)\n",
        "\n",
        "        return profit"
      ],
      "metadata": {
        "id": "uwUPxt4lDllS"
      },
      "execution_count": null,
      "outputs": []
    },
    {
      "cell_type": "markdown",
      "source": [
        "## Valid Palindrome\n",
        "https://leetcode.com/problems/valid-palindrome/description/"
      ],
      "metadata": {
        "id": "RVF3X5kvJIeo"
      }
    },
    {
      "cell_type": "markdown",
      "source": [
        "### Solution (Regular Expression)"
      ],
      "metadata": {
        "id": "ZTCsTd5eJb06"
      }
    },
    {
      "cell_type": "code",
      "source": [
        "class Solution:\n",
        "    def isPalindrome(self, s: str) -> bool:\n",
        "        s = s.lower()\n",
        "        s = re.sub('[^a-z0-9]', '', s)\n",
        "\n",
        "        return s == s[::-1]"
      ],
      "metadata": {
        "id": "D_5cMOtfLq2P"
      },
      "execution_count": null,
      "outputs": []
    },
    {
      "cell_type": "markdown",
      "source": [
        "### Solution (Stack)"
      ],
      "metadata": {
        "id": "hpAvc3coLug3"
      }
    },
    {
      "cell_type": "code",
      "source": [
        "class Solution:\n",
        "    def isPalindrome(self, s: str) -> bool:\n",
        "\n",
        "        stack = []\n",
        "\n",
        "        for char in s:\n",
        "            if char.isalnum():\n",
        "                stack.append(char.lower())\n",
        "\n",
        "        while len(stack) > 1:\n",
        "            if stack.pop() != stack.pop(0):\n",
        "                return False\n",
        "\n",
        "        return True"
      ],
      "metadata": {
        "id": "rL_Bs5zwMUlm"
      },
      "execution_count": null,
      "outputs": []
    },
    {
      "cell_type": "markdown",
      "source": [
        "## Single Number\n",
        "https://leetcode.com/problems/single-number/description/"
      ],
      "metadata": {
        "id": "6GnDcegZMeyt"
      }
    },
    {
      "cell_type": "markdown",
      "source": [
        "### Solution (Bit Operation)"
      ],
      "metadata": {
        "id": "8pPGsqSPMgUX"
      }
    },
    {
      "cell_type": "code",
      "source": [
        "class Solution:\n",
        "    def singleNumber(self, nums: List[int]) -> int:\n",
        "        result = 0\n",
        "\n",
        "        for num in nums:\n",
        "            result ^= num\n",
        "\n",
        "        return result"
      ],
      "metadata": {
        "id": "_A4K_8dPPBVw"
      },
      "execution_count": null,
      "outputs": []
    },
    {
      "cell_type": "markdown",
      "source": [
        "### Solution (List)"
      ],
      "metadata": {
        "id": "P8poqhPnTINz"
      }
    },
    {
      "cell_type": "code",
      "source": [
        "class Solution:\n",
        "    def singleNumber(self, nums: List[int]) -> int:\n",
        "\n",
        "        unique = []\n",
        "        for num in nums:\n",
        "\n",
        "            if unique and num in unique:\n",
        "                unique.remove(num)\n",
        "                continue\n",
        "\n",
        "            unique.append(num)\n",
        "\n",
        "        return unique[-1]"
      ],
      "metadata": {
        "id": "yFet8iE8SXMD"
      },
      "execution_count": null,
      "outputs": []
    },
    {
      "cell_type": "markdown",
      "source": [
        "## Reverse Words in a String III\n",
        "https://leetcode.com/problems/reverse-words-in-a-string-iii/description/"
      ],
      "metadata": {
        "id": "cKHxvIPCH07C"
      }
    },
    {
      "cell_type": "markdown",
      "source": [
        "### Solution (Two Pointers)\n",
        "\n",
        " The two-pointer-approach code below effectively identifies the start and end positions of each word in the string and reverses them as needed."
      ],
      "metadata": {
        "id": "K9U5IrOEH_VN"
      }
    },
    {
      "cell_type": "code",
      "source": [
        "class Solution:\n",
        "    def reverseWords(self, s: str) -> str:\n",
        "        s += ' '\n",
        "        answer = ''\n",
        "        left = 0\n",
        "\n",
        "        for right, char in enumerate(s):\n",
        "            if char == ' ':\n",
        "                word = s[left : right]\n",
        "                answer += word[::-1] + ' '\n",
        "                left = right + 1\n",
        "\n",
        "        return answer.rstrip()"
      ],
      "metadata": {
        "id": "iNNnjXUWJPUo"
      },
      "execution_count": null,
      "outputs": []
    },
    {
      "cell_type": "markdown",
      "source": [
        "### Solution (Functional)"
      ],
      "metadata": {
        "id": "Ao0cAElnKzCu"
      }
    },
    {
      "cell_type": "code",
      "source": [
        "class Solution:\n",
        "    def reverseWords(self, s: str) -> str:\n",
        "        return ' '.join(\n",
        "            map(lambda word: word[::-1],\n",
        "                s.split())\n",
        "        )"
      ],
      "metadata": {
        "id": "vArozuyqLBGl"
      },
      "execution_count": null,
      "outputs": []
    },
    {
      "cell_type": "markdown",
      "source": [
        "## Majority Element\n",
        "\n",
        "https://leetcode.com/problems/majority-element/description/"
      ],
      "metadata": {
        "id": "ZWy9CMgd8zMN"
      }
    },
    {
      "cell_type": "markdown",
      "source": [
        "### Solution (Counting-based)"
      ],
      "metadata": {
        "id": "U3uV1bUm87ye"
      }
    },
    {
      "cell_type": "code",
      "source": [
        "class Solution:\n",
        "    def majorityElement(self, nums: List[int]) -> int:\n",
        "\n",
        "        counter = {}\n",
        "\n",
        "        for num in nums:\n",
        "\n",
        "            if num in counter:\n",
        "                counter[num] += 1\n",
        "\n",
        "            else:\n",
        "                counter[num] = 1\n",
        "\n",
        "        return list(map(\n",
        "                        lambda item: item[0],\n",
        "                        sorted(counter.items(), key = lambda item: item[1], reverse = True)\n",
        "                    ))[0]"
      ],
      "metadata": {
        "id": "5FZm3i3P9aNI"
      },
      "execution_count": null,
      "outputs": []
    },
    {
      "cell_type": "markdown",
      "source": [
        "### Solution (Divide and Conquer)\n",
        "\n",
        "The solution recursively divides the list into halves and computes the majority element within each half. Then, it compares the counts of the majority elements from both halves to determine the final majority element of the entire list. This approach reduces the problem size through recursion but still requires counting operations at each level, resulting in a time complexity of O(n * log n)."
      ],
      "metadata": {
        "id": "C2FQfRzDBpaI"
      }
    },
    {
      "cell_type": "code",
      "source": [
        "class Solution:\n",
        "    def majorityElement(self, nums: List[int]) -> int:\n",
        "\n",
        "        if len(nums) == 0:\n",
        "            return None\n",
        "\n",
        "        if len(nums) == 1:\n",
        "            return nums[0]\n",
        "\n",
        "        # serves as a halving index && majority bar\n",
        "        mid = len(nums) // 2\n",
        "\n",
        "        a = self.majorityElement(nums[:mid])\n",
        "        b = self.majorityElement(nums[mid:])\n",
        "\n",
        "        return [b, a][nums.count(a) > mid]"
      ],
      "metadata": {
        "id": "0XCYSJ-uBrNO"
      },
      "execution_count": null,
      "outputs": []
    },
    {
      "cell_type": "markdown",
      "source": [
        "### Solution (Boyer-Moore Majority Vote)\n",
        "\n",
        "Iterate through the array, and if the count becomes zero, update the candidate to the current element. Whenever the candidate element appears again, increment the count; otherwise, decrement the count. Since the majority element appears more than n/2 times, it will have a count greater than zero at the end of the iteration."
      ],
      "metadata": {
        "id": "C2tPCihJDOHy"
      }
    },
    {
      "cell_type": "code",
      "source": [
        "class Solution:\n",
        "    def majorityElement(self, nums: List[int]) -> int:\n",
        "        candidate = None\n",
        "        count = 0\n",
        "\n",
        "        for num in nums:\n",
        "            if count == 0:\n",
        "                candidate = num\n",
        "                count += 1\n",
        "            elif num == candidate:\n",
        "                count += 1\n",
        "            else:\n",
        "                count -= 1\n",
        "\n",
        "        return candidate"
      ],
      "metadata": {
        "id": "NGpb06cbDPn5"
      },
      "execution_count": null,
      "outputs": []
    },
    {
      "cell_type": "markdown",
      "source": [
        "## Reverse Linked List\n",
        "\n",
        "https://leetcode.com/problems/reverse-linked-list/description/"
      ],
      "metadata": {
        "id": "qaqRYlwjIhbJ"
      }
    },
    {
      "cell_type": "markdown",
      "source": [
        "### Solution (Recursive Call)"
      ],
      "metadata": {
        "id": "cYvqRUbiIhTY"
      }
    },
    {
      "cell_type": "code",
      "source": [
        "class Solution:\n",
        "    def reverseList(self, head: Optional[ListNode]) -> Optional[ListNode]:\n",
        "\n",
        "        nodes = []\n",
        "        while head:\n",
        "            nodes.append(head.val)\n",
        "            head = head.next\n",
        "\n",
        "        def dfs(nodes: List[int]) -> Optional[ListNode]:\n",
        "\n",
        "            if not nodes:\n",
        "                return None\n",
        "\n",
        "            node = nodes.pop()\n",
        "            reversed = dfs(nodes)\n",
        "\n",
        "            return ListNode(node, reversed)\n",
        "\n",
        "        return dfs(nodes)"
      ],
      "metadata": {
        "id": "NKTkm-l_Sl8t"
      },
      "execution_count": null,
      "outputs": []
    },
    {
      "cell_type": "markdown",
      "source": [
        "### Solution (While Loop)"
      ],
      "metadata": {
        "id": "zZeENSveVFbk"
      }
    },
    {
      "cell_type": "code",
      "source": [
        "class Solution:\n",
        "    def reverseList(self, head: Optional[ListNode]) -> Optional[ListNode]:\n",
        "\n",
        "        prev = None\n",
        "        while head:\n",
        "            prev, prev.next, head = head, prev, head.next\n",
        "\n",
        "        return prev"
      ],
      "metadata": {
        "id": "fSfeWiARRn-n"
      },
      "execution_count": null,
      "outputs": []
    },
    {
      "cell_type": "markdown",
      "source": [
        "## Invert Binary Tree\n",
        "https://leetcode.com/problems/invert-binary-tree/description/"
      ],
      "metadata": {
        "id": "m4DhisTNpGxz"
      }
    },
    {
      "cell_type": "markdown",
      "source": [
        "### Solution\n",
        "\n",
        "The function starts by checking if the given node is not empty. If the node exists, it recursively calls itself on the right and left subtrees, effectively swapping them. This process continues until all nodes in the tree have been swapped."
      ],
      "metadata": {
        "id": "xTPxgWHhpgoQ"
      }
    },
    {
      "cell_type": "code",
      "source": [
        "class Solution:\n",
        "    def invertTree(self, root: Optional[TreeNode]) -> Optional[TreeNode]:\n",
        "        def invert(node):\n",
        "            if node:\n",
        "                node.left, node.right = invert(node.right), invert(node.left)\n",
        "                return node\n",
        "            return None\n",
        "\n",
        "        return invert(root)"
      ],
      "metadata": {
        "id": "df8viv6dwfmA"
      },
      "execution_count": null,
      "outputs": []
    },
    {
      "cell_type": "markdown",
      "source": [
        "## Palindrome Linked List\n",
        "\n",
        "https://leetcode.com/problems/palindrome-linked-list/description/"
      ],
      "metadata": {
        "id": "KNS7GqOw2OIN"
      }
    },
    {
      "cell_type": "markdown",
      "source": [
        "### Solution (Convert To List)"
      ],
      "metadata": {
        "id": "WlfqdLxy2R4W"
      }
    },
    {
      "cell_type": "code",
      "source": [
        "class Solution:\n",
        "    def isPalindrome(self, head: Optional[ListNode]) -> bool:\n",
        "\n",
        "        converted = []\n",
        "\n",
        "        while head:\n",
        "\n",
        "            converted.append(head.val)\n",
        "            head = head.next\n",
        "\n",
        "        return converted == converted[::-1]"
      ],
      "metadata": {
        "id": "v32Pk8UY2UFP"
      },
      "execution_count": null,
      "outputs": []
    },
    {
      "cell_type": "markdown",
      "source": [
        "### Solution (Two Pointers)\n",
        "\n",
        " It reverses the first half of the linked list using the prev pointer to keep track of the reversed part. When the fast pointer reaches the end of the list, the slow pointer will be in the middle, and the prev pointer will have reversed the first half."
      ],
      "metadata": {
        "id": "cOK2ZTNO2sQX"
      }
    },
    {
      "cell_type": "code",
      "source": [
        "class Solution:\n",
        "    def isPalindrome(self, head: Optional[ListNode]) -> bool:\n",
        "\n",
        "        prev = None\n",
        "        slow, fast = head, head\n",
        "\n",
        "        while fast and fast.next:\n",
        "            fast = fast.next.next\n",
        "            prev, prev.next, slow = slow, prev, slow.next\n",
        "\n",
        "        if fast:\n",
        "            slow = slow.next\n",
        "\n",
        "        while prev and prev.val == slow.val:\n",
        "            prev, slow = prev.next, slow.next\n",
        "\n",
        "        return not prev"
      ],
      "metadata": {
        "id": "-1LZZQVN4rei"
      },
      "execution_count": null,
      "outputs": []
    },
    {
      "cell_type": "markdown",
      "source": [
        "## Valid Anagram\n",
        "\n",
        "https://leetcode.com/problems/valid-anagram/description/"
      ],
      "metadata": {
        "id": "Kl3K-NNcBHCU"
      }
    },
    {
      "cell_type": "markdown",
      "source": [
        "### Solution (Sorting)"
      ],
      "metadata": {
        "id": "OOQERilCBgyO"
      }
    },
    {
      "cell_type": "code",
      "source": [
        "class Solution:\n",
        "    def isAnagram(self, s: str, t: str) -> bool:\n",
        "\n",
        "        return sorted(s) == sorted(t)"
      ],
      "metadata": {
        "id": "MDewOsYSJD80"
      },
      "execution_count": null,
      "outputs": []
    },
    {
      "cell_type": "markdown",
      "source": [
        "### Solution (Dictionary)"
      ],
      "metadata": {
        "id": "FwkpM9z9JFdL"
      }
    },
    {
      "cell_type": "code",
      "source": [
        "class Solution:\n",
        "    def isAnagram(self, s: str, t: str) -> bool:\n",
        "\n",
        "        if len(s) != len(t):\n",
        "            return False\n",
        "\n",
        "        s_dict, t_dict = {}, {}\n",
        "        for i in range(len(s)):\n",
        "\n",
        "            s_dict[s[i]] = s_dict.get(i, 0) + 1\n",
        "            t_dict[t[i]] = t_dict.get(i, 0) + 1\n",
        "\n",
        "        return s_dict == t_dict"
      ],
      "metadata": {
        "id": "DknU5M9-JT2i"
      },
      "execution_count": null,
      "outputs": []
    },
    {
      "cell_type": "markdown",
      "source": [
        "## Missing Number\n",
        "https://leetcode.com/problems/missing-number/description/\n"
      ],
      "metadata": {
        "id": "Fac1DkcCKMNV"
      }
    },
    {
      "cell_type": "markdown",
      "source": [
        "### Solution (Brute)"
      ],
      "metadata": {
        "id": "ZCxQspPVU9KL"
      }
    },
    {
      "cell_type": "code",
      "source": [
        "class Solution:\n",
        "    def missingNumber(self, nums: List[int]) -> int:\n",
        "\n",
        "        n = len(nums)\n",
        "\n",
        "        filled = [i for i in range(0, n + 1)]\n",
        "        for num in nums:\n",
        "            filled.remove(num)\n",
        "\n",
        "        return filled[-1]\n"
      ],
      "metadata": {
        "id": "DkknWiGKVPAZ"
      },
      "execution_count": null,
      "outputs": []
    },
    {
      "cell_type": "markdown",
      "source": [
        "### Solution (Arithmatic)"
      ],
      "metadata": {
        "id": "89WU-DvfVQGb"
      }
    },
    {
      "cell_type": "code",
      "source": [
        "class Solution:\n",
        "    def missingNumber(self, nums: List[int]) -> int:\n",
        "\n",
        "        n = len(nums)\n",
        "        target = n * (n + 1) // 2\n",
        "\n",
        "        sum = 0\n",
        "        for num in nums:\n",
        "            sum += num\n",
        "\n",
        "        return target - sum"
      ],
      "metadata": {
        "id": "dXb9c9GGVWMR"
      },
      "execution_count": null,
      "outputs": []
    },
    {
      "cell_type": "markdown",
      "source": [
        "## Reverse String\n",
        "\n",
        "https://leetcode.com/problems/reverse-string/description/"
      ],
      "metadata": {
        "id": "l2sesiP1WrZC"
      }
    },
    {
      "cell_type": "markdown",
      "source": [
        "### Solution (Stack)"
      ],
      "metadata": {
        "id": "U1zoolMBXe5F"
      }
    },
    {
      "cell_type": "code",
      "source": [
        "class Solution:\n",
        "    def reverseString(self, s: List[str]) -> None:\n",
        "        stack = []\n",
        "        for char in s:\n",
        "            stack.append(char)\n",
        "\n",
        "        idx = 0\n",
        "        while stack:\n",
        "            s[idx] = stack.pop()\n",
        "            idx += 1"
      ],
      "metadata": {
        "id": "yDR5oaDyXhk_"
      },
      "execution_count": null,
      "outputs": []
    },
    {
      "cell_type": "markdown",
      "source": [
        "### Solution (Two pointers)"
      ],
      "metadata": {
        "id": "B-9l7CefXjH4"
      }
    },
    {
      "cell_type": "code",
      "source": [
        "class Solution:\n",
        "    def reverseString(self, s: List[str]) -> None:\n",
        "        left, right = 0, len(s) - 1\n",
        "\n",
        "        while left <= right:\n",
        "\n",
        "            s[left], s[right] = s[right], s[left]\n",
        "\n",
        "            left += 1\n",
        "            right -= 1"
      ],
      "metadata": {
        "id": "e-lqB6kYXlDn"
      },
      "execution_count": null,
      "outputs": []
    },
    {
      "cell_type": "markdown",
      "source": [
        "## Intersection of Two Arrays\n",
        "https://leetcode.com/problems/intersection-of-two-arrays/description/"
      ],
      "metadata": {
        "id": "bEePktctX7Gx"
      }
    },
    {
      "cell_type": "markdown",
      "source": [
        "### Solution (Set)"
      ],
      "metadata": {
        "id": "_iZMvIhpYX9m"
      }
    },
    {
      "cell_type": "code",
      "source": [
        "class Solution:\n",
        "    def intersection(self, nums1: List[int], nums2: List[int]) -> List[int]:\n",
        "\n",
        "        answer = set()\n",
        "        for num in nums2:\n",
        "            if num in set(nums1):\n",
        "                answer.add(num)\n",
        "\n",
        "        return answer"
      ],
      "metadata": {
        "id": "LDlUW_mPY-l9"
      },
      "execution_count": null,
      "outputs": []
    },
    {
      "cell_type": "markdown",
      "source": [
        "### Solution (Two Pointers)"
      ],
      "metadata": {
        "id": "ODlpBn7KZSlI"
      }
    },
    {
      "cell_type": "code",
      "source": [
        "class Solution:\n",
        "    def intersection(self, nums1: List[int], nums2: List[int]) -> List[int]:\n",
        "\n",
        "        nums1.sort()\n",
        "        nums2.sort()\n",
        "\n",
        "        i = j = 0\n",
        "        answer = set()\n",
        "        while (i < len(nums1)) and (j < len(nums2)):\n",
        "\n",
        "            if nums1[i] < nums2[j]:\n",
        "                i += 1\n",
        "\n",
        "            elif nums1[i] > nums2[j]:\n",
        "                j += 1\n",
        "\n",
        "            else:\n",
        "                answer.add(nums1[i])\n",
        "                i += 1\n",
        "                j += 1\n",
        "\n",
        "        return answer"
      ],
      "metadata": {
        "id": "wvT3l3zGZUXv"
      },
      "execution_count": null,
      "outputs": []
    },
    {
      "cell_type": "markdown",
      "source": [
        "## First Unique Character in a String\n",
        "https://leetcode.com/problems/first-unique-character-in-a-string/description/"
      ],
      "metadata": {
        "id": "Eote_MDYCP1Z"
      }
    },
    {
      "cell_type": "markdown",
      "source": [
        "### Solution (Set, Sorting)"
      ],
      "metadata": {
        "id": "gljKJLgAJ6iH"
      }
    },
    {
      "cell_type": "code",
      "source": [
        "class Solution:\n",
        "    def firstUniqChar(self, s: str) -> int:\n",
        "\n",
        "        uniques = {}\n",
        "        visited = set()\n",
        "        for i, char in enumerate(s):\n",
        "\n",
        "            if char in visited:\n",
        "                if (uniques.get(char) != None) :\n",
        "                    del uniques[char]\n",
        "                continue\n",
        "\n",
        "            visited.add(char)\n",
        "            uniques[char] = i\n",
        "\n",
        "        if len(uniques) > 0:\n",
        "            return list(map(\n",
        "                lambda item: item[1],\n",
        "                sorted(uniques.items(), key = lambda item: item[1])\n",
        "            ))[0]\n",
        "\n",
        "        return -1"
      ],
      "metadata": {
        "id": "7SKFRYcCGu4F"
      },
      "execution_count": null,
      "outputs": []
    },
    {
      "cell_type": "markdown",
      "source": [
        "### Solution (Counter)"
      ],
      "metadata": {
        "id": "oFIEFcPOKJPS"
      }
    },
    {
      "cell_type": "code",
      "source": [
        "class Solution:\n",
        "    def firstUniqChar(self, s: str) -> int:\n",
        "\n",
        "        counter = {}\n",
        "\n",
        "        for char in s:\n",
        "            if counter.get(char, 0):\n",
        "                counter[char] += 1\n",
        "            else:\n",
        "                counter[char] = 1\n",
        "\n",
        "        for idx, char in enumerate(s):\n",
        "            if (counter[char]) == 1:\n",
        "                return idx\n",
        "\n",
        "        return -1"
      ],
      "metadata": {
        "id": "jcRMIb_yLCf1"
      },
      "execution_count": null,
      "outputs": []
    },
    {
      "cell_type": "markdown",
      "source": [
        "## Longest Palindrome\n",
        "https://leetcode.com/problems/longest-palindrome/description/"
      ],
      "metadata": {
        "id": "zaPGwkbOLs5d"
      }
    },
    {
      "cell_type": "markdown",
      "source": [
        "### Solution"
      ],
      "metadata": {
        "id": "hXPEBf5XL3_g"
      }
    },
    {
      "cell_type": "code",
      "source": [
        "class Solution:\n",
        "    def longestPalindrome(self, s: str) -> int:\n",
        "\n",
        "        counter = {}\n",
        "        for char in s:\n",
        "            if counter.get(char, 0):\n",
        "                counter[char] += 1\n",
        "            else:\n",
        "                counter[char] = 1\n",
        "\n",
        "        hasOdds = False\n",
        "        odds, evens = 0, 0\n",
        "        for item in counter.items():\n",
        "            if item[1] % 2 == 1:\n",
        "                hasOdds = True\n",
        "                odds += item[1] - 1\n",
        "\n",
        "            else:\n",
        "                evens += item[1]\n",
        "\n",
        "        if hasOdds:\n",
        "            return odds + evens + 1\n",
        "\n",
        "        return evens"
      ],
      "metadata": {
        "id": "v4IaedEiL3ZQ"
      },
      "execution_count": null,
      "outputs": []
    },
    {
      "cell_type": "markdown",
      "source": [
        "## Assign Cookies\n",
        "https://leetcode.com/problems/assign-cookies/description/"
      ],
      "metadata": {
        "id": "GetkO-RaUSI4"
      }
    },
    {
      "cell_type": "markdown",
      "source": [
        "### Solution (Two Pointers, Greedy Algorithm)\n",
        "\n",
        "The greedy choice is made when it assigns a cookie to a child whose greed factor is satisfied by the available cookie's size. By iterating through the sorted lists and assigning cookies in this way, the algorithm aims to maximize the number of content children."
      ],
      "metadata": {
        "id": "zUExZTZRUZgw"
      }
    },
    {
      "cell_type": "code",
      "source": [
        "class Solution:\n",
        "    def findContentChildren(self, g: List[int], s: List[int]) -> int:\n",
        "\n",
        "        if len(s) == 0:\n",
        "            return 0\n",
        "\n",
        "        g.sort()\n",
        "        s.sort()\n",
        "\n",
        "        idx_i, idx_j = 0, 0\n",
        "        while idx_j < len(g) and idx_i < len(s):\n",
        "\n",
        "            if g[idx_j] <= s[idx_i]:\n",
        "                idx_j += 1\n",
        "\n",
        "            idx_i += 1\n",
        "\n",
        "        return idx_j"
      ],
      "metadata": {
        "id": "BtTZnQkuUbxS"
      },
      "execution_count": null,
      "outputs": []
    },
    {
      "cell_type": "markdown",
      "source": [
        "## Repeated Substring Pattern\n",
        "https://leetcode.com/problems/repeated-substring-pattern/description/"
      ],
      "metadata": {
        "id": "jPkp7FjCgLgs"
      }
    },
    {
      "cell_type": "markdown",
      "source": [
        "### Solution"
      ],
      "metadata": {
        "id": "k8SVI9xfcDH0"
      }
    },
    {
      "cell_type": "code",
      "source": [
        "class Solution:\n",
        "    def repeatedSubstringPattern(self, s: str) -> bool:\n",
        "        if len(s) == 1:\n",
        "            return False\n",
        "\n",
        "        start, chunks = 0, []\n",
        "        for end in range(1, len(s)):\n",
        "\n",
        "            if s[start: end] == s[end: end + end]:\n",
        "                chunks.append(s[start: end])\n",
        "\n",
        "        history = []\n",
        "        def iterate(chunk):\n",
        "            for i in range(0, len(s), len(chunk)):\n",
        "\n",
        "                if chunk != s[i: i + len(chunk)]:\n",
        "                    return False\n",
        "\n",
        "            return True\n",
        "\n",
        "        for chunk in chunks:\n",
        "            history.append(iterate(chunk))\n",
        "\n",
        "        return history.count(True) > 0"
      ],
      "metadata": {
        "id": "VIQ0OIYKgSV9"
      },
      "execution_count": null,
      "outputs": []
    },
    {
      "cell_type": "markdown",
      "source": [
        "## Hamming Distance\n",
        "https://leetcode.com/problems/hamming-distance/description/"
      ],
      "metadata": {
        "id": "vC7CfrKNL7AD"
      }
    },
    {
      "cell_type": "markdown",
      "source": [
        "### Solution (Bit operation)\n",
        "\n",
        "It XORs (bitwise exclusive OR) x and y, which results in a new binary number where each bit represents the difference between the corresponding bits in x and y. Then, it counts the number of '1's in the binary representation of the XOR result using the count method on the binary string."
      ],
      "metadata": {
        "id": "prtxkzi_WCg5"
      }
    },
    {
      "cell_type": "code",
      "source": [
        "class Solution:\n",
        "    def hammingDistance(self, x: int, y: int) -> int:\n",
        "\n",
        "        return bin(x ^ y).count('1')"
      ],
      "metadata": {
        "colab": {
          "base_uri": "https://localhost:8080/"
        },
        "id": "_cIKVpGWM0z1",
        "outputId": "7d56e388-d48b-41d4-c3cb-36b90b119dfd"
      },
      "execution_count": null,
      "outputs": [
        {
          "output_type": "stream",
          "name": "stdout",
          "text": [
            "[] [2]\n"
          ]
        }
      ]
    },
    {
      "cell_type": "markdown",
      "source": [
        "### Solution (Convert to List)\n"
      ],
      "metadata": {
        "id": "mqsDrnHxZaE_"
      }
    },
    {
      "cell_type": "code",
      "source": [
        "class Solution:\n",
        "    def hammingDistance(self, x: int, y: int) -> int:\n",
        "\n",
        "        binary_x = self.int_to_binary(x)\n",
        "        binary_y = self.int_to_binary(y)\n",
        "\n",
        "        max_len = max(len(binary_x), len(binary_y))\n",
        "        binary_x = binary_x.zfill(max_len)\n",
        "        binary_y = binary_y.zfill(max_len)\n",
        "\n",
        "        hamming_distance = 0\n",
        "\n",
        "        for bit_x, bit_y in zip(binary_x, binary_y):\n",
        "            if bit_x != bit_y:\n",
        "                hamming_distance += 1\n",
        "\n",
        "        return hamming_distance\n",
        "\n",
        "    def int_to_binary(self, num: int) -> str:\n",
        "        if num == 0:\n",
        "            return \"0\"\n",
        "\n",
        "        binary = \"\"\n",
        "        while num > 0:\n",
        "            binary = str(num % 2) + binary\n",
        "            num = num // 2\n",
        "\n",
        "        return binary"
      ],
      "metadata": {
        "id": "V1tUNTGuZdYL"
      },
      "execution_count": null,
      "outputs": []
    },
    {
      "cell_type": "markdown",
      "source": [
        "## Next Greater Element I\n",
        "\n",
        "https://leetcode.com/problems/next-greater-element-i/description/"
      ],
      "metadata": {
        "id": "C5qvcdTwdmTQ"
      }
    },
    {
      "cell_type": "markdown",
      "source": [
        "### Solution (Nested For Loops)"
      ],
      "metadata": {
        "id": "u8le3IOCd9A4"
      }
    },
    {
      "cell_type": "code",
      "source": [
        "class Solution:\n",
        "    def nextGreaterElement(self, nums1: List[int], nums2: List[int]) -> List[int]:\n",
        "\n",
        "        result = [-1] * (len(nums1))\n",
        "        for idx, this in enumerate(nums1):\n",
        "\n",
        "            for idx2 in range(nums2.index(this) + 1, len(nums2)):\n",
        "                other = nums2[idx2]\n",
        "\n",
        "                if this < other:\n",
        "                    result[idx] = other\n",
        "                    break\n",
        "\n",
        "        return result"
      ],
      "metadata": {
        "id": "1Y2kSjFXgQul"
      },
      "execution_count": null,
      "outputs": []
    },
    {
      "cell_type": "markdown",
      "source": [
        "### Solution (Stack)\n",
        "\n",
        "First, it iterates through nums2 using a stack to keep track of elements. For each element, it checks if it is greater than the elements at the top of the stack. If so, it updates the nextMap dictionary with the current element and pops elements from the stack until the condition is no longer met."
      ],
      "metadata": {
        "id": "7t6BHQpzk9kI"
      }
    },
    {
      "cell_type": "code",
      "source": [
        "class Solution:\n",
        "    def nextGreaterElement(self, nums1: List[int], nums2: List[int]) -> List[int]:\n",
        "\n",
        "        stack = []\n",
        "        nextMap = {}\n",
        "\n",
        "        for num in nums2:\n",
        "            while stack and stack[-1] < num:\n",
        "                nextMap[stack.pop()] = num\n",
        "\n",
        "            stack.append(num)\n",
        "\n",
        "        answer = [-1] * len(nums1)\n",
        "        for idx, num in enumerate(nums1):\n",
        "\n",
        "            if nextMap.get(num, 0):\n",
        "                answer[idx] = nextMap[num]\n",
        "\n",
        "        return answer"
      ],
      "metadata": {
        "id": "0lglFEOipbRU"
      },
      "execution_count": null,
      "outputs": []
    },
    {
      "cell_type": "markdown",
      "source": [
        "## Array Partition\n",
        "https://leetcode.com/problems/array-partition/description/"
      ],
      "metadata": {
        "id": "7_MwY3FXxPzR"
      }
    },
    {
      "cell_type": "markdown",
      "source": [
        "### Solution"
      ],
      "metadata": {
        "id": "QP3hI2Z6xmcu"
      }
    },
    {
      "cell_type": "code",
      "source": [
        "class Solution:\n",
        "    def arrayPairSum(self, nums: List[int]) -> int:\n",
        "\n",
        "        nums.sort()\n",
        "\n",
        "        if len(nums) == 2:\n",
        "            return nums[0]\n",
        "\n",
        "        sum = 0\n",
        "        for i in range(0, len(nums) - 1, 2):\n",
        "            sum += nums[i]\n",
        "\n",
        "        return sum"
      ],
      "metadata": {
        "id": "OHRi2K2e0Iz7"
      },
      "execution_count": null,
      "outputs": []
    },
    {
      "cell_type": "markdown",
      "source": [
        "## Merge Two Binary Trees\n",
        "https://leetcode.com/problems/merge-two-binary-trees/description/"
      ],
      "metadata": {
        "id": "R3IaEgD-1f6C"
      }
    },
    {
      "cell_type": "markdown",
      "source": [
        "### Solution (Recursive Call)"
      ],
      "metadata": {
        "id": "9aZ6uH811mmI"
      }
    },
    {
      "cell_type": "code",
      "source": [
        "class Solution:\n",
        "    def mergeTrees(self, root1: Optional[TreeNode], root2: Optional[TreeNode]) -> Optional[TreeNode]:\n",
        "\n",
        "        if root1 and root2:\n",
        "\n",
        "            root1.val = root1.val + root2.val\n",
        "\n",
        "            root1.left = self.mergeTrees(root1.left, root2.left)\n",
        "            root1.right = self.mergeTrees(root1.right, root2.right)\n",
        "\n",
        "            return root1\n",
        "\n",
        "        if not root1:\n",
        "            return root2\n",
        "\n",
        "        if not root2:\n",
        "            return root1"
      ],
      "metadata": {
        "id": "GEcea2WN1nYa"
      },
      "execution_count": null,
      "outputs": []
    },
    {
      "cell_type": "markdown",
      "source": [
        "## Binary Search\n",
        "https://leetcode.com/problems/binary-search/description/"
      ],
      "metadata": {
        "id": "wmn8Go6d36At"
      }
    },
    {
      "cell_type": "markdown",
      "source": [
        "### Solution (Binary Search)"
      ],
      "metadata": {
        "id": "YjNuUqZp3_cE"
      }
    },
    {
      "cell_type": "code",
      "source": [
        "class Solution:\n",
        "    def search(self, nums: List[int], target: int) -> int:\n",
        "\n",
        "        start, end = 0, len(nums) - 1\n",
        "\n",
        "        while start <= end:\n",
        "            mid = start + (end - start) // 2\n",
        "\n",
        "            if nums[mid] < target:\n",
        "                start = mid + 1\n",
        "\n",
        "            elif nums[mid] > target:\n",
        "                end = mid - 1\n",
        "\n",
        "            else:\n",
        "                return mid\n",
        "\n",
        "        return -1"
      ],
      "metadata": {
        "id": "eWihpVjJ4BAD"
      },
      "execution_count": null,
      "outputs": []
    },
    {
      "cell_type": "markdown",
      "source": [
        "## Can Place Flowers\n",
        "https://leetcode.com/problems/can-place-flowers/description/"
      ],
      "metadata": {
        "id": "vGLk2Klx4-Sa"
      }
    },
    {
      "cell_type": "markdown",
      "source": [
        "### Solution (Greedy algorithms)\n",
        "\n",
        "Inside the loop, we check if the current position i is a valid spot to plant a flower:\n",
        "- If `flowerbed[i] == 0`, it means the current spot is empty.\n",
        "We also check the adjacent spots:\n",
        "    - If `i == 0` (first position) or `flowerbed[i - 1] == 0`, it means the previous spot (if it exists) is empty.\n",
        "    - If `i == len(flowerbed) - 1` (last position) or `flowerbed[i + 1] == 0`, it means the next spot (if it exists) is empty.\n",
        "\n",
        "The key concept of greediness here is that we make a locally optimal choice at each step (i.e., plant a flower if it's possible without violating adjacent flower rules) with the hope that these choices will lead to a globally optimal solution (i.e., maximizing the number of planted flowers)."
      ],
      "metadata": {
        "id": "JJwrS5si5EwL"
      }
    },
    {
      "cell_type": "code",
      "source": [
        "class Solution:\n",
        "    def canPlaceFlowers(self, flowerbed: List[int], n: int) -> bool:\n",
        "        count = 0\n",
        "        i = 0\n",
        "\n",
        "        while i < len(flowerbed):\n",
        "            if flowerbed[i] == 0:\n",
        "                if i == 0 or flowerbed[i - 1] == 0:\n",
        "                    if i == len(flowerbed) - 1 or flowerbed[i + 1] == 0:\n",
        "                        flowerbed[i] = 1\n",
        "                        count += 1\n",
        "            i += 1\n",
        "\n",
        "        return count >= n"
      ],
      "metadata": {
        "id": "2gdTcEKD5F3A"
      },
      "execution_count": null,
      "outputs": []
    },
    {
      "cell_type": "markdown",
      "source": [
        "## Jewels and Stones\n",
        "https://leetcode.com/problems/jewels-and-stones/description/"
      ],
      "metadata": {
        "id": "osdZNMsQPc6_"
      }
    },
    {
      "cell_type": "markdown",
      "source": [
        "### Solution"
      ],
      "metadata": {
        "id": "dMIWCjsDTngm"
      }
    },
    {
      "cell_type": "code",
      "source": [
        "class Solution:\n",
        "    def numJewelsInStones(self, jewels: str, stones: str) -> int:\n",
        "\n",
        "        counter = {}\n",
        "        for stone in stones:\n",
        "            if stone not in counter:\n",
        "                counter[stone] = 1\n",
        "            else:\n",
        "                counter[stone] += 1\n",
        "\n",
        "        occurence = 0\n",
        "        for jewel in jewels:\n",
        "            if jewel in counter:\n",
        "                occurence += counter[jewel]\n",
        "\n",
        "        return occurence"
      ],
      "metadata": {
        "id": "lM7cJR52TubW"
      },
      "execution_count": null,
      "outputs": []
    },
    {
      "cell_type": "markdown",
      "source": [
        "## Minimum Distance Between BST Nodes\n",
        "\n",
        "https://leetcode.com/problems/minimum-distance-between-bst-nodes/description/"
      ],
      "metadata": {
        "id": "lpgjf5ORT54j"
      }
    },
    {
      "cell_type": "markdown",
      "source": [
        "### Solution\n",
        "\n",
        "It employs two global variables, dist and prev, to keep track of the minimum distance and the previous node's value, respectively, as it traverses the BST. The global variables provide a convenient way to maintain state across recursive calls, ultimately returning the minimum absolute difference once the traversal is complete.\n",
        "\n",
        "In an \"in-order\" traversal, the algorithm explores the BST nodes in ascending order of their values."
      ],
      "metadata": {
        "id": "BWTyg72qUKZH"
      }
    },
    {
      "cell_type": "code",
      "source": [
        "class Solution:\n",
        "\n",
        "    dist:int = sys.maxsize\n",
        "    prev:int = -sys.maxsize\n",
        "    def minDiffInBST(self, root: Optional[TreeNode]) -> int:\n",
        "\n",
        "        def dfs(node: Optional[TreeNode]):\n",
        "\n",
        "            if node is None:\n",
        "                return\n",
        "\n",
        "            dfs(node.left)\n",
        "\n",
        "            self.dist = min(self.dist, node.val - self.prev)\n",
        "            self.prev = node.val\n",
        "\n",
        "            dfs(node.right)\n",
        "\n",
        "        dfs(root)\n",
        "\n",
        "        return self.dist"
      ],
      "metadata": {
        "id": "vOGpUJ3Agfx5"
      },
      "execution_count": null,
      "outputs": []
    },
    {
      "cell_type": "markdown",
      "source": [
        "## Most Common Word\n",
        "https://leetcode.com/problems/most-common-word/description/\n"
      ],
      "metadata": {
        "id": "yOyDRqHUpSJc"
      }
    },
    {
      "cell_type": "markdown",
      "source": [
        "### Solution (Regular Expression)\n"
      ],
      "metadata": {
        "id": "M0y7vIE_pVBi"
      }
    },
    {
      "cell_type": "code",
      "source": [
        "class Solution:\n",
        "    def mostCommonWord(self, paragraph: str, banned: List[str]) -> str:\n",
        "        counter = {}\n",
        "        words = re.sub(r'[^\\w]', ' ', paragraph.lower()).split()\n",
        "\n",
        "        for word in words:\n",
        "            if word not in banned:\n",
        "                if word not in counter:\n",
        "                    counter[word] = 1\n",
        "                else:\n",
        "                    counter[word] += 1\n",
        "\n",
        "        return list(map(\n",
        "            lambda item: item[0],\n",
        "            sorted(counter.items(), key = lambda item: item[1])\n",
        "        ))[-1]"
      ],
      "metadata": {
        "id": "wzuezK6HmWCa"
      },
      "execution_count": null,
      "outputs": []
    },
    {
      "cell_type": "markdown",
      "source": [
        "## Range Sum of BST\n",
        "https://leetcode.com/problems/range-sum-of-bst/description/"
      ],
      "metadata": {
        "id": "oy4d3k9J1kZM"
      }
    },
    {
      "cell_type": "markdown",
      "source": [
        "### Solution"
      ],
      "metadata": {
        "id": "2P849g9W16EM"
      }
    },
    {
      "cell_type": "code",
      "source": [
        "class Solution:\n",
        "\n",
        "    sum = 0\n",
        "    def rangeSumBST(self, root: Optional[TreeNode], low: int, high: int) -> int:\n",
        "\n",
        "        def dfs(node: Optional[TreeNode]):\n",
        "\n",
        "            if node is None:\n",
        "                return\n",
        "\n",
        "            dfs(node.left)\n",
        "\n",
        "            if node.val >= low and node.val <= high:\n",
        "                self.sum += node.val\n",
        "\n",
        "            dfs(node.right)\n",
        "\n",
        "        dfs(root)\n",
        "\n",
        "        return self.sum"
      ],
      "metadata": {
        "id": "yoiJt_el3b9Q"
      },
      "execution_count": null,
      "outputs": []
    },
    {
      "cell_type": "markdown",
      "source": [
        "### Solution (Optimized)"
      ],
      "metadata": {
        "id": "BSA6zz213c-z"
      }
    },
    {
      "cell_type": "code",
      "source": [
        "class Solution:\n",
        "\n",
        "    sum = 0\n",
        "    def rangeSumBST(self, root: Optional[TreeNode], low: int, high: int) -> int:\n",
        "\n",
        "        def dfs(node: Optional[TreeNode]):\n",
        "\n",
        "            if node is None:\n",
        "                return\n",
        "\n",
        "            if node.val >= low:\n",
        "                dfs(node.left)\n",
        "\n",
        "            if node.val >= low and node.val <= high:\n",
        "                self.sum += node.val\n",
        "\n",
        "            if node.val <= high:\n",
        "                dfs(node.right)\n",
        "\n",
        "        dfs(root)\n",
        "\n",
        "        return self.sum"
      ],
      "metadata": {
        "id": "fnkeSEIB33iF"
      },
      "execution_count": null,
      "outputs": []
    },
    {
      "cell_type": "markdown",
      "source": [
        "### Soltuion (Stack)"
      ],
      "metadata": {
        "id": "lWHEtiLL3-tt"
      }
    },
    {
      "cell_type": "code",
      "source": [
        "class Solution:\n",
        "\n",
        "    sum = 0\n",
        "    def rangeSumBST(self, root: Optional[TreeNode], low: int, high: int) -> int:\n",
        "\n",
        "        stack = [root]\n",
        "        sum = 0\n",
        "\n",
        "        while stack:\n",
        "\n",
        "            node = stack.pop()\n",
        "\n",
        "            if node:\n",
        "\n",
        "                if node.val > low:\n",
        "                    stack.append(node.left)\n",
        "                if node.val < high:\n",
        "                    stack.append(node.right)\n",
        "\n",
        "                if node.val >= low and node.val <= high:\n",
        "                    sum += node.val\n",
        "\n",
        "        return sum"
      ],
      "metadata": {
        "id": "R9CiLjvm4BxS"
      },
      "execution_count": null,
      "outputs": []
    },
    {
      "cell_type": "markdown",
      "source": [
        "## Greatest Common Divisor of Strings\n",
        "\n",
        "https://leetcode.com/problems/greatest-common-divisor-of-strings/description/"
      ],
      "metadata": {
        "id": "ERVM9PExBtfp"
      }
    },
    {
      "cell_type": "markdown",
      "source": [
        "### Solution (String comparison)\n",
        "\n",
        "This code checks if str1 + str2 is equal to str2 + str1. If they are equal, it means there's a common divisor string. Then, it uses the GCD function to find the greatest common divisor of the lengths of str1 and str2 and returns the corresponding substring of str1."
      ],
      "metadata": {
        "id": "1XNo6YpSByIz"
      }
    },
    {
      "cell_type": "code",
      "source": [
        "class Solution:\n",
        "    def gcdOfStrings(self, str1: str, str2: str) -> str:\n",
        "        if str1 + str2 != str2 + str1:\n",
        "            return ''\n",
        "\n",
        "        def gcd(a, b):\n",
        "            while b:\n",
        "                a, b = b, a % b\n",
        "            return a\n",
        "\n",
        "        return str1[:gcd(len(str1), len(str2))]"
      ],
      "metadata": {
        "id": "vwgr2jTq7UCm"
      },
      "execution_count": null,
      "outputs": []
    },
    {
      "cell_type": "markdown",
      "source": [
        "## N-th Tribonacci Number\n",
        "https://leetcode.com/problems/n-th-tribonacci-number/description/"
      ],
      "metadata": {
        "id": "30QUxli6ER2H"
      }
    },
    {
      "cell_type": "markdown",
      "source": [
        "### Solution (Memoization)"
      ],
      "metadata": {
        "id": "LChVvXmxEUZJ"
      }
    },
    {
      "cell_type": "code",
      "source": [
        "class Solution:\n",
        "\n",
        "    dp = {}\n",
        "    def tribonacci(self, n: int) -> int:\n",
        "\n",
        "        if n <= 1:\n",
        "            return n\n",
        "        if n == 2:\n",
        "            return 1\n",
        "\n",
        "        if n not in self.dp:\n",
        "            self.dp[n] = self.tribonacci(n - 1) + self.tribonacci(n - 2) + self.tribonacci(n - 3)\n",
        "\n",
        "        return self.dp[n]"
      ],
      "metadata": {
        "colab": {
          "base_uri": "https://localhost:8080/"
        },
        "id": "HbuuGHaLEgEi",
        "outputId": "76e02691-a043-4908-9c39-f8fdc0904b16"
      },
      "execution_count": null,
      "outputs": [
        {
          "output_type": "stream",
          "name": "stdout",
          "text": [
            "hi\n"
          ]
        }
      ]
    },
    {
      "cell_type": "markdown",
      "source": [
        "## Check If It Is a Straight Line\n",
        "https://leetcode.com/problems/check-if-it-is-a-straight-line/description/"
      ],
      "metadata": {
        "id": "hXAfLSNJG6kx"
      }
    },
    {
      "cell_type": "markdown",
      "source": [
        "### Solution (Stack)"
      ],
      "metadata": {
        "id": "_lreljijHAIx"
      }
    },
    {
      "cell_type": "code",
      "source": [
        "class Solution:\n",
        "    def checkStraightLine(self, coordinates: List[List[int]]) -> bool:\n",
        "\n",
        "        stack = []\n",
        "        for i in range(len(coordinates) - 1):\n",
        "\n",
        "            cur, next = coordinates[i], coordinates[i + 1]\n",
        "\n",
        "            if (next[0] != cur[0]):\n",
        "                grad = (next[1] - cur[1]) // (next[0] - cur[0])\n",
        "            else:\n",
        "                grad = sys.maxsize\n",
        "\n",
        "            if stack and stack[-1] != grad:\n",
        "                return False\n",
        "\n",
        "            stack.append(grad)\n",
        "\n",
        "        return True"
      ],
      "metadata": {
        "id": "u_zWkGUVJsu-"
      },
      "execution_count": null,
      "outputs": []
    },
    {
      "cell_type": "markdown",
      "source": [
        "## Kids With the Greatest Number of Candies\n",
        "\n",
        "https://leetcode.com/problems/kids-with-the-greatest-number-of-candies/description/"
      ],
      "metadata": {
        "id": "yZ7mHucTJ74R"
      }
    },
    {
      "cell_type": "markdown",
      "source": [
        "### Solution"
      ],
      "metadata": {
        "id": "etYWNoW_L15a"
      }
    },
    {
      "cell_type": "code",
      "source": [
        "class Solution:\n",
        "    def kidsWithCandies(self, candies: List[int], extraCandies: int) -> List[bool]:\n",
        "\n",
        "        stack = []\n",
        "        greatest = -1\n",
        "        for candy in candies:\n",
        "\n",
        "            while stack and stack[-1] < candy:\n",
        "                greatest = max(greatest, stack.pop())\n",
        "\n",
        "            stack.append(candy)\n",
        "\n",
        "\n",
        "        answer = [False] * len(candies)\n",
        "\n",
        "        for i, candy in enumerate(candies):\n",
        "\n",
        "            if candy + extraCandies >= greatest:\n",
        "                answer[i] = True\n",
        "\n",
        "        return answer"
      ],
      "metadata": {
        "id": "PBENPTLjLXW9"
      },
      "execution_count": null,
      "outputs": []
    },
    {
      "cell_type": "markdown",
      "source": [
        "## Shuffle the Array\n",
        "https://leetcode.com/problems/shuffle-the-array/"
      ],
      "metadata": {
        "id": "76bGmReSR-8N"
      }
    },
    {
      "cell_type": "markdown",
      "source": [
        "### Solution"
      ],
      "metadata": {
        "id": "OrdexIN4SDNI"
      }
    },
    {
      "cell_type": "code",
      "source": [
        "class Solution:\n",
        "    def shuffle(self, nums: List[int], n: int) -> List[int]:\n",
        "\n",
        "        mid = len(nums) // 2\n",
        "        answer = []\n",
        "\n",
        "        for i in range(mid):\n",
        "            answer.append(nums[i])\n",
        "            answer.append(nums[i + mid])\n",
        "\n",
        "        return answer"
      ],
      "metadata": {
        "id": "IG7ogpyFRhpt"
      },
      "execution_count": null,
      "outputs": []
    },
    {
      "cell_type": "markdown",
      "source": [
        "## Kth Missing Positive Number\n",
        "\n",
        "https://leetcode.com/problems/kth-missing-positive-number/description/"
      ],
      "metadata": {
        "id": "uxLuir3qq60R"
      }
    },
    {
      "cell_type": "markdown",
      "source": [
        "### Solution (Two Pointers)"
      ],
      "metadata": {
        "id": "uucBKYoDrAkR"
      }
    },
    {
      "cell_type": "code",
      "source": [
        "class Solution:\n",
        "    def findKthPositive(self, arr: List[int], k: int) -> int:\n",
        "\n",
        "        last = arr[-1]\n",
        "        filled = [i for i in range(last + 1)][1:]\n",
        "\n",
        "        count, i = 0, 0\n",
        "        for j in range(len(filled)):\n",
        "            if count == k:\n",
        "                return filled[j - 1]\n",
        "\n",
        "            if filled[j] != arr[i]:\n",
        "                count += 1\n",
        "\n",
        "            else:\n",
        "                i += 1\n",
        "\n",
        "        if count < k:\n",
        "            return last + k - count"
      ],
      "metadata": {
        "id": "enje4RNrq8GE"
      },
      "execution_count": null,
      "outputs": []
    },
    {
      "cell_type": "markdown",
      "source": [
        "### Solution (Binary Search)"
      ],
      "metadata": {
        "id": "_lvtMWal7STt"
      }
    },
    {
      "cell_type": "code",
      "source": [
        "class Solution:\n",
        "    def findKthPositive(self, arr: List[int], k: int) -> int:\n",
        "\n",
        "        left, right = 0, len(arr) - 1\n",
        "        while left <= right:\n",
        "            mid = (left + right) // 2\n",
        "\n",
        "            if arr[mid] - mid - 1 < k:\n",
        "                left = mid + 1\n",
        "            else:\n",
        "                right = mid - 1\n",
        "\n",
        "        return right + 1 + k"
      ],
      "metadata": {
        "id": "3VUNDlBG7VPe"
      },
      "execution_count": null,
      "outputs": []
    },
    {
      "cell_type": "markdown",
      "source": [
        "## Number of Students Unable to Eat Lunch\n",
        "\n",
        "https://leetcode.com/problems/number-of-students-unable-to-eat-lunch/description/"
      ],
      "metadata": {
        "id": "FSpTep0VImFN"
      }
    },
    {
      "cell_type": "markdown",
      "source": [
        "### Solution (Stack)"
      ],
      "metadata": {
        "id": "r620cSSnIqmz"
      }
    },
    {
      "cell_type": "code",
      "source": [
        "class Solution:\n",
        "    def countStudents(self, students: List[int], sandwiches: List[int]) -> int:\n",
        "\n",
        "        while students:\n",
        "\n",
        "            cur = students.pop(0)\n",
        "\n",
        "            if cur == sandwiches[0]:\n",
        "                sandwiches.pop(0)\n",
        "            else:\n",
        "                students.append(cur)\n",
        "\n",
        "            if sandwiches and sandwiches[0] not in students:\n",
        "                break\n",
        "\n",
        "        return len(students)"
      ],
      "metadata": {
        "id": "QqMSneWYK8Vj"
      },
      "execution_count": null,
      "outputs": []
    },
    {
      "cell_type": "markdown",
      "source": [
        "## Sign of the Product of an Array\n",
        "\n",
        "https://leetcode.com/problems/sign-of-the-product-of-an-array/description/"
      ],
      "metadata": {
        "id": "w8u63CwkN5Vn"
      }
    },
    {
      "cell_type": "markdown",
      "source": [
        "### Solution"
      ],
      "metadata": {
        "id": "_vhOI8UFN9fd"
      }
    },
    {
      "cell_type": "code",
      "source": [
        "class Solution:\n",
        "    def arraySign(self, nums: List[int]) -> int:\n",
        "\n",
        "        prod = 1\n",
        "        for num in nums:\n",
        "            if num == 0:\n",
        "                return 0\n",
        "\n",
        "            prod *= num\n",
        "\n",
        "        if prod > 1:\n",
        "            return 1\n",
        "        else:\n",
        "            return - 1"
      ],
      "metadata": {
        "id": "-3wBAa0ZN_5P"
      },
      "execution_count": null,
      "outputs": []
    },
    {
      "cell_type": "markdown",
      "source": [
        "## Permutation\n",
        "https://leetcode.com/problems/permutations/"
      ],
      "metadata": {
        "id": "tFxaXXyQuDWd"
      }
    },
    {
      "cell_type": "markdown",
      "source": [
        "### Solution"
      ],
      "metadata": {
        "id": "lr_p603KuEw1"
      }
    },
    {
      "cell_type": "code",
      "source": [
        "class Solution:\n",
        "    def permute(self, nums: List[int]) -> List[List[int]]:\n",
        "\n",
        "        answer = []\n",
        "        def dfs(cur: List[int], prev: List[int]):\n",
        "\n",
        "            if len(prev) == len(nums):\n",
        "                answer.append(prev[:])\n",
        "                return\n",
        "\n",
        "            for elem in cur:\n",
        "\n",
        "                prev.append(elem)\n",
        "                next = cur[:]\n",
        "                next.remove(elem)\n",
        "\n",
        "                dfs(next, prev)\n",
        "\n",
        "                prev.pop()\n",
        "\n",
        "        dfs(nums, [])\n",
        "\n",
        "        return answer"
      ],
      "metadata": {
        "id": "9DbfuRAWuFr9"
      },
      "execution_count": null,
      "outputs": []
    },
    {
      "cell_type": "markdown",
      "source": [
        "## Roman to Integer\n",
        "https://leetcode.com/problems/roman-to-integer/description/"
      ],
      "metadata": {
        "id": "ZBubfVttOvfi"
      }
    },
    {
      "cell_type": "markdown",
      "source": [
        "### Solution (Stack)"
      ],
      "metadata": {
        "id": "D_bSO3jTO0Bq"
      }
    },
    {
      "cell_type": "code",
      "source": [
        "class Solution:\n",
        "    def romanToInt(self, s: str) -> int:\n",
        "\n",
        "        val_dict = {\n",
        "            \"I\": 1, \"V\": 5, \"X\": 10, \"L\": 50, \"C\": 100, \"D\": 500, \"M\": 1000\n",
        "        }\n",
        "\n",
        "        sub_pattern = {\n",
        "            \"V\": \"I\",\n",
        "            \"X\": \"I\",\n",
        "            \"L\": \"X\",\n",
        "            \"C\": \"X\",\n",
        "            \"D\": \"C\",\n",
        "            \"M\": \"C\"\n",
        "        }\n",
        "\n",
        "        sum = 0\n",
        "        stack = []\n",
        "        for char in s:\n",
        "            if sub_pattern.get(char, 0):\n",
        "                if stack and stack[-1] == sub_pattern[char]:\n",
        "                    sum = sum - val_dict[stack.pop()] * 2\n",
        "\n",
        "            sum += val_dict[char]\n",
        "            stack.append(char)\n",
        "\n",
        "        return sum"
      ],
      "metadata": {
        "id": "HXoonNRlO1_9"
      },
      "execution_count": null,
      "outputs": []
    },
    {
      "cell_type": "markdown",
      "source": [
        "## Longest Common Prefix\n",
        "https://leetcode.com/problems/longest-common-prefix/description/"
      ],
      "metadata": {
        "id": "iqJ7oCVkP3mo"
      }
    },
    {
      "cell_type": "code",
      "source": [
        "class Solution:\n",
        "    def longestCommonPrefix(self, strs: List[str]) -> str:\n",
        "\n",
        "        stack = []\n",
        "        idx = len(strs[0])\n",
        "        for word in strs:\n",
        "\n",
        "            if stack:\n",
        "                while idx > 0:\n",
        "                    if stack[-1][:idx] == word[:idx]:\n",
        "                        break\n",
        "                    idx -= 1\n",
        "\n",
        "            stack.append(word)\n",
        "\n",
        "        return stack[-1][:idx]\n",
        "\n",
        "\n",
        "sol = Solution()\n",
        "sol.longestCommonPrefix([\"flower\",\"flower\", \"flowering\", \"flower\"])"
      ],
      "metadata": {
        "colab": {
          "base_uri": "https://localhost:8080/",
          "height": 35
        },
        "id": "9Fkf4ALaXur9",
        "outputId": "a435b5c4-e91f-4d75-c967-7c92268e2360"
      },
      "execution_count": null,
      "outputs": [
        {
          "output_type": "execute_result",
          "data": {
            "text/plain": [
              "'flower'"
            ],
            "application/vnd.google.colaboratory.intrinsic+json": {
              "type": "string"
            }
          },
          "metadata": {},
          "execution_count": 106
        }
      ]
    },
    {
      "cell_type": "markdown",
      "source": [
        "## Remove Duplicates from Sorted Array\n",
        "https://leetcode.com/problems/remove-duplicates-from-sorted-array/description/"
      ],
      "metadata": {
        "id": "V6dYEO9SczkV"
      }
    },
    {
      "cell_type": "markdown",
      "source": [
        "### Solution (List)"
      ],
      "metadata": {
        "id": "nVzUSa67c8WE"
      }
    },
    {
      "cell_type": "code",
      "source": [
        "class Solution:\n",
        "    def removeDuplicates(self, nums: List[int]) -> int:\n",
        "\n",
        "        ## modify nums array, then return the length of it\n",
        "        if nums is None:\n",
        "            return 0\n",
        "\n",
        "        uniques = []\n",
        "        for num in nums:\n",
        "            if num not in uniques:\n",
        "                uniques.append(num)\n",
        "\n",
        "        nums[:len(uniques)] = uniques\n",
        "\n",
        "        return len(uniques)"
      ],
      "metadata": {
        "id": "BWp1P6lfc-wK"
      },
      "execution_count": null,
      "outputs": []
    },
    {
      "cell_type": "markdown",
      "source": [
        "### Solution (Two Pointers)"
      ],
      "metadata": {
        "id": "cY_GsCiXfweK"
      }
    },
    {
      "cell_type": "code",
      "source": [
        "class Solution:\n",
        "    def removeDuplicates(self, nums: List[int]) -> int:\n",
        "        i, j = 0, 1\n",
        "        while i <= j and j < len(nums):\n",
        "            if nums[i] == nums[j]:\n",
        "                j += 1\n",
        "            else:\n",
        "                nums[i + 1] = nums[j]\n",
        "                i += 1\n",
        "        return i + 1"
      ],
      "metadata": {
        "id": "1xKk_dfRfy5F"
      },
      "execution_count": null,
      "outputs": []
    },
    {
      "cell_type": "markdown",
      "source": [
        "## Remove Element\n",
        "https://leetcode.com/problems/remove-element/description/"
      ],
      "metadata": {
        "id": "6Bwa0uuBiyiy"
      }
    },
    {
      "cell_type": "markdown",
      "source": [
        "### Solution (While Loop)"
      ],
      "metadata": {
        "id": "okIBW3rYi4k_"
      }
    },
    {
      "cell_type": "code",
      "source": [
        "class Solution:\n",
        "    def removeElement(self, nums: List[int], val: int) -> int:\n",
        "        i = 0\n",
        "\n",
        "        while i < len(nums):\n",
        "            if nums[i] == val:\n",
        "                nums.pop(i)\n",
        "            else:\n",
        "                i += 1\n",
        "\n",
        "        return len(nums)"
      ],
      "metadata": {
        "id": "s10DdR3Zi7rJ"
      },
      "execution_count": null,
      "outputs": []
    },
    {
      "cell_type": "markdown",
      "source": [
        "### Solution (For Loop)\n",
        "\n",
        "It creates a copy of the original list using `nums_temp = nums[:]` to prevent modifying the list while iterating over it. Then, it iterates through the `nums` list, removing any instances of `val` from the `nums_temp` copy. Finally, it updates the original `nums` list with the modified `nums_temp` list using `nums[:] = nums_temp`. `nums[:] = nums_temp` is used to update the original list's content, while `nums = nums_temp` would rebind the variable nums to a different list, leaving the original list unchanged."
      ],
      "metadata": {
        "id": "0f12utUak3OX"
      }
    },
    {
      "cell_type": "code",
      "source": [
        "class Solution:\n",
        "    def removeElement(self, nums: List[int], val: int) -> int:\n",
        "\n",
        "        nums_temp = nums[:]\n",
        "        for num in nums:\n",
        "            if num == val:\n",
        "                nums_temp.remove(num)\n",
        "\n",
        "        nums[:] = nums_temp\n",
        "\n",
        "        return len(nums)"
      ],
      "metadata": {
        "id": "j6Sqqggmk7wM"
      },
      "execution_count": null,
      "outputs": []
    },
    {
      "cell_type": "markdown",
      "source": [
        "## Length of Last Word\n",
        "https://leetcode.com/problems/length-of-last-word/description/"
      ],
      "metadata": {
        "id": "etRQbOtyxRBL"
      }
    },
    {
      "cell_type": "markdown",
      "source": [
        "### Solution (Split)"
      ],
      "metadata": {
        "id": "397G4GPSxVId"
      }
    },
    {
      "cell_type": "code",
      "source": [
        "class Solution:\n",
        "    def lengthOfLastWord(self, s: str) -> int:\n",
        "\n",
        "        words = s.split()\n",
        "        return len(words[-1])"
      ],
      "metadata": {
        "id": "u5pChldFxTpa"
      },
      "execution_count": null,
      "outputs": []
    },
    {
      "cell_type": "markdown",
      "source": [
        "### Solution (Two Pointers)"
      ],
      "metadata": {
        "id": "oFjlvfr-yPT7"
      }
    },
    {
      "cell_type": "code",
      "source": [
        "class Solution:\n",
        "    def lengthOfLastWord(self, s: str) -> int:\n",
        "\n",
        "        end = len(s) - 1\n",
        "        while end >= 0:\n",
        "            if s[end] != ' ':\n",
        "                break\n",
        "            end -= 1\n",
        "\n",
        "        start = end\n",
        "        while start >= 0:\n",
        "            if s[start] == ' ':\n",
        "                break\n",
        "            start -= 1\n",
        "\n",
        "        return end - start"
      ],
      "metadata": {
        "id": "ZhwS9cZozhEP"
      },
      "execution_count": null,
      "outputs": []
    },
    {
      "cell_type": "markdown",
      "source": [
        "## Add Binary\n",
        "https://leetcode.com/problems/add-binary/description/"
      ],
      "metadata": {
        "id": "xzSMpOAD4x8n"
      }
    },
    {
      "cell_type": "markdown",
      "source": [
        "### Solution (String Conversion)"
      ],
      "metadata": {
        "id": "3O61-Ns285BB"
      }
    },
    {
      "cell_type": "code",
      "source": [
        "class Solution:\n",
        "    def addBinary(self, a: str, b: str) -> str:\n",
        "\n",
        "        a, b = int(a), int(b)\n",
        "\n",
        "        if a == 0 and b == 0 :\n",
        "            return '0'\n",
        "\n",
        "        i, j = 0, 0\n",
        "        a_int, b_int = 0, 0\n",
        "\n",
        "        while a > 0:\n",
        "            a_int += (2 ** (i)) * (a % 10)\n",
        "            a //= 10\n",
        "            i += 1\n",
        "\n",
        "        while b > 0:\n",
        "            b_int += (2 ** (j))  * (b % 10)\n",
        "            b //= 10\n",
        "            j += 1\n",
        "\n",
        "        added = a_int + b_int\n",
        "        answer = ''\n",
        "        while added >= 1:\n",
        "            answer += str(added % 2)\n",
        "\n",
        "            added //= 2\n",
        "\n",
        "        return answer[::-1]"
      ],
      "metadata": {
        "id": "pbBMJR9s5cWG"
      },
      "execution_count": null,
      "outputs": []
    },
    {
      "cell_type": "markdown",
      "source": [
        "### Solution (Mathematics)"
      ],
      "metadata": {
        "id": "48bgIp_k9XvJ"
      }
    },
    {
      "cell_type": "code",
      "source": [
        "class Solution:\n",
        "    def addBinary(self, a: str, b: str) -> str:\n",
        "        history = []\n",
        "        carry = 0\n",
        "        i = len(a) - 1\n",
        "        j = len(b) - 1\n",
        "\n",
        "        while (i >= 0) or (j >= 0) or (carry):\n",
        "            if i >= 0:\n",
        "                carry += int(a[i])\n",
        "                i -= 1\n",
        "            if j >= 0:\n",
        "                carry += int(b[j])\n",
        "                j -= 1\n",
        "\n",
        "            history.append(str(carry % 2))\n",
        "            carry //= 2\n",
        "\n",
        "        return ''.join(s[::-1])"
      ],
      "metadata": {
        "id": "PIf6MpVh9bzT"
      },
      "execution_count": null,
      "outputs": []
    },
    {
      "cell_type": "markdown",
      "source": [
        "## Sqrt(x)\n",
        "https://leetcode.com/problems/sqrtx/description/"
      ],
      "metadata": {
        "id": "upkOX7QPEboJ"
      }
    },
    {
      "cell_type": "markdown",
      "source": [
        "### Solution (Accumulation)\n",
        "\n",
        "The first solution calculates the square root of x by incrementing a variable i and accumulating the squares of consecutive odd integers until the accumulated value exceeds x."
      ],
      "metadata": {
        "id": "TJnEyeEyEehT"
      }
    },
    {
      "cell_type": "code",
      "source": [
        "class Solution:\n",
        "    def mySqrt(self, x: int) -> int:\n",
        "\n",
        "        if x == 1:\n",
        "            return 1\n",
        "\n",
        "        aggregate = 0\n",
        "        answer = 0\n",
        "        for i in range(x) :\n",
        "            aggregate += 1 + 2 * i\n",
        "\n",
        "            if aggregate > x:\n",
        "                answer = i\n",
        "                break\n",
        "\n",
        "        return answer"
      ],
      "metadata": {
        "id": "7ORu5dMID7j9"
      },
      "execution_count": null,
      "outputs": []
    },
    {
      "cell_type": "markdown",
      "source": [
        "### Solution (Increment)\n",
        "This method avoids the need for explicit addition and accumulation of values, which makes it more efficient in terms of computation."
      ],
      "metadata": {
        "id": "FLDxfGXyFm-y"
      }
    },
    {
      "cell_type": "code",
      "source": [
        "class Solution:\n",
        "    def mySqrt(self, x: int) -> int:\n",
        "\n",
        "        cur = 1\n",
        "        while cur * cur <= x:\n",
        "            cur += 1\n",
        "\n",
        "        return cur - 1"
      ],
      "metadata": {
        "id": "rG3O528mFrDP"
      },
      "execution_count": null,
      "outputs": []
    },
    {
      "cell_type": "markdown",
      "source": [
        "### Solution (Binary Search)"
      ],
      "metadata": {
        "id": "Ihdb9U-2FusB"
      }
    },
    {
      "cell_type": "code",
      "source": [
        "class Solution:\n",
        "    def mySqrt(self, x: int) -> int:\n",
        "\n",
        "        start, end = 0, x\n",
        "\n",
        "        while start <= end:\n",
        "\n",
        "            mid = start + (end - start) // 2\n",
        "            print(start, end, mid)\n",
        "\n",
        "            if mid * mid < x:\n",
        "                start = mid + 1\n",
        "            elif mid * mid > x:\n",
        "                end = mid - 1\n",
        "            else:\n",
        "                return mid\n",
        "\n",
        "        return end  ## for returning the rounded down value"
      ],
      "metadata": {
        "id": "Z7Kg8x7ZGSIh"
      },
      "execution_count": null,
      "outputs": []
    },
    {
      "cell_type": "markdown",
      "source": [
        "## Remove Duplicates from Sorted List\n",
        "https://leetcode.com/problems/remove-duplicates-from-sorted-list/description/"
      ],
      "metadata": {
        "id": "Ni1EOjD0XZgd"
      }
    },
    {
      "cell_type": "markdown",
      "source": [
        "### Solution"
      ],
      "metadata": {
        "id": "6RfNFR01OtDj"
      }
    },
    {
      "cell_type": "code",
      "source": [
        "class Solution:\n",
        "    def deleteDuplicates(self, head: Optional[ListNode]) -> Optional[ListNode]:\n",
        "\n",
        "        cur = head\n",
        "        while cur and cur.next:\n",
        "            if cur.val == cur.next.val:\n",
        "                cur.next = cur.next.next\n",
        "            else:\n",
        "                cur = cur.next\n",
        "\n",
        "        return head"
      ],
      "metadata": {
        "id": "asEx_-IROuDZ"
      },
      "execution_count": null,
      "outputs": []
    },
    {
      "cell_type": "markdown",
      "source": [
        "### Solution"
      ],
      "metadata": {
        "id": "J3HRfV4-bZAr"
      }
    },
    {
      "cell_type": "code",
      "source": [
        "class Solution:\n",
        "    def deleteDuplicates(self, head: Optional[ListNode]) -> Optional[ListNode]:\n",
        "\n",
        "        root = ListNode(0)\n",
        "        root.next = head\n",
        "        unique = root\n",
        "\n",
        "        visited = set()\n",
        "        while head:\n",
        "\n",
        "            if head.val in visited:\n",
        "                head = head.next\n",
        "                continue\n",
        "\n",
        "\n",
        "            visited.add(head.val)\n",
        "            unique.next = head\n",
        "            unique = unique.next\n",
        "\n",
        "            head = head.next\n",
        "\n",
        "        unique.next = None\n",
        "\n",
        "        return root.next"
      ],
      "metadata": {
        "id": "NHqEZsK1badK"
      },
      "execution_count": null,
      "outputs": []
    },
    {
      "cell_type": "markdown",
      "source": [
        "## Merge Sorted Array\n",
        "https://leetcode.com/problems/merge-sorted-array/description/"
      ],
      "metadata": {
        "id": "fnXcFxaFVC44"
      }
    },
    {
      "cell_type": "markdown",
      "source": [
        "### Solution (Two Pointers)"
      ],
      "metadata": {
        "id": "dQEfU4h8VHES"
      }
    },
    {
      "cell_type": "code",
      "source": [
        "class Solution:\n",
        "    def merge(self, nums1: List[int], m: int, nums2: List[int], n: int) -> None:\n",
        "        i, j, k = m - 1, n - 1, m + n - 1\n",
        "\n",
        "        while i >= 0 and j >= 0:\n",
        "            if nums1[i] > nums2[j]:\n",
        "                nums1[k] = nums1[i]\n",
        "                i -= 1\n",
        "            else:\n",
        "                nums1[k] = nums2[j]\n",
        "                j -= 1\n",
        "            k -= 1\n",
        "\n",
        "        while j >= 0:\n",
        "            nums1[k] = nums2[j]\n",
        "            j -= 1\n",
        "            k -= 1"
      ],
      "metadata": {
        "id": "BHfStcSObm-W"
      },
      "execution_count": null,
      "outputs": []
    },
    {
      "cell_type": "markdown",
      "source": [
        "## Binary Tree Inorder Traversal\n",
        "https://leetcode.com/problems/binary-tree-inorder-traversal/description/"
      ],
      "metadata": {
        "id": "GG9pJ-4ettMR"
      }
    },
    {
      "cell_type": "markdown",
      "source": [
        "### Solution"
      ],
      "metadata": {
        "id": "sVCjkoBZtu7c"
      }
    },
    {
      "cell_type": "code",
      "source": [
        "class Solution:\n",
        "    def inorderTraversal(self, root: Optional[TreeNode]) -> List[int]:\n",
        "\n",
        "        answer = []\n",
        "        def dfs(node: Optional[TreeNode]):\n",
        "            if node is None:\n",
        "                return\n",
        "\n",
        "            dfs(node.left)\n",
        "\n",
        "            answer.append(node.val)\n",
        "\n",
        "            dfs(node.right)\n",
        "\n",
        "        dfs(root)\n",
        "\n",
        "        return answer"
      ],
      "metadata": {
        "id": "fAJ7WVqjtxit"
      },
      "execution_count": null,
      "outputs": []
    },
    {
      "cell_type": "markdown",
      "source": [
        "## Same Tree\n",
        "https://leetcode.com/problems/same-tree/description/"
      ],
      "metadata": {
        "id": "8nfYO1xkPXnY"
      }
    },
    {
      "cell_type": "markdown",
      "source": [
        "### Solution\n",
        "\n",
        " The base cases check if both `p` and `q` are `None`, indicating empty trees, in which case they are considered structurally identical. If one of the trees is empty while the other is not, they are not structurally identical. Subsequently, it checks if the values of the current nodes in `p` and `q` are equal. If they are, the function recursively proceeds to compare the left and right subtrees. This process continues for all nodes in the trees, and if at any point a mismatch is found in structure or node values, the function returns `False`."
      ],
      "metadata": {
        "id": "vMtYKDwKPcXs"
      }
    },
    {
      "cell_type": "code",
      "source": [
        "class Solution:\n",
        "    def isSameTree(self, p: Optional[TreeNode], q: Optional[TreeNode]) -> bool:\n",
        "\n",
        "        def dfs(left: Optional[TreeNode], right: Optional[TreeNode]):\n",
        "\n",
        "            # are structrurally identical\n",
        "            if (left is None) and (right is None):\n",
        "                return True\n",
        "\n",
        "            if left is None:\n",
        "                return False\n",
        "\n",
        "            if right is None:\n",
        "                return False\n",
        "\n",
        "            # have the same value\n",
        "            if left.val != right.val:\n",
        "                return False\n",
        "\n",
        "            return (\n",
        "                dfs(left.left, right.left) and\n",
        "                dfs(left.right, right.right)\n",
        "            )\n",
        "\n",
        "        return dfs(p, q)"
      ],
      "metadata": {
        "id": "_KknlR4tPdhp"
      },
      "execution_count": null,
      "outputs": []
    },
    {
      "cell_type": "markdown",
      "source": [
        "## Path Sum\n",
        "https://leetcode.com/problems/path-sum/description/"
      ],
      "metadata": {
        "id": "wd5gtWQAS2xH"
      }
    },
    {
      "cell_type": "markdown",
      "source": [
        "### Solution\n",
        "\n",
        "It uses a recursive depth-first search (DFS) algorithm to traverse the tree, maintaining an aggregate value that accumulates the sum of node values along the current path. If the algorithm encounters a leaf node (both left and right children are `None`), it checks if the aggregate equals the `targetSum` and returns `True` if they match. Otherwise, it recursively explores the left and right subtrees, returning `True` if either subtree contains a valid path with the desired sum. If no such path is found, it returns `False`."
      ],
      "metadata": {
        "id": "46CQp-fMTl2H"
      }
    },
    {
      "cell_type": "code",
      "source": [
        "class Solution:\n",
        "    def hasPathSum(self, root: Optional[TreeNode], targetSum: int) -> bool:\n",
        "\n",
        "        def dfs(node: Optional[TreeNode], aggregate: int):\n",
        "\n",
        "            if node is None:\n",
        "                return False\n",
        "\n",
        "            aggregate += node.val\n",
        "\n",
        "            if (node.left is None) and (node.right is None):\n",
        "                return aggregate == targetSum\n",
        "\n",
        "            return (\n",
        "                dfs(node.left, aggregate) or\n",
        "                dfs(node.right, aggregate)\n",
        "            )\n",
        "\n",
        "        return dfs(root, 0)"
      ],
      "metadata": {
        "id": "xkuk27r5VGBI"
      },
      "execution_count": null,
      "outputs": []
    },
    {
      "cell_type": "markdown",
      "source": [
        "## Pascal's Triangle II\n",
        "https://leetcode.com/problems/pascals-triangle-ii/description/"
      ],
      "metadata": {
        "id": "BzlGbM4ch-Sq"
      }
    },
    {
      "cell_type": "markdown",
      "source": [
        "### Solution (Recursive)"
      ],
      "metadata": {
        "id": "AQOr-KIuiCd1"
      }
    },
    {
      "cell_type": "code",
      "source": [
        "class Solution:\n",
        "    def getRow(self, rowIndex: int) -> List[int]:\n",
        "\n",
        "        if rowIndex == 0:\n",
        "            return [1]\n",
        "\n",
        "        if rowIndex == 1:\n",
        "            return [1, 1]\n",
        "\n",
        "        prev = self.getRow(rowIndex - 1)\n",
        "        cur = [1] * (rowIndex + 1)\n",
        "\n",
        "        for i in range(1, rowIndex):\n",
        "            cur[i] = prev[i] + prev[i - 1]\n",
        "\n",
        "        return cur"
      ],
      "metadata": {
        "id": "zLqrkuYJiEyR"
      },
      "execution_count": null,
      "outputs": []
    },
    {
      "cell_type": "markdown",
      "source": [
        "### Solution (Nested Loops)"
      ],
      "metadata": {
        "id": "ZHJsLn6EiJqQ"
      }
    },
    {
      "cell_type": "code",
      "source": [
        "class Solution:\n",
        "    def getRow(self, rowIndex: int) -> List[int]:\n",
        "        row = [1] * (rowIndex + 1)\n",
        "\n",
        "        # modification starts from 3rd row (indexed by 2)\n",
        "        for i in range(2, rowIndex + 1):\n",
        "\n",
        "            # we iterate from 1 to i - 1, as moving from right to left in each row\n",
        "            for j in range(1, i):\n",
        "                row[i - j] += row[i - j - 1]\n",
        "\n",
        "        return row"
      ],
      "metadata": {
        "id": "mXDAlI_0iMlx"
      },
      "execution_count": null,
      "outputs": []
    },
    {
      "cell_type": "markdown",
      "source": [
        "## Linked List Cycle\n",
        "https://leetcode.com/problems/linked-list-cycle/description/"
      ],
      "metadata": {
        "id": "dIkZfA-zly85"
      }
    },
    {
      "cell_type": "markdown",
      "source": [
        "### Solution (Set)"
      ],
      "metadata": {
        "id": "XQyXgWn-z4eC"
      }
    },
    {
      "cell_type": "code",
      "source": [
        "class Solution:\n",
        "    def hasCycle(self, head: Optional[ListNode]) -> bool:\n",
        "        nodeSet = set()\n",
        "\n",
        "        while head:\n",
        "            if head in nodeSet:\n",
        "                return True\n",
        "\n",
        "            nodeSet.add(head)\n",
        "            head = head.next\n",
        "\n",
        "        return False"
      ],
      "metadata": {
        "id": "2EMMU445z6GO"
      },
      "execution_count": null,
      "outputs": []
    },
    {
      "cell_type": "markdown",
      "source": [
        "### Solution (Two Pointers)"
      ],
      "metadata": {
        "id": "HTL5Y81Ao8IE"
      }
    },
    {
      "cell_type": "code",
      "source": [
        "class Solution:\n",
        "    def hasCycle(self, head: Optional[ListNode]) -> bool:\n",
        "        slow = head\n",
        "        fast = head\n",
        "\n",
        "        while fast and fast.next:\n",
        "            slow = slow.next\n",
        "            fast = fast.next.next\n",
        "\n",
        "            if slow == fast:\n",
        "                return True\n",
        "\n",
        "        return False"
      ],
      "metadata": {
        "id": "H3bYcmT0q1no"
      },
      "execution_count": null,
      "outputs": []
    },
    {
      "cell_type": "markdown",
      "source": [
        "## Intersection of Two Linked Lists\n",
        "https://leetcode.com/problems/intersection-of-two-linked-lists/description/"
      ],
      "metadata": {
        "id": "JK3MMyTsAWbs"
      }
    },
    {
      "cell_type": "markdown",
      "source": [
        "### Solution\n",
        "\n",
        " It starts by initializing two pointers, list1 and list2, to the heads of the respective linked lists. The code then compares the nodes pointed to by list1 and list2 to check if they are the same. If they are not, it advances each pointer by one node, iterating through both linked lists. This process continues until the pointers meet at the intersection node, or they both reach the end of their respective lists."
      ],
      "metadata": {
        "id": "taeyazb_AkHf"
      }
    },
    {
      "cell_type": "code",
      "source": [
        "class Solution:\n",
        "    def getIntersectionNode(self, headA: ListNode, headB: ListNode) -> Optional[ListNode]:\n",
        "\n",
        "        list1, list2 = headA, headB\n",
        "\n",
        "        while list1 != list2:\n",
        "            list1 = list1.next if list1 else headB\n",
        "            list2 = list2.next if list2 else headA\n",
        "\n",
        "        return list1"
      ],
      "metadata": {
        "id": "iD8C7PFaAnFm"
      },
      "execution_count": null,
      "outputs": []
    },
    {
      "cell_type": "markdown",
      "source": [
        "## Excel Sheet Column Title\n",
        "https://leetcode.com/problems/excel-sheet-column-title/description/"
      ],
      "metadata": {
        "id": "xpg6l7ng-N3T"
      }
    },
    {
      "cell_type": "markdown",
      "source": [
        "### Solution\n",
        "The subtraction of one from columnNumber is performed to adjust the numbering system, as Excel column numbering starts from 1, whereas the solution uses a 0-based indexing system."
      ],
      "metadata": {
        "id": "xZusc733-MMz"
      }
    },
    {
      "cell_type": "code",
      "source": [
        "class Solution:\n",
        "    def titleToNumber(self, columnNumber: int) -> str:\n",
        "\n",
        "        digits = []\n",
        "        while columnNumber > 0:\n",
        "            columnNumber -= 1\n",
        "            digits.append(chr(65 + (columnNumber % 26)))\n",
        "            columnNumber //= 26\n",
        "\n",
        "        return ''.join(digits[::-1])"
      ],
      "metadata": {
        "id": "fgRZSfoRk1Ia"
      },
      "execution_count": null,
      "outputs": []
    },
    {
      "cell_type": "markdown",
      "source": [
        "## Excel Sheet Column Number\n",
        "\n",
        "https://leetcode.com/problems/excel-sheet-column-number/description/"
      ],
      "metadata": {
        "id": "QU0KBNbHvVo4"
      }
    },
    {
      "cell_type": "markdown",
      "source": [
        "### Solution"
      ],
      "metadata": {
        "id": "E_iVx38JveQH"
      }
    },
    {
      "cell_type": "code",
      "source": [
        "class Solution:\n",
        "    def titleToNumber(self, columnTitle: str) -> int:\n",
        "\n",
        "        chrMap = {}\n",
        "        for i in range(65, 65 + 26):\n",
        "            chrMap[chr(i)] = i - 64\n",
        "\n",
        "\n",
        "        i, answer = 0, 0\n",
        "        while columnTitle:\n",
        "\n",
        "            cur = columnTitle[-1]\n",
        "            answer += (26 ** i) * chrMap[cur]\n",
        "\n",
        "            columnTitle = columnTitle[:-1]\n",
        "            i += 1\n",
        "\n",
        "        return answer"
      ],
      "metadata": {
        "id": "h5NeR1uxvgWS"
      },
      "execution_count": null,
      "outputs": []
    },
    {
      "cell_type": "markdown",
      "source": [
        "## Happy Number\n",
        "\n",
        "https://leetcode.com/problems/happy-number/description/"
      ],
      "metadata": {
        "id": "jyufMzCeLF_h"
      }
    },
    {
      "cell_type": "markdown",
      "source": [
        "### Solution (Recursive)"
      ],
      "metadata": {
        "id": "FsM1tZIOLQui"
      }
    },
    {
      "cell_type": "code",
      "source": [
        "class Solution:\n",
        "    def __init__(self):\n",
        "        self.traced = set()\n",
        "\n",
        "    def isHappy(self, n: int) -> bool:\n",
        "        if n in self.traced:\n",
        "            return False\n",
        "\n",
        "        self.traced.add(n)\n",
        "\n",
        "        aggregate = 0\n",
        "        while n > 0:\n",
        "            aggregate += (n % 10) ** 2\n",
        "            n //= 10\n",
        "\n",
        "        if aggregate == 1:\n",
        "            return True\n",
        "\n",
        "        return self.isHappy(aggregate)"
      ],
      "metadata": {
        "id": "VumyNLecLfU6"
      },
      "execution_count": null,
      "outputs": []
    },
    {
      "cell_type": "markdown",
      "source": [
        "### Solution (While)"
      ],
      "metadata": {
        "id": "bXUxMTKqRzW2"
      }
    },
    {
      "cell_type": "code",
      "source": [
        "class Solution:\n",
        "    def isHappy(self, n):\n",
        "\n",
        "        traced = set()\n",
        "        while n != 1:\n",
        "            if n in traced:\n",
        "                return False\n",
        "            traced.add(n)\n",
        "            n = sum([int(i) ** 2 for i in str(n)])\n",
        "        else:\n",
        "            return True"
      ],
      "metadata": {
        "id": "cbpNMoRMR17K"
      },
      "execution_count": null,
      "outputs": []
    },
    {
      "cell_type": "markdown",
      "source": [
        "## Remove Linked List Elements\n",
        "\n",
        "https://leetcode.com/problems/remove-linked-list-elements/description/"
      ],
      "metadata": {
        "id": "Wa-ttnAUpANM"
      }
    },
    {
      "cell_type": "markdown",
      "source": [
        "### Solution"
      ],
      "metadata": {
        "id": "NLEJkf5hpDGl"
      }
    },
    {
      "cell_type": "code",
      "source": [
        "class Solution:\n",
        "    def removeElements(self, head: Optional[ListNode], val: int) -> Optional[ListNode]:\n",
        "\n",
        "        while head is not None and head.val == val:\n",
        "            head = head.next\n",
        "\n",
        "        cur = head\n",
        "        while cur and cur.next:\n",
        "            if cur.next.val == val:\n",
        "                cur.next = cur.next.next\n",
        "            else:\n",
        "                cur = cur.next\n",
        "\n",
        "        return head"
      ],
      "metadata": {
        "id": "CMZBb_N3pPN2"
      },
      "execution_count": null,
      "outputs": []
    },
    {
      "cell_type": "markdown",
      "source": [
        "## Isomorphic Strings\n",
        "\n",
        "https://leetcode.com/problems/isomorphic-strings/description/"
      ],
      "metadata": {
        "id": "VlJf_D_u2Ed8"
      }
    },
    {
      "cell_type": "markdown",
      "source": [
        "### Solution (defaultdict)"
      ],
      "metadata": {
        "id": "JcDtMHVR2HCg"
      }
    },
    {
      "cell_type": "code",
      "source": [
        "class Solution:\n",
        "    def isIsomorphic(self, s: str, t: str) -> bool:\n",
        "\n",
        "        s_map = collections.defaultdict(list)\n",
        "        t_map = collections.defaultdict(list)\n",
        "\n",
        "        for i in range(len(s)):\n",
        "            s_map[s[i]].append(i)\n",
        "            t_map[t[i]].append(i)\n",
        "\n",
        "        if list(s_map.values()) == list(t_map.values()):\n",
        "            return True\n",
        "\n",
        "        return False"
      ],
      "metadata": {
        "id": "J9UPekQj2Mpr"
      },
      "execution_count": null,
      "outputs": []
    },
    {
      "cell_type": "markdown",
      "source": [
        "## Minimum Bit Flips to Convert Number\n",
        "https://leetcode.com/problems/minimum-bit-flips-to-convert-number/description/"
      ],
      "metadata": {
        "id": "El_gXvebbg2j"
      }
    },
    {
      "cell_type": "markdown",
      "source": [
        "### Solution (Bit Operands)"
      ],
      "metadata": {
        "id": "dPX1v3tLbljb"
      }
    },
    {
      "cell_type": "code",
      "source": [
        "class Solution:\n",
        "    def minBitFlips(self, start: int, goal: int) -> int:\n",
        "\n",
        "        differing_bits = start ^ goal\n",
        "\n",
        "        return bin(differing_bits).count('1')"
      ],
      "metadata": {
        "id": "MrZzOdeNbqml"
      },
      "execution_count": null,
      "outputs": []
    },
    {
      "cell_type": "markdown",
      "source": [
        "## Count the Number of Consistent Strings\n",
        "https://leetcode.com/problems/count-the-number-of-consistent-strings/description/"
      ],
      "metadata": {
        "id": "12UTfKalqeus"
      }
    },
    {
      "cell_type": "markdown",
      "source": [
        "### Solution"
      ],
      "metadata": {
        "id": "Jimf7v5sqdX3"
      }
    },
    {
      "cell_type": "code",
      "source": [
        "class Solution:\n",
        "    def countConsistentStrings(self, allowed: str, words: List[str]) -> int:\n",
        "\n",
        "        count = 0\n",
        "        allowed_ = set(allowed)\n",
        "\n",
        "\n",
        "        for word in words:\n",
        "\n",
        "            count += 1\n",
        "            for char in word:\n",
        "                if char not in allowed_:\n",
        "                    count -= 1\n",
        "                    break\n",
        "\n",
        "        return count"
      ],
      "metadata": {
        "colab": {
          "base_uri": "https://localhost:8080/"
        },
        "id": "FR9l-z3ops4O",
        "outputId": "9a424430-f069-4f6d-8d96-f98f91fdbf12"
      },
      "execution_count": null,
      "outputs": [
        {
          "output_type": "execute_result",
          "data": {
            "text/plain": [
              "2"
            ]
          },
          "metadata": {},
          "execution_count": 79
        }
      ]
    },
    {
      "cell_type": "markdown",
      "source": [
        "### Solution (Pythonic code)"
      ],
      "metadata": {
        "id": "DKFktc3oqX5q"
      }
    },
    {
      "cell_type": "code",
      "source": [
        "class Solution:\n",
        "    def countConsistentStrings(self, allowed: str, words: List[str]) -> int:\n",
        "        allowed_set = set(allowed)\n",
        "        return sum(all(char in allowed_set for char in word) for word in words)"
      ],
      "metadata": {
        "id": "H06qjcMtqXlc"
      },
      "execution_count": null,
      "outputs": []
    },
    {
      "cell_type": "markdown",
      "source": [
        "# Best Practice LC Questions\n",
        "https://www.techinterviewhandbook.org/best-practice-questions/"
      ],
      "metadata": {
        "id": "zOFAaFqYMVWJ"
      }
    },
    {
      "cell_type": "markdown",
      "source": [
        "## Week 1 - Sequences"
      ],
      "metadata": {
        "id": "wKaByxmWMa01"
      }
    },
    {
      "cell_type": "markdown",
      "source": [
        "### Contains Duplicate\n",
        "\n",
        "https://leetcode.com/problems/contains-duplicate/description/"
      ],
      "metadata": {
        "id": "svMEyBHQJz-p"
      }
    },
    {
      "cell_type": "markdown",
      "source": [
        "#### Solution (Sliding Window)"
      ],
      "metadata": {
        "id": "FSS6FIMPJ2Am"
      }
    },
    {
      "cell_type": "code",
      "source": [
        "class Solution:\n",
        "    def containsDuplicate(self, nums: List[int]) -> bool:\n",
        "\n",
        "        traced = set()\n",
        "        for i in range(len(nums)):\n",
        "\n",
        "            if nums[i] in traced:\n",
        "                return True\n",
        "\n",
        "            traced.add(nums[i])\n",
        "\n",
        "        return False"
      ],
      "metadata": {
        "id": "SalIzG2CJ28f"
      },
      "execution_count": null,
      "outputs": []
    },
    {
      "cell_type": "markdown",
      "source": [
        "### Best Time to Buy and Sell Stock\n",
        "https://leetcode.com/problems/best-time-to-buy-and-sell-stock/description/"
      ],
      "metadata": {
        "id": "5RpmA6XwNUjt"
      }
    },
    {
      "cell_type": "markdown",
      "source": [
        "#### Solution"
      ],
      "metadata": {
        "id": "3ktLtvs_NXRB"
      }
    },
    {
      "cell_type": "code",
      "source": [
        "class Solution:\n",
        "    def maxProfit(self, prices: List[int]) -> int:\n",
        "\n",
        "        minPrice = float('inf')\n",
        "        profit = 0\n",
        "\n",
        "        for price in prices:\n",
        "            minPrice =  min(minPrice, price)\n",
        "            profit = max(profit, price - minPrice)\n",
        "\n",
        "        return profit"
      ],
      "metadata": {
        "id": "o0OBcDrkNYvO"
      },
      "execution_count": null,
      "outputs": []
    },
    {
      "cell_type": "markdown",
      "source": [
        "### Valid Anagram\n",
        "https://leetcode.com/problems/valid-anagram/description/"
      ],
      "metadata": {
        "id": "5AoGFp0bPWeH"
      }
    },
    {
      "cell_type": "markdown",
      "source": [
        "#### Solution"
      ],
      "metadata": {
        "id": "1H3gKIFFPYQ9"
      }
    },
    {
      "cell_type": "code",
      "source": [
        "class Solution:\n",
        "    def isAnagram(self, s: str, t: str) -> bool:\n",
        "        if len(s) != len(t):\n",
        "            return False\n",
        "\n",
        "        char_count = {}\n",
        "\n",
        "        for char in s:\n",
        "            if char in char_count:\n",
        "                char_count[char] += 1\n",
        "            else:\n",
        "                char_count[char] = 1\n",
        "\n",
        "        for char in t:\n",
        "            if char in char_count:\n",
        "                char_count[char] -= 1\n",
        "                if char_count[char] == 0:\n",
        "                    del char_count[char]\n",
        "            else:\n",
        "                return False\n",
        "\n",
        "        return len(char_count) == 0"
      ],
      "metadata": {
        "id": "PIu52cWoPZDC"
      },
      "execution_count": null,
      "outputs": []
    },
    {
      "cell_type": "markdown",
      "source": [
        "### Valid Parentheses\n",
        "https://leetcode.com/problems/valid-parentheses/description/"
      ],
      "metadata": {
        "id": "QGHcUPYaPaVC"
      }
    },
    {
      "cell_type": "markdown",
      "source": [
        "#### Solution"
      ],
      "metadata": {
        "id": "M1ghsL7gPfYE"
      }
    },
    {
      "cell_type": "code",
      "source": [
        "class Solution:\n",
        "    def isValid(self, s: str) -> bool:\n",
        "\n",
        "        pair_ref = {\n",
        "            ')': '(',\n",
        "            '}': '{',\n",
        "            ']': '['\n",
        "        }\n",
        "\n",
        "        stack = []\n",
        "\n",
        "        for par in s:\n",
        "\n",
        "            if stack and par in pair_ref and (stack[-1] == pair_ref[par]):\n",
        "\n",
        "                stack.pop()\n",
        "                continue\n",
        "\n",
        "            stack.append(par)\n",
        "\n",
        "        return len(stack) == 0"
      ],
      "metadata": {
        "id": "YRMn9uyTPgON"
      },
      "execution_count": null,
      "outputs": []
    },
    {
      "cell_type": "markdown",
      "source": [
        "### Maximum Subarray\n",
        "https://leetcode.com/problems/maximum-subarray/description/"
      ],
      "metadata": {
        "id": "r_Mf0mYuQTNL"
      }
    },
    {
      "cell_type": "markdown",
      "source": [
        "#### Solution (Kadane's algorithm)"
      ],
      "metadata": {
        "id": "7nnJbvkVQJy9"
      }
    },
    {
      "cell_type": "code",
      "source": [
        "class Solution:\n",
        "    def maxSubArray(self, nums: List[int]) -> int:\n",
        "\n",
        "        curMax = float('-inf')\n",
        "        globMax = nums[0]\n",
        "\n",
        "        for n in nums:\n",
        "\n",
        "            curMax = max(curMax + n, n)\n",
        "            globMax = max(globMax, curMax)\n",
        "\n",
        "        return globMax"
      ],
      "metadata": {
        "id": "SYOvvzoyQK0R"
      },
      "execution_count": null,
      "outputs": []
    },
    {
      "cell_type": "markdown",
      "source": [
        "### Product of Array Except Self\n",
        "https://leetcode.com/problems/product-of-array-except-self/description/"
      ],
      "metadata": {
        "id": "UmeYt9LbR8Cc"
      }
    },
    {
      "cell_type": "markdown",
      "source": [
        "#### Solution"
      ],
      "metadata": {
        "id": "h22gNW8JR96N"
      }
    },
    {
      "cell_type": "code",
      "source": [
        "class Solution:\n",
        "    def productExceptSelf(self, nums: List[int]) -> List[int]:\n",
        "\n",
        "        result = [1] * len(nums)\n",
        "\n",
        "        forward = nums[0]\n",
        "        for idx, num in enumerate(nums):\n",
        "\n",
        "            if idx == 0:\n",
        "                continue\n",
        "\n",
        "            result[idx] *= forward\n",
        "            forward *= num\n",
        "\n",
        "        backward = nums[-1]\n",
        "        for idx, num in enumerate(nums[::-1]):\n",
        "\n",
        "            if idx == 0:\n",
        "                continue\n",
        "\n",
        "            result[len(nums) - 1 - idx] *= backward\n",
        "            backward *= num\n",
        "\n",
        "        return result"
      ],
      "metadata": {
        "id": "Q3rDvLhYR_uF"
      },
      "execution_count": null,
      "outputs": []
    },
    {
      "cell_type": "markdown",
      "source": [
        "### 3Sum\n",
        "https://leetcode.com/problems/3sum/description/"
      ],
      "metadata": {
        "id": "VNQPhTKGpMKm"
      }
    },
    {
      "cell_type": "markdown",
      "source": [
        "#### Solution (Two Pointers)"
      ],
      "metadata": {
        "id": "NfzqJvmcpPtA"
      }
    },
    {
      "cell_type": "code",
      "source": [
        "from typing import List\n",
        "\n",
        "class Solution:\n",
        "    def threeSum(self, nums: List[int]) -> List[List[int]]:\n",
        "\n",
        "        result = []\n",
        "        nums.sort()\n",
        "\n",
        "        for i in range(len(nums)):\n",
        "\n",
        "            # avoid duplicates\n",
        "            if i > 0 and nums[i] == nums[i - 1]:\n",
        "                continue\n",
        "\n",
        "            left, right = i + 1, len(nums) - 1\n",
        "\n",
        "            while left < right:\n",
        "\n",
        "                target = nums[i] + nums[left] + nums[right]\n",
        "\n",
        "                if target == 0:\n",
        "\n",
        "                    result.append([nums[i], nums[left], nums[right]])\n",
        "\n",
        "                    # avoid duplicates\n",
        "                    while left < right and nums[left] == nums[left + 1]:\n",
        "                        left += 1\n",
        "                    left += 1\n",
        "\n",
        "                    # avoid duplicates\n",
        "                    while left < right and nums[right] == nums[right - 1]:\n",
        "                        right -= 1\n",
        "                    right -= 1\n",
        "\n",
        "                elif target < 0:\n",
        "                    left += 1\n",
        "                else:\n",
        "                    right -=1\n",
        "\n",
        "        return result"
      ],
      "metadata": {
        "id": "N_68xW0kpUgT"
      },
      "execution_count": null,
      "outputs": []
    },
    {
      "cell_type": "markdown",
      "source": [
        "### Merge Intervals\n",
        "https://leetcode.com/problems/merge-intervals/"
      ],
      "metadata": {
        "id": "DujUsvnHpgId"
      }
    },
    {
      "cell_type": "markdown",
      "source": [
        "#### Solution"
      ],
      "metadata": {
        "id": "1Tj8oLwPpihW"
      }
    },
    {
      "cell_type": "code",
      "source": [
        "class Solution:\n",
        "    def merge(self, intervals: List[List[int]]) -> List[List[int]]:\n",
        "\n",
        "        intervals.sort(key = lambda x: x[0])\n",
        "\n",
        "        result = []\n",
        "        for i in range(len(intervals)):\n",
        "\n",
        "            cur = intervals[i]\n",
        "\n",
        "            if result:\n",
        "                prev = result[-1]\n",
        "\n",
        "                if prev[1] >= cur[0]:\n",
        "                    prev[1] = max(cur[1], prev[1])\n",
        "                    continue\n",
        "\n",
        "            result.append(cur)\n",
        "\n",
        "        return result"
      ],
      "metadata": {
        "id": "w_VCh0bmtjKg"
      },
      "execution_count": null,
      "outputs": []
    },
    {
      "cell_type": "markdown",
      "source": [
        "### Sort Colors\n",
        "https://leetcode.com/problems/sort-colors/description/"
      ],
      "metadata": {
        "id": "BpCDk02GvTy_"
      }
    },
    {
      "cell_type": "markdown",
      "source": [
        "#### Solution (Three pointers, Dutch National Flag Algorithm)\n",
        "\n",
        "The Dutch National Flag algorithm uses three pointers to keep track of the boundaries of each \"color\" in the array:\n",
        "\n",
        "- red (start of the array): points to the next position where a 0 (red) should go.\n",
        "- white (current index): iterates through the array, checking each element.\n",
        "- blue (end of the array): points to the next position where a 2 (blue) should go."
      ],
      "metadata": {
        "id": "Q5vl-d1Rvg-6"
      }
    },
    {
      "cell_type": "code",
      "source": [
        "class Solution:\n",
        "    def sortColors(self, nums: List[int]) -> None:\n",
        "        \"\"\"\n",
        "        Do not return anything, modify nums in-place instead.\n",
        "        \"\"\"\n",
        "        red, white, blue = 0, 0, len(nums)\n",
        "\n",
        "        while white < blue:\n",
        "\n",
        "            if nums[white] < 1:\n",
        "                nums[red], nums[white] = nums[white], nums[red]\n",
        "                white += 1\n",
        "                red += 1\n",
        "\n",
        "            elif nums[white] > 1:\n",
        "                blue -= 1\n",
        "                nums[blue], nums[white] = nums[white], nums[blue]\n",
        "\n",
        "            else:\n",
        "                white += 1"
      ],
      "metadata": {
        "id": "9ae1-aBGviOt"
      },
      "execution_count": null,
      "outputs": []
    },
    {
      "cell_type": "markdown",
      "source": [
        "### Group Anagrams\n",
        "https://leetcode.com/problems/group-anagrams/description/"
      ],
      "metadata": {
        "id": "1qTUQfwZFAnU"
      }
    },
    {
      "cell_type": "markdown",
      "source": [
        "#### Solution"
      ],
      "metadata": {
        "id": "2suTphQTFDUm"
      }
    },
    {
      "cell_type": "code",
      "source": [
        "class Solution:\n",
        "    def groupAnagrams(self, strs: List[str]) -> List[List[str]]:\n",
        "\n",
        "        group = defaultdict(list)\n",
        "\n",
        "        for word in strs:\n",
        "            word_key = ''.join(sorted(word))\n",
        "            group[word_key].append(word)\n",
        "\n",
        "        return group.values()"
      ],
      "metadata": {
        "id": "xoALhMjlCkCx"
      },
      "execution_count": null,
      "outputs": []
    },
    {
      "cell_type": "markdown",
      "source": [
        "## Week 2 - Data Structures"
      ],
      "metadata": {
        "id": "Du7lZWe8MleY"
      }
    },
    {
      "cell_type": "markdown",
      "source": [
        "### Reverse Linked List\n",
        "https://leetcode.com/problems/reverse-linked-list/description/"
      ],
      "metadata": {
        "id": "XF8kviagIy7n"
      }
    },
    {
      "cell_type": "markdown",
      "source": [
        "#### Solution (Pointer Manipulation)"
      ],
      "metadata": {
        "id": "KzTKpiwBI1Hb"
      }
    },
    {
      "cell_type": "code",
      "source": [
        "class Solution:\n",
        "    def reverseList(self, head: Optional[ListNode]) -> Optional[ListNode]:\n",
        "\n",
        "        prev = None\n",
        "        while head:\n",
        "            prev, prev.next, head = head, prev, head.next\n",
        "\n",
        "        return prev"
      ],
      "metadata": {
        "id": "oej2R27NI2Jz"
      },
      "execution_count": null,
      "outputs": []
    },
    {
      "cell_type": "markdown",
      "source": [
        "### Linked List Cycle\n",
        "https://leetcode.com/problems/linked-list-cycle/description/"
      ],
      "metadata": {
        "id": "cSZ3KrWORg7R"
      }
    },
    {
      "cell_type": "markdown",
      "source": [
        "#### Solution"
      ],
      "metadata": {
        "id": "ZLlf9HVfRi2G"
      }
    },
    {
      "cell_type": "code",
      "source": [
        "class Solution:\n",
        "    def hasCycle(self, head: Optional[ListNode]) -> bool:\n",
        "\n",
        "        visited = set()\n",
        "\n",
        "        while head:\n",
        "\n",
        "            if head in visited:\n",
        "                return True\n",
        "\n",
        "            visited.add(head)\n",
        "            head = head.next\n",
        "\n",
        "        return False"
      ],
      "metadata": {
        "id": "1x0k9nHMRlRB"
      },
      "execution_count": null,
      "outputs": []
    },
    {
      "cell_type": "markdown",
      "source": [
        "### Container With Most Water\n",
        "https://leetcode.com/problems/container-with-most-water/description/"
      ],
      "metadata": {
        "id": "QnZ1JNC0haFS"
      }
    },
    {
      "cell_type": "markdown",
      "source": [
        "#### Solution"
      ],
      "metadata": {
        "id": "xSwCInsGgVh0"
      }
    },
    {
      "cell_type": "code",
      "source": [
        "class Solution:\n",
        "    def maxArea(self, height: List[int]) -> int:\n",
        "        left, right = 0, len(height) - 1\n",
        "        max_area = 0\n",
        "\n",
        "        while left < right:\n",
        "            current_area = (right - left) * min(height[left], height[right])\n",
        "            max_area = max(max_area, current_area)\n",
        "\n",
        "            if height[left] < height[right]:\n",
        "                left += 1\n",
        "            else:\n",
        "                right -= 1\n",
        "\n",
        "        return max_area"
      ],
      "metadata": {
        "id": "mUPh7O93gV4O"
      },
      "execution_count": null,
      "outputs": []
    },
    {
      "cell_type": "markdown",
      "source": [
        "### Find Minimum in Rotated Sorted Array\n",
        "https://leetcode.com/problems/find-minimum-in-rotated-sorted-array/"
      ],
      "metadata": {
        "id": "5H0aHH8NjhF9"
      }
    },
    {
      "cell_type": "markdown",
      "source": [
        "#### Solution"
      ],
      "metadata": {
        "id": "bsS0gakjjidN"
      }
    },
    {
      "cell_type": "code",
      "source": [
        "class Solution:\n",
        "    def findMin(self, nums: List[int]) -> int:\n",
        "\n",
        "        left, right = 0, len(nums) - 1\n",
        "\n",
        "        while left < right:\n",
        "            mid = (left + right) // 2\n",
        "\n",
        "            if nums[mid] > nums[right]:\n",
        "                left = mid + 1\n",
        "\n",
        "            else:\n",
        "                right = mid\n",
        "\n",
        "        return nums[left]"
      ],
      "metadata": {
        "colab": {
          "base_uri": "https://localhost:8080/"
        },
        "id": "2AWqB_sKjjfU",
        "outputId": "7f90383e-7c64-4cfe-bbfb-d31e89aa53df"
      },
      "execution_count": null,
      "outputs": [
        {
          "output_type": "execute_result",
          "data": {
            "text/plain": [
              "1"
            ]
          },
          "metadata": {},
          "execution_count": 12
        }
      ]
    },
    {
      "cell_type": "markdown",
      "source": [
        "### Longest Repeating Character Replacement\n",
        "\n",
        "https://leetcode.com/problems/longest-repeating-character-replacement/description/"
      ],
      "metadata": {
        "id": "ajq1jDIconlA"
      }
    },
    {
      "cell_type": "markdown",
      "source": [
        "#### Solution (Sliding Window)\n",
        "\n",
        "- Sliding Window with Two Pointers (`left` and `right`): The window size is determined by the difference between `right` and `left`.\n",
        "- Character Frequency Count: `max_count` keeps track of the most frequent character in the current window.\n",
        "- Adjusting the Window: When the current window size minus the frequency of the most common character exceeds `k`, the window is adjusted by moving the `left` pointer.\n",
        "\n",
        "\n",
        "- More about the condition `(right - left + 1) - max_count > k`:\n",
        "If the condition  is true, it means that the current window is too large to be transformed into a valid substring by replacing at most `k` characters.\n",
        "Therefore, to maintain the validity of the window, the algorithm needs to shrink the window by moving the `left` pointer to the right. This effectively removes the leftmost character from the window, reducing its size and potentially reducing the number of replacements needed."
      ],
      "metadata": {
        "id": "FW4zRA04orgV"
      }
    },
    {
      "cell_type": "code",
      "source": [
        "from collections import defaultdict\n",
        "\n",
        "class Solution:\n",
        "    def characterReplacement(self, s: str, k: int) -> int:\n",
        "        count = defaultdict(int)\n",
        "        max_count = 0\n",
        "        max_len = 0\n",
        "        left = 0\n",
        "\n",
        "        for right in range(len(s)):\n",
        "            count[s[right]] += 1\n",
        "            max_count = max(max_count, count[s[right]])\n",
        "\n",
        "            while (right - left + 1) - max_count > k:\n",
        "                count[s[left]] -= 1\n",
        "                left += 1\n",
        "\n",
        "            max_len = max(max_len, right - left + 1)\n",
        "\n",
        "        return max_len"
      ],
      "metadata": {
        "id": "ikubPzrSomSi"
      },
      "execution_count": null,
      "outputs": []
    },
    {
      "cell_type": "markdown",
      "source": [
        "### Longest Substring Without Repeating Characters\n",
        "https://leetcode.com/problems/longest-substring-without-repeating-characters/description/"
      ],
      "metadata": {
        "id": "SDW8Y-kuMCBu"
      }
    },
    {
      "cell_type": "markdown",
      "source": [
        "#### Solution (Sliding Window)\n",
        "- Sliding Window with Two Pointers (left and right): The window size is determined by the difference between right and left.  \n",
        "- Tracking Unique Characters: Use a `trace` set to store unique characters in the window.  \n",
        "- Adjusting the Window: If a duplicate is found, move `left` until the window has only unique characters.  \n",
        "- Updating Maximum Length: After adjusting the window, update `max_len` as `right - left + 1`."
      ],
      "metadata": {
        "id": "XUwj6I5LMHlI"
      }
    },
    {
      "cell_type": "code",
      "source": [
        "class Solution:\n",
        "    def lengthOfLongestSubstring(self, s: str) -> int:\n",
        "        trace = set()\n",
        "        max_len = 0\n",
        "        left = 0\n",
        "\n",
        "        for right in range(len(s)):\n",
        "            while s[right] in trace:\n",
        "                trace.remove(s[left])\n",
        "                left += 1\n",
        "\n",
        "            trace.add(s[right])\n",
        "            max_len = max(max_len, right - left + 1)\n",
        "\n",
        "        return max_len"
      ],
      "metadata": {
        "id": "hta4IwR2PWOr"
      },
      "execution_count": null,
      "outputs": []
    },
    {
      "cell_type": "markdown",
      "source": [
        "### Number of Islands\n",
        "https://leetcode.com/problems/number-of-islands/"
      ],
      "metadata": {
        "id": "8ksKdoSgWAaX"
      }
    },
    {
      "cell_type": "markdown",
      "source": [
        "#### Solution\n",
        "\n",
        "- Base Cases for DFS: Ensure DFS stays within bounds and skips visited cells to avoid infinite recursion.  \n",
        "- Island Counting Logic: Traverse adjacent land cells, mark them as visited (`\"0\"`), and increment the count when an unvisited island is found."
      ],
      "metadata": {
        "id": "g98u0lpZWD9d"
      }
    },
    {
      "cell_type": "code",
      "source": [
        "class Solution:\n",
        "    def numIslands(self, grid: List[List[str]]) -> int:\n",
        "        if not grid:\n",
        "            return 0\n",
        "\n",
        "        def dfs(x, y):\n",
        "            # Check if (x, y) is out of bounds or already visited\n",
        "            if x < 0 or y < 0 or x >= len(grid) or y >= len(grid[0]) or grid[x][y] == \"0\":\n",
        "                return\n",
        "\n",
        "            # Mark the current cell as visited\n",
        "            grid[x][y] = \"0\"\n",
        "\n",
        "            # Explore all 4 directions\n",
        "            dfs(x + 1, y)\n",
        "            dfs(x - 1, y)\n",
        "            dfs(x, y + 1)\n",
        "            dfs(x, y - 1)\n",
        "\n",
        "        count = 0  # To count the number of islands\n",
        "\n",
        "        for i in range(len(grid)):\n",
        "            for j in range(len(grid[0])):\n",
        "                if grid[i][j] == \"1\":  # Start DFS if we find an unvisited land cell\n",
        "                    dfs(i, j)\n",
        "                    count += 1  # Increment the island count when DFS finishes\n",
        "\n",
        "        return count"
      ],
      "metadata": {
        "id": "gVK1eG19WFzZ"
      },
      "execution_count": null,
      "outputs": []
    },
    {
      "cell_type": "markdown",
      "source": [
        "### Remove Nth Node From End of List\n",
        "https://leetcode.com/problems/remove-nth-node-from-end-of-list/description/"
      ],
      "metadata": {
        "id": "avv1SF2ebPRM"
      }
    },
    {
      "cell_type": "markdown",
      "source": [
        "#### Solution (two-pass algorithm)\n",
        "The solution calculates the list's length, then removes the nth node by adjusting the pointers. If the first node is removed, it returns the second node; otherwise, it returns the original head."
      ],
      "metadata": {
        "id": "Rpzjw5wLbSL8"
      }
    },
    {
      "cell_type": "code",
      "source": [
        "class Solution:\n",
        "    def removeNthFromEnd(self, head: Optional[ListNode], n: int) -> Optional[ListNode]:\n",
        "\n",
        "        length = 0\n",
        "        floating = head\n",
        "        while floating:\n",
        "            length += 1\n",
        "            floating = floating.next\n",
        "\n",
        "        if length == 1:\n",
        "            return None\n",
        "\n",
        "        stop = length - n\n",
        "        root = floating = head\n",
        "\n",
        "        if stop > 0:\n",
        "            while floating and stop - 1 > 0:\n",
        "                stop -= 1\n",
        "                floating = floating.next\n",
        "\n",
        "            floating.next = floating.next.next\n",
        "\n",
        "        else:\n",
        "            return floating.next\n",
        "\n",
        "        return root"
      ],
      "metadata": {
        "id": "ZqjzKBqhbTLg"
      },
      "execution_count": null,
      "outputs": []
    },
    {
      "cell_type": "markdown",
      "source": [
        "#### Solution (two pointers)\n",
        "This solution uses the **two-pointer technique** with a **dummy node**. The `first` pointer moves `n` steps ahead, then both pointers move together until the `first` reaches the end, allowing the `second` pointer to point to the node before the one to be removed. This approach efficiently handles edge cases in a single traversal."
      ],
      "metadata": {
        "id": "-x16KtM7g1zq"
      }
    },
    {
      "cell_type": "code",
      "source": [
        "class Solution:\n",
        "    def removeNthFromEnd(self, head: Optional[ListNode], n: int) -> Optional[ListNode]:\n",
        "        dummy = ListNode(0, head)  # Create a dummy node to handle edge cases\n",
        "        first = second = dummy\n",
        "\n",
        "        # Move first pointer n steps ahead\n",
        "        for _ in range(n):\n",
        "            first = first.next\n",
        "\n",
        "        # Move both first and second until first reaches the end\n",
        "        while first.next:\n",
        "            first = first.next\n",
        "            second = second.next\n",
        "\n",
        "        # Remove the nth node from the end\n",
        "        second.next = second.next.next\n",
        "\n",
        "        return dummy.next  # Return the new head"
      ],
      "metadata": {
        "id": "372yFB-6g_i2"
      },
      "execution_count": null,
      "outputs": []
    },
    {
      "cell_type": "markdown",
      "source": [
        "### Palindromic Substrings\n",
        "https://leetcode.com/problems/palindromic-substrings/description/"
      ],
      "metadata": {
        "id": "4N6mdHSPeNpO"
      }
    },
    {
      "cell_type": "markdown",
      "source": [
        "#### Solution (Brute Force)"
      ],
      "metadata": {
        "id": "kDpNtEkIeR7q"
      }
    },
    {
      "cell_type": "code",
      "source": [
        "class Solution:\n",
        "    def countSubstrings(self, s: str) -> int:\n",
        "\n",
        "        result = []\n",
        "\n",
        "        for left in range(len(s)):\n",
        "            for right in range(left + 1, len(s) + 1):\n",
        "\n",
        "                subs = s[left:right]\n",
        "                if subs == subs[::-1]:\n",
        "                    result.append(subs)\n",
        "\n",
        "        return len(result)"
      ],
      "metadata": {
        "id": "gyO8HL-qeTFm"
      },
      "execution_count": null,
      "outputs": []
    },
    {
      "cell_type": "markdown",
      "source": [
        "#### Solution (Dynamic Programming)\n",
        "- We consider both single character centers and two-character centers (for even-length palindromes).\n",
        "- For each center, we expand outwards while the characters on both sides are equal.\n",
        "- This ensures that all palindromic substrings are counted with a time complexity of $O(n^2)$"
      ],
      "metadata": {
        "id": "i3kxrPX-kbJj"
      }
    },
    {
      "cell_type": "code",
      "source": [
        "class Solution:\n",
        "    def countSubstrings(self, s: str) -> int:\n",
        "        count = 0\n",
        "\n",
        "        for center in range(2 * len(s) - 1):\n",
        "\n",
        "            left = center // 2\n",
        "            right = left + center % 2\n",
        "\n",
        "            while left >= 0 and right < len(s) and s[left] == s[right]:\n",
        "                count += 1\n",
        "                left -= 1\n",
        "                right += 1\n",
        "        return count"
      ],
      "metadata": {
        "id": "ymZCPmWzkc-W"
      },
      "execution_count": null,
      "outputs": []
    },
    {
      "cell_type": "markdown",
      "source": [],
      "metadata": {
        "id": "_ShW6edTYVQs"
      }
    },
    {
      "cell_type": "markdown",
      "source": [
        "## Week 3 - Non-linear Data Structures"
      ],
      "metadata": {
        "id": "mZNKJaPLMpcN"
      }
    },
    {
      "cell_type": "markdown",
      "source": [
        "### Invert Binary Tree\n",
        "https://leetcode.com/problems/invert-binary-tree/description/"
      ],
      "metadata": {
        "id": "eh1hSt_vZ6yj"
      }
    },
    {
      "cell_type": "markdown",
      "source": [
        "#### Solution"
      ],
      "metadata": {
        "id": "c739nnypgbnk"
      }
    },
    {
      "cell_type": "code",
      "source": [
        "class Solution:\n",
        "    def invertTree(self, root: Optional[TreeNode]) -> Optional[TreeNode]:\n",
        "\n",
        "        head = root\n",
        "\n",
        "        if root:\n",
        "            root.left, root.right = root.right, root.left\n",
        "\n",
        "            self.invertTree(root.left)\n",
        "            self.invertTree(root.right)\n",
        "\n",
        "        return head"
      ],
      "metadata": {
        "id": "8HwA7evWZ9Lp"
      },
      "execution_count": null,
      "outputs": []
    },
    {
      "cell_type": "markdown",
      "source": [
        "### Validate Binary Search Tree\n",
        "https://leetcode.com/problems/validate-binary-search-tree/description/"
      ],
      "metadata": {
        "id": "RxEkH0zXdqT4"
      }
    },
    {
      "cell_type": "markdown",
      "source": [
        "#### Solution\n",
        "This function checks whether a binary tree is a valid binary search tree (BST) using depth-first search (DFS). The `isValidBST` method initiates a helper function `dfs` to recursively traverse the tree. At each node, the `dfs` function ensures that the node's value is within a valid range (initially set to `(-∞, ∞)`), updating the range as it moves down the tree. It checks if the current node's value violates the BST property, returning `False` if so, or continuing to check the left and right subtrees. Key concepts involved include recursion, depth-first search, and binary search tree validation."
      ],
      "metadata": {
        "id": "Iw3UHxhFgdYO"
      }
    },
    {
      "cell_type": "code",
      "source": [
        "class Solution:\n",
        "    def isValidBST(self, root: Optional[TreeNode]) -> bool:\n",
        "\n",
        "        def dfs(node: Optional[TreeNode], low=float('-inf'), high=float('inf')) -> bool:\n",
        "            if node is None:\n",
        "                return True\n",
        "\n",
        "            if node.val <= low or node.val >= high:\n",
        "                return False\n",
        "\n",
        "            left_is_valid = dfs(node.left, low, node.val)\n",
        "            right_is_valid = dfs(node.right, node.val, high)\n",
        "\n",
        "            return left_is_valid and right_is_valid\n",
        "\n",
        "        return dfs(root)"
      ],
      "metadata": {
        "id": "rHXMNyEucQsl"
      },
      "execution_count": null,
      "outputs": []
    },
    {
      "cell_type": "markdown",
      "source": [
        "### Non-overlapping Intervals\n",
        "https://leetcode.com/problems/non-overlapping-intervals/"
      ],
      "metadata": {
        "id": "1ngJbCu0jK5G"
      }
    },
    {
      "cell_type": "markdown",
      "source": [
        "#### Solution\n",
        "- Sort by end time: Sorting the intervals by their end time ensures that we always pick the interval that leaves the most space for future ones.\n",
        "\n",
        "- Iterate through intervals: For each interval, check if it overlaps with the previous one by comparing its start with the last non-overlapping interval's end.\n",
        "\n",
        "- Count overlaps: If there's an overlap, increment the count. If not, update the end of the last non-overlapping interval."
      ],
      "metadata": {
        "id": "IhZvLjparYGn"
      }
    },
    {
      "cell_type": "code",
      "source": [
        "class Solution:\n",
        "    def eraseOverlapIntervals(self, intervals: List[List[int]]) -> int:\n",
        "\n",
        "        intervals.sort(key=lambda x: x[1])\n",
        "\n",
        "        count = 0\n",
        "        prev_end = float('-inf')\n",
        "\n",
        "        for curr in intervals:\n",
        "            if curr[0] < prev_end:\n",
        "                count += 1\n",
        "            else:\n",
        "                prev_end = curr[1]\n",
        "\n",
        "        return count"
      ],
      "metadata": {
        "id": "6inDPwT-kZQN"
      },
      "execution_count": null,
      "outputs": []
    },
    {
      "cell_type": "markdown",
      "source": [
        "### Construct Binary Tree from Preorder and Inorder Traversal\n",
        "https://leetcode.com/problems/construct-binary-tree-from-preorder-and-inorder-traversal/description/"
      ],
      "metadata": {
        "id": "Mb7muUGAueHP"
      }
    },
    {
      "cell_type": "markdown",
      "source": [
        "#### Solution\n",
        "\n",
        "- Preorder tells you the root node first. Use it to pick the root.\n",
        "- Inorder tells you the left and right subtrees relative to the root.\n",
        "- The recursion splits the inorder list into two parts and constructs the tree by popping elements from preorder."
      ],
      "metadata": {
        "id": "Pk-dXILd9PN-"
      }
    },
    {
      "cell_type": "code",
      "source": [
        "class Solution:\n",
        "    def buildTree(self, preorder: List[int], inorder: List[int]) -> Optional[TreeNode]:\n",
        "        if not preorder or not inorder:\n",
        "            return None\n",
        "\n",
        "        # Helper function to recursively build the tree\n",
        "        def dfs(inorder: List[int]) -> Optional[TreeNode]:\n",
        "            if not inorder:  # Base case: if there's no node to process\n",
        "                return None\n",
        "\n",
        "            # Pop the first element from preorder, this is the root of the subtree\n",
        "            root_val = preorder.pop(0)\n",
        "            root = TreeNode(root_val)\n",
        "\n",
        "            # Find the index of the root in the inorder list to split left/right\n",
        "            idx = inorder.index(root_val)\n",
        "\n",
        "            # Recursively build the left and right subtrees\n",
        "            root.left = dfs(inorder[:idx])   # Left subtree is everything left of root in inorder\n",
        "            root.right = dfs(inorder[idx + 1:])  # Right subtree is everything right of root\n",
        "\n",
        "            return root\n",
        "\n",
        "        return dfs(inorder)"
      ],
      "metadata": {
        "id": "-F0fQkI1upFe"
      },
      "execution_count": null,
      "outputs": []
    },
    {
      "cell_type": "markdown",
      "source": [
        "### Top K Frequent Elements\n",
        "https://leetcode.com/problems/top-k-frequent-elements/description/"
      ],
      "metadata": {
        "id": "PvQjUUhmEUeY"
      }
    },
    {
      "cell_type": "markdown",
      "source": [
        "#### Solution (using built-in sort)"
      ],
      "metadata": {
        "id": "b5j4l1OREYJe"
      }
    },
    {
      "cell_type": "code",
      "source": [
        "class Solution:\n",
        "    def topKFrequent(self, nums: List[int], k: int) -> List[int]:\n",
        "\n",
        "        count = defaultdict(int)\n",
        "        for num in nums:\n",
        "            count[num] += 1\n",
        "\n",
        "        result = []\n",
        "        for item in dict(sorted(count.items(), key=lambda item: item[1], reverse=True)).items():\n",
        "\n",
        "            if k == 0:\n",
        "                break\n",
        "\n",
        "            result.append(item[0])\n",
        "            k -= 1\n",
        "\n",
        "        return result"
      ],
      "metadata": {
        "id": "dI0qnLyOEZg_"
      },
      "execution_count": null,
      "outputs": []
    },
    {
      "cell_type": "markdown",
      "source": [
        "#### Solution (Bucket Sort)\n",
        "\n",
        "In the bucket list, the frequency of each element becomes the index or position in the list."
      ],
      "metadata": {
        "id": "olZGy1W1JVM1"
      }
    },
    {
      "cell_type": "code",
      "source": [
        "from collections import defaultdict\n",
        "\n",
        "class Solution:\n",
        "    def topKFrequent(self, nums: List[int], k: int) -> List[int]:\n",
        "        # Step 1: Count the frequency of each number\n",
        "        count = defaultdict(int)\n",
        "        for num in nums:\n",
        "            count[num] += 1\n",
        "\n",
        "        # Step 2: Create buckets where index represents frequency\n",
        "        max_freq = len(nums)\n",
        "        buckets = [[] for _ in range(max_freq + 1)]\n",
        "\n",
        "        for num, freq in count.items():\n",
        "            buckets[freq].append(num)\n",
        "\n",
        "        # Step 3: Collect the top k frequent elements by iterating over the buckets\n",
        "        result = []\n",
        "        for freq in range(max_freq, 0, -1):  # Start from the most frequent\n",
        "\n",
        "            if buckets[freq]:\n",
        "                result.extend(buckets[freq])  # Add elements from the current bucket\n",
        "\n",
        "            if len(result) >= k:  # Once we've added k elements, stop\n",
        "                return result[:k]\n",
        "\n",
        "        return result"
      ],
      "metadata": {
        "id": "1gyaGgRlJYpA"
      },
      "execution_count": null,
      "outputs": []
    },
    {
      "cell_type": "markdown",
      "source": [
        "### Clone Graph\n",
        "https://leetcode.com/problems/clone-graph/description/"
      ],
      "metadata": {
        "id": "IED4tPSdQ_5x"
      }
    },
    {
      "cell_type": "markdown",
      "source": [
        "#### Solution"
      ],
      "metadata": {
        "id": "fpzMauywRB4Y"
      }
    },
    {
      "cell_type": "code",
      "source": [
        "class Solution:\n",
        "    def cloneGraph(self, node: Optional['Node']) -> Optional['Node']:\n",
        "\n",
        "        cloned_nodes = {}\n",
        "\n",
        "        if node is None:\n",
        "            return node\n",
        "\n",
        "        def dfs(node_: 'Node') -> 'Node':\n",
        "\n",
        "            if node_ in cloned_nodes:\n",
        "                return cloned_nodes[node_]\n",
        "\n",
        "            clone = Node(node_.val)\n",
        "            cloned_nodes[node_] = clone\n",
        "\n",
        "            for neighbor in node_.neighbors:\n",
        "                clone.neighbors.append(dfs(neighbor))\n",
        "\n",
        "            return clone\n",
        "\n",
        "        return dfs(node)"
      ],
      "metadata": {
        "id": "gFvjxbieRCwb"
      },
      "execution_count": null,
      "outputs": []
    },
    {
      "cell_type": "markdown",
      "source": [
        "### Course Schedule\n",
        "https://leetcode.com/problems/course-schedule/"
      ],
      "metadata": {
        "id": "YdrNTNIsQc9N"
      }
    },
    {
      "cell_type": "markdown",
      "source": [
        "#### Solution\n",
        "This solution uses depth-first search (DFS) to detect cycles in a directed graph representing course prerequisites. The `traced` set tracks the current path to detect cycles, while the `visited` set prevents redundant reprocessing of nodes that have already been confirmed as cycle-free. If any cycle is detected during traversal, the function returns `False`; otherwise, it returns `True`, indicating all courses can be completed.\n",
        "\n",
        "We remove `i` from the `traced` set after completing the DFS for node `i` to indicate that the current exploration path for that node is finished. The `traced` set tracks the nodes that are currently being visited along a particular path, and removing `i` ensures it is no longer considered part of the active path once the DFS has backtracked. This is essential for correctly detecting cycles, as nodes should only remain in `traced` while they are part of the ongoing DFS path."
      ],
      "metadata": {
        "id": "muFAeY9SQhK_"
      }
    },
    {
      "cell_type": "code",
      "source": [
        "class Solution:\n",
        "    def canFinish(self, numCourses: int, prerequisites: List[List[int]]) -> bool:\n",
        "\n",
        "        graph = collections.defaultdict(list)\n",
        "\n",
        "        for x, y in prerequisites:\n",
        "            graph[x].append(y)\n",
        "\n",
        "        traced = set()\n",
        "        visited = set()\n",
        "\n",
        "        def dfs(i):\n",
        "            if i in traced:\n",
        "                return False\n",
        "\n",
        "            if i in visited:\n",
        "                return True\n",
        "\n",
        "            traced.add(i)\n",
        "            for y in graph[i]:\n",
        "                if not dfs(y):\n",
        "                    return False\n",
        "\n",
        "            traced.remove(i)\n",
        "            visited.add(i)\n",
        "\n",
        "            return True\n",
        "\n",
        "        for x in list(graph):\n",
        "            if not dfs(x):\n",
        "                return False\n",
        "\n",
        "        return True"
      ],
      "metadata": {
        "id": "jW0RWEXzQiEX"
      },
      "execution_count": null,
      "outputs": []
    },
    {
      "cell_type": "markdown",
      "source": [
        "### Maximum Depth of Binary Tree\n",
        "https://leetcode.com/problems/maximum-depth-of-binary-tree/description/"
      ],
      "metadata": {
        "id": "hYDMnRfaelCY"
      }
    },
    {
      "cell_type": "markdown",
      "source": [
        "#### Solution"
      ],
      "metadata": {
        "id": "SjAv76Vdf9xv"
      }
    },
    {
      "cell_type": "code",
      "source": [
        "class Solution:\n",
        "    def maxDepth(self, root: Optional[TreeNode]) -> int:\n",
        "\n",
        "        max_depth = -sys.maxsize\n",
        "\n",
        "        def dfs(node: Optional[TreeNode]) -> int:\n",
        "\n",
        "            if node is None:\n",
        "                return 0\n",
        "\n",
        "            max_depth = max(dfs(node.left), dfs(node.right))\n",
        "\n",
        "            return max_depth + 1\n",
        "\n",
        "        return dfs(root)"
      ],
      "metadata": {
        "id": "5mQ8Godcf-uG"
      },
      "execution_count": null,
      "outputs": []
    },
    {
      "cell_type": "markdown",
      "source": [
        "## Week 4 - More Data Structures"
      ],
      "metadata": {
        "id": "sRODGfJcMuIX"
      }
    },
    {
      "cell_type": "markdown",
      "source": [
        "### Subtree of Another Tree\n",
        "https://leetcode.com/problems/subtree-of-another-tree/description/"
      ],
      "metadata": {
        "id": "UV6ksV2HqaLS"
      }
    },
    {
      "cell_type": "markdown",
      "source": [
        "#### Solution"
      ],
      "metadata": {
        "id": "C8Bh5nAsqhPm"
      }
    },
    {
      "cell_type": "code",
      "source": [
        "class Solution:\n",
        "    def isSubtree(self, root: Optional[TreeNode], subRoot: Optional[TreeNode]) -> bool:\n",
        "\n",
        "        def isIdentical(node1: Optional[TreeNode], node2: Optional[TreeNode]) -> bool:\n",
        "\n",
        "            if node1 is None and node2 is None:\n",
        "                return True\n",
        "\n",
        "            if node1 is None or node2 is None:\n",
        "                return False\n",
        "\n",
        "            return node1.val == node2.val and isIdentical(node1.left, node2.left) and isIdentical(node1.right, node2.right)\n",
        "\n",
        "        def dfs(node: Optional[TreeNode]) -> bool:\n",
        "\n",
        "            if node is None:\n",
        "                return False\n",
        "\n",
        "            if isIdentical(node, subRoot):\n",
        "                return True\n",
        "\n",
        "            return dfs(node.left) or dfs(node.right)\n",
        "\n",
        "        return dfs(root)"
      ],
      "metadata": {
        "id": "V7Eg_cD4qig8"
      },
      "execution_count": null,
      "outputs": []
    },
    {
      "cell_type": "markdown",
      "source": [
        "### Lowest Common Ancestor of a Binary Search Tree\n",
        "https://leetcode.com/problems/lowest-common-ancestor-of-a-binary-search-tree/description/"
      ],
      "metadata": {
        "id": "0jSxYMOjjF9b"
      }
    },
    {
      "cell_type": "markdown",
      "source": [
        "#### Solution"
      ],
      "metadata": {
        "id": "6nNC5bbIppGn"
      }
    },
    {
      "cell_type": "code",
      "source": [
        "class Solution:\n",
        "    def lowestCommonAncestor(self, root: 'TreeNode', p: 'TreeNode', q: 'TreeNode') -> 'TreeNode':\n",
        "\n",
        "        # sort\n",
        "        if p.val > q.val:\n",
        "            p, q = q, p\n",
        "\n",
        "        def dfs(node):\n",
        "\n",
        "            if node.val >= p.val and node.val <= q.val:\n",
        "                return node\n",
        "\n",
        "            if node.val > q.val:\n",
        "                node = dfs(node.left)\n",
        "\n",
        "            if node.val < p.val:\n",
        "                node = dfs(node.right)\n",
        "\n",
        "            return node\n",
        "\n",
        "        return dfs(root)"
      ],
      "metadata": {
        "id": "wv5eR91WjOvg"
      },
      "execution_count": null,
      "outputs": []
    },
    {
      "cell_type": "markdown",
      "source": [
        "### Kth Smallest Element in a BST\n",
        "https://leetcode.com/problems/kth-smallest-element-in-a-bst/submissions/"
      ],
      "metadata": {
        "id": "WrILGewhpoJA"
      }
    },
    {
      "cell_type": "markdown",
      "source": [
        "#### Solution (Covnert to deque)"
      ],
      "metadata": {
        "id": "14oOnpW3pt3-"
      }
    },
    {
      "cell_type": "code",
      "source": [
        "class Solution:\n",
        "    def kthSmallest(self, root: Optional[TreeNode], k: int) -> int:\n",
        "\n",
        "        deque = [root.val]\n",
        "        head = root\n",
        "\n",
        "        def dfs(node):\n",
        "\n",
        "            if node is None:\n",
        "                return\n",
        "\n",
        "            if node.left:\n",
        "                deque.insert(deque.index(node.val), node.left.val)\n",
        "            if node.right:\n",
        "                deque.insert(deque.index(node.val) + 1, node.right.val)\n",
        "\n",
        "            dfs(node.left)\n",
        "            dfs(node.right)\n",
        "\n",
        "        dfs(root)\n",
        "\n",
        "        return deque[k - 1]"
      ],
      "metadata": {
        "id": "fI-smx9bl-5B"
      },
      "execution_count": null,
      "outputs": []
    },
    {
      "cell_type": "markdown",
      "source": [
        "#### Solution (In-order traversal)"
      ],
      "metadata": {
        "id": "aLehpE4SqX5v"
      }
    },
    {
      "cell_type": "code",
      "source": [
        "class Solution:\n",
        "    def kthSmallest(self, root: Optional[TreeNode], k: int) -> int:\n",
        "\n",
        "        self.k = k\n",
        "        self.result = None\n",
        "\n",
        "        def inorder(node):\n",
        "            if not node or self.result is not None:\n",
        "                return\n",
        "\n",
        "            inorder(node.left)\n",
        "\n",
        "            self.k -= 1\n",
        "            if self.k == 0:\n",
        "                self.result = node.val\n",
        "                return\n",
        "\n",
        "            inorder(node.right)\n",
        "\n",
        "        inorder(root)\n",
        "\n",
        "        return self.result"
      ],
      "metadata": {
        "id": "H-mEXknVqa0Z"
      },
      "execution_count": null,
      "outputs": []
    },
    {
      "cell_type": "markdown",
      "source": [
        "### Merge k Sorted Lists"
      ],
      "metadata": {
        "id": "gx1wvSQHPtP0"
      }
    },
    {
      "cell_type": "markdown",
      "source": [
        "#### Solution"
      ],
      "metadata": {
        "id": "UDdnDvoxP12x"
      }
    },
    {
      "cell_type": "code",
      "source": [
        "class Solution:\n",
        "    def mergeKLists(self, lists: List[Optional[ListNode]]) -> Optional[ListNode]:\n",
        "\n",
        "        if lists is None:\n",
        "            return None\n",
        "\n",
        "        stack = []\n",
        "        for node in lists:\n",
        "\n",
        "            while node:\n",
        "                stack.append(node.val)\n",
        "                node = node.next\n",
        "        stack.sort()\n",
        "\n",
        "        def dfs(node):\n",
        "\n",
        "            if stack is None:\n",
        "                return None\n",
        "\n",
        "            node.val = stack.pop(0)\n",
        "            if stack:\n",
        "                node.next = dfs(ListNode())\n",
        "\n",
        "            return node\n",
        "\n",
        "        return dfs(ListNode())"
      ],
      "metadata": {
        "id": "unsMd2l_Kjen"
      },
      "execution_count": null,
      "outputs": []
    },
    {
      "cell_type": "markdown",
      "source": [
        "#### Solution (heap)"
      ],
      "metadata": {
        "id": "6rc3VMmMRWSN"
      }
    },
    {
      "cell_type": "code",
      "source": [
        "from heapq import heappush, heappop\n",
        "\n",
        "class Solution:\n",
        "    def mergeKLists(self, lists: list[Optional[ListNode]]) -> Optional[ListNode]:\n",
        "        min_heap = []\n",
        "\n",
        "        for i, node in enumerate(lists):\n",
        "            if node:\n",
        "                # Push tuple (node value, index, node) to the heap to avoid comparison issues\n",
        "                heappush(min_heap, (node.val, i, node))\n",
        "\n",
        "        dummy = ListNode()\n",
        "        current = dummy\n",
        "\n",
        "        while min_heap:\n",
        "            # Pop the smallest item (node.val, index, node) from the heap\n",
        "            val, i, node = heappop(min_heap)\n",
        "\n",
        "            # Add the smallest node to the result linked list\n",
        "            current.next = node\n",
        "            current = current.next\n",
        "\n",
        "            # If there's more nodes in the current list, push the next one to the heap\n",
        "            if node.next:\n",
        "                heappush(min_heap, (node.next.val, i, node.next))\n",
        "\n",
        "        return dummy.next"
      ],
      "metadata": {
        "id": "cr-Bev_tRXiy"
      },
      "execution_count": null,
      "outputs": []
    },
    {
      "cell_type": "markdown",
      "source": [
        "## Week 5 - Dynamic Programming"
      ],
      "metadata": {
        "id": "t2-ceVM0Mv-X"
      }
    },
    {
      "cell_type": "markdown",
      "source": [
        "### Construct Fibonacci Array"
      ],
      "metadata": {
        "id": "RrSXG4PI3Zin"
      }
    },
    {
      "cell_type": "markdown",
      "source": [
        "#### Solution"
      ],
      "metadata": {
        "id": "SRP25vUcOW9n"
      }
    },
    {
      "cell_type": "code",
      "source": [
        "def fibonacci(n: int) -> List[int]:\n",
        "    if n <= 1:\n",
        "        return n\n",
        "\n",
        "    # Initialize dp array\n",
        "    dp = [0] * (n + 1)\n",
        "    dp[0] = 0\n",
        "    dp[1] = 1\n",
        "\n",
        "    # Fill dp array using the recurrence relation\n",
        "    for i in range(2, n + 1):\n",
        "        dp[i] = dp[i - 1] + dp[i - 2]\n",
        "\n",
        "    return dp"
      ],
      "metadata": {
        "id": "pPRF98Vr3czT"
      },
      "execution_count": null,
      "outputs": []
    },
    {
      "cell_type": "markdown",
      "source": [
        "### Climbing Stairs\n",
        "https://leetcode.com/problems/climbing-stairs/description/"
      ],
      "metadata": {
        "id": "hrjEbf51fKFd"
      }
    },
    {
      "cell_type": "markdown",
      "source": [
        "#### Solution"
      ],
      "metadata": {
        "id": "OMPWzB3bfLaO"
      }
    },
    {
      "cell_type": "code",
      "source": [
        "class Solution:\n",
        "\n",
        "    dp = {}\n",
        "\n",
        "    def climbStairs(self, n: int) -> int:\n",
        "\n",
        "        if n <= 2:\n",
        "            return n\n",
        "\n",
        "        if n in self.dp:\n",
        "            return self.dp[n]\n",
        "\n",
        "        self.dp[n] = self.climbStairs(n - 1) + self.climbStairs(n - 2)\n",
        "\n",
        "        return self.dp[n]"
      ],
      "metadata": {
        "id": "M5XqyaAeXz0S"
      },
      "execution_count": null,
      "outputs": []
    },
    {
      "cell_type": "markdown",
      "source": [
        "### Coin Change\n",
        "https://leetcode.com/problems/coin-change/"
      ],
      "metadata": {
        "id": "k2CgXLR-fNqw"
      }
    },
    {
      "cell_type": "markdown",
      "source": [
        "#### Solution (Dynamic Programming)\n",
        "\n",
        "* Use a DP array to store the minimum number of coins needed for each amount from `0` to `amount`.\n",
        "* For each coin, update the DP array based on the previous values.\n",
        "* The value at `dp[amount]` will give the minimum number of coins needed, or `-1` if it's not possible to make that amount."
      ],
      "metadata": {
        "id": "fdQBESAWfQpO"
      }
    },
    {
      "cell_type": "code",
      "source": [
        "class Solution:\n",
        "    def coinChange(self, coins: List[int], amount: int) -> int:\n",
        "\n",
        "        dp = [float('inf')] * (amount + 1)\n",
        "        dp[0] = 0  # No coins are needed to make amount 0\n",
        "\n",
        "        for coin in coins:\n",
        "            for x in range(coin, amount + 1):\n",
        "\n",
        "                dp[x] = min(dp[x], dp[x - coin] + 1)\n",
        "                # print(dp)\n",
        "\n",
        "        # If dp[amount] is still infinity, it means we cannot form the amount)\n",
        "        return dp[amount] if dp[amount] != float('inf') else -1\n",
        "\n",
        "# sol = Solution()\n",
        "# sol.coinChange([1, 2, 5], 11)"
      ],
      "metadata": {
        "id": "C6_AHVmifRdI",
        "colab": {
          "base_uri": "https://localhost:8080/"
        },
        "collapsed": true,
        "outputId": "d47974d7-7c43-4e94-c62e-a00fd5469e31"
      },
      "execution_count": null,
      "outputs": [
        {
          "output_type": "stream",
          "name": "stdout",
          "text": [
            "[0, 1, inf, inf, inf, inf, inf, inf, inf, inf, inf, inf]\n",
            "[0, 1, 2, inf, inf, inf, inf, inf, inf, inf, inf, inf]\n",
            "[0, 1, 2, 3, inf, inf, inf, inf, inf, inf, inf, inf]\n",
            "[0, 1, 2, 3, 4, inf, inf, inf, inf, inf, inf, inf]\n",
            "[0, 1, 2, 3, 4, 5, inf, inf, inf, inf, inf, inf]\n",
            "[0, 1, 2, 3, 4, 5, 6, inf, inf, inf, inf, inf]\n",
            "[0, 1, 2, 3, 4, 5, 6, 7, inf, inf, inf, inf]\n",
            "[0, 1, 2, 3, 4, 5, 6, 7, 8, inf, inf, inf]\n",
            "[0, 1, 2, 3, 4, 5, 6, 7, 8, 9, inf, inf]\n",
            "[0, 1, 2, 3, 4, 5, 6, 7, 8, 9, 10, inf]\n",
            "[0, 1, 2, 3, 4, 5, 6, 7, 8, 9, 10, 11]\n",
            "[0, 1, 1, 3, 4, 5, 6, 7, 8, 9, 10, 11]\n",
            "[0, 1, 1, 2, 4, 5, 6, 7, 8, 9, 10, 11]\n",
            "[0, 1, 1, 2, 2, 5, 6, 7, 8, 9, 10, 11]\n",
            "[0, 1, 1, 2, 2, 3, 6, 7, 8, 9, 10, 11]\n",
            "[0, 1, 1, 2, 2, 3, 3, 7, 8, 9, 10, 11]\n",
            "[0, 1, 1, 2, 2, 3, 3, 4, 8, 9, 10, 11]\n",
            "[0, 1, 1, 2, 2, 3, 3, 4, 4, 9, 10, 11]\n",
            "[0, 1, 1, 2, 2, 3, 3, 4, 4, 5, 10, 11]\n",
            "[0, 1, 1, 2, 2, 3, 3, 4, 4, 5, 5, 11]\n",
            "[0, 1, 1, 2, 2, 3, 3, 4, 4, 5, 5, 6]\n",
            "[0, 1, 1, 2, 2, 1, 3, 4, 4, 5, 5, 6]\n",
            "[0, 1, 1, 2, 2, 1, 2, 4, 4, 5, 5, 6]\n",
            "[0, 1, 1, 2, 2, 1, 2, 2, 4, 5, 5, 6]\n",
            "[0, 1, 1, 2, 2, 1, 2, 2, 3, 5, 5, 6]\n",
            "[0, 1, 1, 2, 2, 1, 2, 2, 3, 3, 5, 6]\n",
            "[0, 1, 1, 2, 2, 1, 2, 2, 3, 3, 2, 6]\n",
            "[0, 1, 1, 2, 2, 1, 2, 2, 3, 3, 2, 3]\n"
          ]
        },
        {
          "output_type": "execute_result",
          "data": {
            "text/plain": [
              "3"
            ]
          },
          "metadata": {},
          "execution_count": 25
        }
      ]
    },
    {
      "cell_type": "markdown",
      "source": [
        "### Longest Increasing Subsequence\n",
        "https://leetcode.com/problems/longest-increasing-subsequence/description/"
      ],
      "metadata": {
        "id": "oSsvGq0ez03w"
      }
    },
    {
      "cell_type": "markdown",
      "source": [
        "#### Solution (Dynamic Programming)"
      ],
      "metadata": {
        "id": "2oGj_R7L07xT"
      }
    },
    {
      "cell_type": "code",
      "source": [
        "class Solution:\n",
        "    def lengthOfLIS(self, nums: List[int]) -> int:\n",
        "        if not nums:\n",
        "            return 0\n",
        "\n",
        "        # Initialize the dp array where dp[i] represents the LIS ending at index i\n",
        "        dp = [1] * len(nums)\n",
        "\n",
        "        # Build the dp array by comparing each pair of elements\n",
        "        for i in range(1, len(nums)):\n",
        "            for j in range(i):\n",
        "                if nums[i] > nums[j]:  # Only consider increasing subsequences\n",
        "                    dp[i] = max(dp[i], dp[j] + 1)\n",
        "\n",
        "        # The length of the LIS is the maximum value in dp\n",
        "        return max(dp)"
      ],
      "metadata": {
        "id": "8DxVlkrXwt-D"
      },
      "execution_count": null,
      "outputs": []
    },
    {
      "cell_type": "markdown",
      "source": [
        "### Combination Sum 4\n",
        "https://leetcode.com/problems/combination-sum-iv/"
      ],
      "metadata": {
        "id": "lL3iuwVhDmp1"
      }
    },
    {
      "cell_type": "markdown",
      "source": [
        "#### Solution"
      ],
      "metadata": {
        "id": "pznXVKOFJTKZ"
      }
    },
    {
      "cell_type": "code",
      "source": [
        "class Solution:\n",
        "    def combinationSum4(self, nums: List[int], target: int) -> int:\n",
        "\n",
        "        dp = [0] * (target + 1)\n",
        "        dp[0] = 1\n",
        "\n",
        "        for i in range(1, target + 1):\n",
        "            for num in nums:\n",
        "                if i >= num:\n",
        "                    dp[i] += dp[i - num]\n",
        "\n",
        "        return dp[target]"
      ],
      "metadata": {
        "id": "de95iNpjJUah"
      },
      "execution_count": null,
      "outputs": []
    },
    {
      "cell_type": "markdown",
      "source": [
        "# Top Amazon Questions\n",
        "https://leetcode.com/problem-list/7p5x763/"
      ],
      "metadata": {
        "id": "42mlMUAXcXmg"
      }
    },
    {
      "cell_type": "markdown",
      "source": [
        "### Make Array Zero by Subtracting Equal Amounts\n",
        "https://leetcode.com/problems/make-array-zero-by-subtracting-equal-amounts/description/?envType=problem-list-v2&envId=7p5x763"
      ],
      "metadata": {
        "id": "IzryIDRL3yWf"
      }
    },
    {
      "cell_type": "markdown",
      "source": [
        "#### Solution (Two Passes)"
      ],
      "metadata": {
        "id": "_vkOuPPP33-y"
      }
    },
    {
      "cell_type": "code",
      "source": [
        "class Solution:\n",
        "    def minimumOperations(self, nums: List[int]) -> int:\n",
        "\n",
        "        count = 0\n",
        "\n",
        "        while max(nums) > 0:\n",
        "\n",
        "            minSubs = float('inf')\n",
        "\n",
        "            for num in nums:\n",
        "                if num > 0:\n",
        "                    minSubs = min(minSubs, num)\n",
        "\n",
        "            for idx, num in enumerate(nums):\n",
        "                if num > 0:\n",
        "                    nums[idx] -= minSubs\n",
        "\n",
        "            count += 1\n",
        "\n",
        "        return count"
      ],
      "metadata": {
        "id": "IdkGiYySSNOV"
      },
      "execution_count": null,
      "outputs": []
    },
    {
      "cell_type": "markdown",
      "source": [
        "#### Solution (Set Reduction)\n",
        "\n",
        "The key insight is that we only need to count the number of unique non-zero values in the list. Each unique value corresponds to a subtraction operation that would reduce at least one element to zero."
      ],
      "metadata": {
        "id": "Q5Gh4R18Tyvl"
      }
    },
    {
      "cell_type": "code",
      "source": [
        "class Solution:\n",
        "    def minimumOperations(self, nums: List[int]) -> int:\n",
        "\n",
        "        return len(set(nums) - {0})"
      ],
      "metadata": {
        "id": "xLr2_M4OT2YJ"
      },
      "execution_count": null,
      "outputs": []
    },
    {
      "cell_type": "markdown",
      "source": [
        "### Copy List with Random Pointer\n",
        "https://leetcode.com/problems/copy-list-with-random-pointer/description/"
      ],
      "metadata": {
        "id": "cQzlI22wYpst"
      }
    },
    {
      "cell_type": "markdown",
      "source": [
        "#### Solution (DFS, Hash Table)\n",
        "\n",
        "Role of the Hash Table\n",
        "- <u>**Avoid duplicating nodes**</u>: The original list may have multiple references to the same node through random pointers. Without the hash table, the code would clone the same node multiple times whenever it's encountered again, leading to incorrect relationships in the cloned list.\n",
        "\n",
        "- <u>**Maintain correct references**</u>: The hash table keeps track of the original nodes and their corresponding cloned nodes. This allows you to set next and random pointers of cloned nodes correctly, pointing to already cloned nodes instead of creating new ones."
      ],
      "metadata": {
        "id": "rK-KHJWnYwOW"
      }
    },
    {
      "cell_type": "code",
      "source": [
        "class RandomNode:\n",
        "    def __init__(self, x: int, next: 'Node' = None, random: 'Node' = None):\n",
        "        self.val = int(x)\n",
        "        self.next = next\n",
        "        self.random = random\n",
        "\n",
        "class Solution:\n",
        "    def copyRandomList(self, head: Optional[RandomNode]) -> Optional[RandomNode]:\n",
        "\n",
        "        cloned_nodes = {}\n",
        "\n",
        "        if head is None:\n",
        "            return None\n",
        "\n",
        "        def dfs(node_: Optional[RandomNode]):\n",
        "\n",
        "            if node_ in cloned_nodes:\n",
        "                return cloned_nodes[node_]\n",
        "\n",
        "            clone = RandomNode(node_.val)\n",
        "            cloned_nodes[node_] = clone\n",
        "\n",
        "            if node_.random:\n",
        "                clone.random = dfs(node_.random)\n",
        "\n",
        "            if node_.next:\n",
        "                clone.next = dfs(node_.next)\n",
        "\n",
        "            return clone\n",
        "\n",
        "        return dfs(head)"
      ],
      "metadata": {
        "id": "CtoWBKJ8ZJId"
      },
      "execution_count": null,
      "outputs": []
    },
    {
      "cell_type": "markdown",
      "source": [
        "### Reorganize String\n",
        "https://leetcode.com/problems/reorganize-string/description/?envType=problem-list-v2&envId=7p5x763"
      ],
      "metadata": {
        "id": "-rmCo3WpbXsS"
      }
    },
    {
      "cell_type": "markdown",
      "source": [
        "#### Solution\n",
        "\n",
        "1. Count the frequency of each character.\n",
        "2. Sort the characters by their frequency.\n",
        "3. Rebuild the string, placing the most frequent characters in alternate positions to avoid adjacent duplicates.\n",
        "4. Check if reorganization is possible (if any character's frequency exceeds half the string length, reorganization is not possible)."
      ],
      "metadata": {
        "id": "VRUMl2sNba9M"
      }
    },
    {
      "cell_type": "code",
      "source": [
        "from collections import defaultdict\n",
        "from heapq import heappop, heappush\n",
        "\n",
        "class Solution:\n",
        "    def reorganizeString(self, s: str) -> str:\n",
        "\n",
        "        count = defaultdict(int)\n",
        "        for char in s:\n",
        "            count[char] += 1\n",
        "\n",
        "        max_freq = (len(s) + 1) // 2\n",
        "        if any(freq > max_freq for freq in count.values()):\n",
        "            return \"\"\n",
        "\n",
        "        max_heap = []\n",
        "        for char, freq in count.items():\n",
        "            heappush(max_heap, (-freq, char))  # Push negative frequency for max-heap behavior\n",
        "\n",
        "        result = []\n",
        "        prev_freq, prev_char = 0, \"\"\n",
        "        while max_heap:\n",
        "            freq, char = heappop(max_heap)\n",
        "\n",
        "            result.append(char)\n",
        "\n",
        "            # Re-add the previous character back to the heap if it still has remaining occurrences\n",
        "            if prev_freq < 0:\n",
        "                heappush(max_heap, (prev_freq, prev_char))\n",
        "\n",
        "            prev_freq, prev_char = freq + 1, char\n",
        "\n",
        "        return \"\".join(result)\n",
        "\n",
        "# sol = Solution()\n",
        "# sol.reorganizeString(s = \"xtyyejqtajkcjakg\")"
      ],
      "metadata": {
        "id": "KEw1wYhYbchz"
      },
      "execution_count": null,
      "outputs": []
    },
    {
      "cell_type": "markdown",
      "source": [
        "### Task Scheduler\n",
        "https://leetcode.com/problems/task-scheduler/description/"
      ],
      "metadata": {
        "id": "nP8xVITJo0y_"
      }
    },
    {
      "cell_type": "markdown",
      "source": [
        "#### Solution"
      ],
      "metadata": {
        "id": "8DOIv51Ro6Rd"
      }
    },
    {
      "cell_type": "code",
      "source": [
        "import heapq\n",
        "from collections import defaultdict\n",
        "\n",
        "class Solution:\n",
        "    def leastInterval(self, tasks: List[str], n: int) -> int:\n",
        "\n",
        "        freq = defaultdict(int)\n",
        "        for task in tasks:\n",
        "            freq[task] += 1\n",
        "\n",
        "        max_heap = []\n",
        "        for count in freq.values():\n",
        "            heapq.heappush(max_heap, -count)\n",
        "\n",
        "        result = 0\n",
        "\n",
        "        while max_heap:\n",
        "            sub_count = 0\n",
        "            temp = []\n",
        "\n",
        "            for _ in range(n + 1):\n",
        "                if max_heap:\n",
        "                    count = heapq.heappop(max_heap)\n",
        "                    sub_count += 1\n",
        "                    result += 1\n",
        "\n",
        "                    if count + 1 < 0:\n",
        "                        temp.append(count + 1)\n",
        "\n",
        "            for item in temp:\n",
        "                heapq.heappush(max_heap, item)\n",
        "\n",
        "            if max_heap:\n",
        "                result += (n + 1) - sub_count\n",
        "\n",
        "        return result\n",
        "\n",
        "# sol = Solution()\n",
        "# sol.leastInterval(tasks = [\"A\",\"A\",\"A\",\"B\",\"B\",\"B\"], n = 2)"
      ],
      "metadata": {
        "id": "xCnztRNJo7SD"
      },
      "execution_count": null,
      "outputs": []
    },
    {
      "cell_type": "markdown",
      "source": [
        "### Word Break II\n",
        "https://leetcode.com/problems/word-break-ii/description/?envType=problem-list-v2&envId=7p5x763"
      ],
      "metadata": {
        "id": "WFIs5q9i9KN4"
      }
    },
    {
      "cell_type": "markdown",
      "source": [
        "#### Solution\n",
        "\n",
        "In the solution, backtracking is used to incrementally construct valid sentences from the string `s` by checking each substring. It explores every possible combination of words, recursively searching for continuations from valid segments. If a path leads to an invalid segmentation, the algorithm backtracks to try other potential substrings, ensuring all valid sentences are generated efficiently."
      ],
      "metadata": {
        "id": "SJcNGSeN9NWA"
      }
    },
    {
      "cell_type": "code",
      "source": [
        "class Solution:\n",
        "    def wordBreak(self, s: str, wordDict: List[str]) -> List[str]:\n",
        "\n",
        "        wordSet = set(wordDict)\n",
        "        memo = {}\n",
        "\n",
        "        def backtrack(start: int):\n",
        "            if start in memo:\n",
        "                return memo[start]\n",
        "\n",
        "            if start == len(s):\n",
        "                return [\"\"]\n",
        "\n",
        "            result = []\n",
        "            for end in range(start + 1, len(s) + 1):\n",
        "                word = s[start:end]\n",
        "\n",
        "                if word in wordSet:\n",
        "\n",
        "                    for sentence in backtrack(end):\n",
        "                        if sentence:\n",
        "                            result.append(word + \" \" + sentence)\n",
        "                        else:\n",
        "                            result.append(word)\n",
        "\n",
        "            memo[start] = result\n",
        "\n",
        "            return result\n",
        "\n",
        "        return backtrack(0)\n",
        "\n",
        "# sol = Solution()\n",
        "# sol.wordBreak(s = \"catsanddog\", wordDict = [\"cat\",\"cats\",\"and\",\"sand\",\"dog\"])"
      ],
      "metadata": {
        "id": "Ou0MMtJq9OC6"
      },
      "execution_count": null,
      "outputs": []
    },
    {
      "cell_type": "markdown",
      "source": [
        "### All Nodes Distance K in Binary Tree\n",
        "https://leetcode.com/problems/all-nodes-distance-k-in-binary-tree/description/?envType=problem-list-v2&envId=7p5x763"
      ],
      "metadata": {
        "id": "VulH_am5P4zP"
      }
    },
    {
      "cell_type": "markdown",
      "source": [
        "#### Solution (Backtracking)\n",
        ": finds nodes at distance `k` from a target node by recursively locating the target, then gathering nodes `k` levels below it. As it backtracks, it checks parent nodes to see if they're also `k` distance away, exploring opposite subtrees as needed to reach the exact distance. The result is all nodes found exactly `k` steps from the target."
      ],
      "metadata": {
        "id": "1saMYJYiP6oo"
      }
    },
    {
      "cell_type": "code",
      "source": [
        "from typing import List, Optional\n",
        "\n",
        "# Assuming TreeNode is defined as:\n",
        "# class TreeNode:\n",
        "#     def __init__(self, val=0, left=None, right=None):\n",
        "#         self.val = val\n",
        "#         self.left = left\n",
        "#         self.right = right\n",
        "\n",
        "class Solution:\n",
        "    def distanceK(self, root: TreeNode, target: TreeNode, k: int) -> List[int]:\n",
        "        result = []\n",
        "\n",
        "        def findNodesAtDistance(node: Optional[TreeNode], distance: int):\n",
        "\n",
        "            if node is None:\n",
        "                return\n",
        "\n",
        "            if distance == 0:\n",
        "                result.append(node.val)\n",
        "            else:\n",
        "                findNodesAtDistance(node.left, distance - 1)\n",
        "                findNodesAtDistance(node.right, distance - 1)\n",
        "\n",
        "        def dfs(node: Optional[TreeNode]) -> int:\n",
        "\n",
        "            if node is None:\n",
        "                return -1\n",
        "\n",
        "            if node == target:\n",
        "                findNodesAtDistance(node, k)\n",
        "                return 0  # Distance from target to itself\n",
        "\n",
        "            left_distance = dfs(node.left)\n",
        "            if left_distance != -1:\n",
        "                if left_distance + 1 == k:\n",
        "                    result.append(node.val)\n",
        "                else:\n",
        "                    findNodesAtDistance(node.right, k - left_distance - 2)\n",
        "\n",
        "                return left_distance + 1\n",
        "\n",
        "            right_distance = dfs(node.right)\n",
        "            if right_distance != -1:\n",
        "                if right_distance + 1 == k:\n",
        "                    result.append(node.val)\n",
        "                else:\n",
        "                    findNodesAtDistance(node.left, k - right_distance - 2)\n",
        "\n",
        "                return right_distance + 1\n",
        "\n",
        "            return -1\n",
        "\n",
        "        dfs(root)\n",
        "        return result\n",
        "\n",
        "# sol = Solution()\n",
        "# sol.distanceK(TreeNode(3, TreeNode(5, TreeNode(6), TreeNode(2, TreeNode(7), TreeNode(4))), TreeNode(1, TreeNode(0), TreeNode(8))), TreeNode(5, TreeNode(6), TreeNode(2, TreeNode(7), TreeNode(4))), 2)"
      ],
      "metadata": {
        "id": "ITYpZeXcP7ai"
      },
      "execution_count": null,
      "outputs": []
    },
    {
      "cell_type": "markdown",
      "source": [
        "### Rotting Oranges\n",
        "https://leetcode.com/problems/rotting-oranges/description/?envType=problem-list-v2&envId=7p5x763"
      ],
      "metadata": {
        "id": "0RV__ETDSdlr"
      }
    },
    {
      "cell_type": "markdown",
      "source": [
        "#### Solution (BFS)"
      ],
      "metadata": {
        "id": "BK5it7PhSjnU"
      }
    },
    {
      "cell_type": "code",
      "source": [
        "from collections import deque\n",
        "\n",
        "class Solution:\n",
        "    def orangesRotting(self, grid: List[List[int]]) -> int:\n",
        "        rows, cols = len(grid), len(grid[0])\n",
        "        queue = deque()\n",
        "        fresh_oranges = 0\n",
        "\n",
        "        for r in range(rows):\n",
        "            for c in range(cols):\n",
        "                if grid[r][c] == 2:\n",
        "                    queue.append((r, c, 0))  # (row, col, time)\n",
        "                elif grid[r][c] == 1:\n",
        "                    fresh_oranges += 1\n",
        "\n",
        "        if fresh_oranges == 0:\n",
        "            return 0\n",
        "\n",
        "        directions = [(1, 0), (0, 1), (-1, 0), (0, -1)]\n",
        "        minutes = 0\n",
        "\n",
        "        # BFS to rot adjacent fresh oranges\n",
        "        while queue:\n",
        "            r, c, minutes = queue.popleft()\n",
        "\n",
        "            for dr, dc in directions:\n",
        "\n",
        "                # new indices for row and column to the direction\n",
        "                nr, nc = r + dr, c + dc\n",
        "\n",
        "                # bounds\n",
        "                if (0 <= nr < rows) and (0 <= nc < cols) and grid[nr][nc] == 1:\n",
        "                    grid[nr][nc] = 2\n",
        "                    queue.append((nr, nc, minutes + 1))\n",
        "                    fresh_oranges -= 1\n",
        "\n",
        "        # If fresh oranges remain, return -1; otherwise, return time\n",
        "        return -1 if fresh_oranges > 0 else minutes\n",
        "\n",
        "# sol = Solution()\n",
        "# sol.orangesRotting([[2,1,1],[1,1,0],[0,1,1]])"
      ],
      "metadata": {
        "id": "DMoP1pCnSkdB"
      },
      "execution_count": null,
      "outputs": []
    },
    {
      "cell_type": "markdown",
      "source": [
        "### Integer to English Words\n",
        "https://leetcode.com/problems/integer-to-english-words/description/?envType=problem-list-v2&envId=7p5x763"
      ],
      "metadata": {
        "id": "cVdj2MhemjRv"
      }
    },
    {
      "cell_type": "markdown",
      "source": [
        "#### Solution (Divide-and-Conquer)\n",
        "- We divide the number into chunks of thousands (dividing the problem into manageable subproblems).\n",
        "- Each chunk is then independently processed (converted to words) and combined at the end."
      ],
      "metadata": {
        "id": "YSzZ3ZcBml3j"
      }
    },
    {
      "cell_type": "code",
      "source": [
        "class Solution:\n",
        "\n",
        "    d = {0: \"Zero\", 1: \"One\", 2: \"Two\", 3: \"Three\", 4: \"Four\", 5: \"Five\", 6: \"Six\", 7: \"Seven\", 8: \"Eight\", 9: \"Nine\",\n",
        "         10: \"Ten\", 11: \"Eleven\", 12: \"Twelve\", 13: \"Thirteen\", 14: \"Fourteen\", 15: \"Fifteen\", 16: \"Sixteen\", 17: \"Seventeen\", 18: \"Eighteen\", 19: \"Nineteen\",\n",
        "         20: \"Twenty\", 30: \"Thirty\", 40: \"Forty\", 50: \"Fifty\", 60: \"Sixty\", 70: \"Seventy\", 80: \"Eighty\", 90: \"Ninety\", 100: \"Hundred\",\n",
        "         1000: \"Thousand\", 1000000: \"Million\", 1000000000: \"Billion\" }\n",
        "\n",
        "    def convertChunk(self, num: int) -> str:\n",
        "\n",
        "        if num == 0:\n",
        "            return \"\"\n",
        "\n",
        "        if num < 20:\n",
        "            return self.d[num]\n",
        "\n",
        "        elif num < 100:\n",
        "            tens = self.d[(num // 10) * 10]\n",
        "            rest = self.convertChunk(num % 10)\n",
        "\n",
        "            return tens + (\" \" + rest if rest else \"\")\n",
        "\n",
        "        else:\n",
        "            hundres = self.d[num // 100] + \" Hundred\"\n",
        "            rest = self.convertChunk(num % 100)\n",
        "\n",
        "            return hundres + (\" \" + rest if rest else \"\")\n",
        "\n",
        "\n",
        "    def numberToWords(self, num: int) -> str:\n",
        "\n",
        "        if num == 0:\n",
        "            return self.d[0]\n",
        "\n",
        "        words = []\n",
        "\n",
        "        i, thousands_units = 0, [\"\", \"Thousand\", \"Million\", \"Billion\"]\n",
        "        while num > 0:\n",
        "            chunk = num % 1000\n",
        "\n",
        "            if chunk > 0:\n",
        "                words.append(self.convertChunk(chunk) + (\" \" + thousands_units[i] if thousands_units[i] else \"\"))\n",
        "\n",
        "            num = num // 1000\n",
        "            i += 1\n",
        "\n",
        "        return \" \".join(words[::-1]).strip()\n",
        "\n",
        "# sol = Solution()\n",
        "# sol.numberToWords(num = 1_234_567)"
      ],
      "metadata": {
        "colab": {
          "base_uri": "https://localhost:8080/",
          "height": 35
        },
        "id": "gWp3g4Jdle6Z",
        "outputId": "b7114fd5-c8cc-4fba-e638-1b70eb74a3bc"
      },
      "execution_count": null,
      "outputs": [
        {
          "output_type": "execute_result",
          "data": {
            "text/plain": [
              "'One Million Two Hundred Thirty Four Thousand Five Hundred Sixty Seven'"
            ],
            "application/vnd.google.colaboratory.intrinsic+json": {
              "type": "string"
            }
          },
          "metadata": {},
          "execution_count": 98
        }
      ]
    },
    {
      "cell_type": "markdown",
      "source": [
        "### LRU Cache\n",
        "https://leetcode.com/problems/lru-cache/description/?envType=problem-list-v2&envId=7p5x763"
      ],
      "metadata": {
        "id": "qEduD2WXt6IC"
      }
    },
    {
      "cell_type": "markdown",
      "source": [
        "#### Solution (OrderedDict)"
      ],
      "metadata": {
        "id": "rxhhQl5bt860"
      }
    },
    {
      "cell_type": "code",
      "source": [
        "from collections import OrderedDict\n",
        "\n",
        "class LRUCache:\n",
        "\n",
        "    def __init__(self, capacity: int):\n",
        "        self.cache = OrderedDict()  # maintains the order of insertion\n",
        "        self.capacity = capacity\n",
        "\n",
        "    def get(self, key: int) -> int:\n",
        "\n",
        "        if key not in self.cache:\n",
        "            return -1\n",
        "\n",
        "        # Move the accessed key to the end (most recently used)\n",
        "        self.cache.move_to_end(key)\n",
        "\n",
        "        return self.cache[key]\n",
        "\n",
        "    def put(self, key: int, value: int) -> None:\n",
        "\n",
        "        if key in self.cache:\n",
        "            # Update the key and move it to the end (most recently used)\n",
        "            self.cache.move_to_end(key)\n",
        "\n",
        "        self.cache[key] = value\n",
        "\n",
        "        if len(self.cache) > self.capacity:\n",
        "            self.cache.popitem(last=False)\n",
        "\n",
        "# Your LRUCache object will be instantiated and called as such:\n",
        "# obj = LRUCache(capacity)\n",
        "# param_1 = obj.get(key)\n",
        "# obj.put(key,value)"
      ],
      "metadata": {
        "id": "rGc8CHgct9za"
      },
      "execution_count": null,
      "outputs": []
    },
    {
      "cell_type": "markdown",
      "source": [
        "#### Solution (Doubly-Linked List)\n",
        "\n",
        "A doubly-linked list has two references in each node—one to the next node and one to the previous node. This bidirectional structure allows it to move back and forth in constant time. It also enables $O(1)$ complexity for certain operations, like deletion of a known node (if you have a reference to it), because you can directly adjust the pointers of the neighboring nodes without needing to traverse the list to find the previous node."
      ],
      "metadata": {
        "id": "cJc_LkeL85vb"
      }
    },
    {
      "cell_type": "code",
      "source": [
        "class Node:\n",
        "    def __init__(self, key: int, value: int):\n",
        "        self.key = key\n",
        "        self.value = value\n",
        "        self.prev = None\n",
        "        self.next = None\n",
        "\n",
        "class LRUCache:\n",
        "    def __init__(self, capacity: int):\n",
        "        self.capacity = capacity\n",
        "        self.cache = {}\n",
        "\n",
        "        # dummies\n",
        "        self.head = Node(0, 0)\n",
        "        self.tail = Node(0, 0)\n",
        "        self.head.next = self.tail\n",
        "        self.tail.prev = self.head\n",
        "\n",
        "    # Removes node from the linked list\n",
        "    def _remove(self, node: Node):\n",
        "\n",
        "        prev, nxt = node.prev, node.next\n",
        "        prev.next, nxt.prev = nxt, prev\n",
        "\n",
        "    # Adds node right after the head (most recently used)\n",
        "    def _add_to_head(self, node: Node):\n",
        "        node.next = self.head.next\n",
        "        self.head.next.prev = node\n",
        "\n",
        "        node.prev = self.head\n",
        "        self.head.next = node\n",
        "\n",
        "    def get(self, key: int) -> int:\n",
        "\n",
        "        if key not in self.cache:\n",
        "            return -1\n",
        "\n",
        "        # Move accessed node to the head (most recently used)\n",
        "        node = self.cache[key]\n",
        "        self._remove(node)\n",
        "        self._add_to_head(node)\n",
        "\n",
        "        return node.value\n",
        "\n",
        "    def put(self, key: int, value: int) -> None:\n",
        "\n",
        "        if key in self.cache:\n",
        "            # Update existing node and move it to the head\n",
        "            node = self.cache[key]\n",
        "            node.value = value\n",
        "\n",
        "            self._remove(node)\n",
        "            self._add_to_head(node)\n",
        "        else:\n",
        "            # Add new node\n",
        "            if len(self.cache) == self.capacity:\n",
        "                # Remove least recently used (node at the tail)\n",
        "                lru = self.tail.prev\n",
        "                self._remove(lru)\n",
        "                del self.cache[lru.key]\n",
        "\n",
        "            new_node = Node(key, value)\n",
        "\n",
        "            self.cache[key] = new_node\n",
        "            self._add_to_head(new_node)\n"
      ],
      "metadata": {
        "id": "jR9G7_jI9Ce4"
      },
      "execution_count": null,
      "outputs": []
    },
    {
      "cell_type": "markdown",
      "source": [
        "### Maximum Number of Robots Within Budget\n",
        "https://leetcode.com/problems/maximum-number-of-robots-within-budget/description/?envType=problem-list-v2&envId=7p5x763"
      ],
      "metadata": {
        "id": "zr0MziCQSBlb"
      }
    },
    {
      "cell_type": "markdown",
      "source": [
        "#### Solution (Sliding Window)"
      ],
      "metadata": {
        "id": "P9dUe9jGSGFx"
      }
    },
    {
      "cell_type": "code",
      "source": [
        "from collections import deque\n",
        "from typing import List\n",
        "\n",
        "class Solution:\n",
        "    def maximumRobots(self, chargeTimes: List[int], runningCosts: List[int], budget: int) -> int:\n",
        "\n",
        "        maxChargeDeque = deque()\n",
        "        n = len(chargeTimes)\n",
        "\n",
        "        maxLength, totalRunningCost, left = 0, 0, 0\n",
        "\n",
        "        for right in range(n):\n",
        "            totalRunningCost += runningCosts[right]\n",
        "\n",
        "            while maxChargeDeque and chargeTimes[maxChargeDeque[-1]] <= chargeTimes[right]:\n",
        "                maxChargeDeque.pop()\n",
        "            maxChargeDeque.append(right)\n",
        "\n",
        "            k = right - left + 1\n",
        "            currentCost = chargeTimes[maxChargeDeque[0]] + k * totalRunningCost\n",
        "\n",
        "            # shrink the size if the total cost exceeds the budget\n",
        "            while currentCost > budget:\n",
        "                totalRunningCost -= runningCosts[left]\n",
        "\n",
        "                if maxChargeDeque and maxChargeDeque[0] == left:\n",
        "                    maxChargeDeque.popleft()\n",
        "\n",
        "                left += 1\n",
        "\n",
        "                k = right - left + 1\n",
        "                if k > 0 and maxChargeDeque:\n",
        "                    currentCost = chargeTimes[maxChargeDeque[0]] + k * totalRunningCost\n",
        "                else:\n",
        "                    currentCost = 0\n",
        "\n",
        "            maxLength = max(maxLength, k)\n",
        "\n",
        "        return maxLength\n",
        "\n",
        "# sol = Solution()\n",
        "# sol.maximumRobots(chargeTimes = [3,6,1,3,4], runningCosts = [2,1,3,4,5], budget = 25)"
      ],
      "metadata": {
        "id": "cNFGltXRSp9y"
      },
      "execution_count": null,
      "outputs": []
    },
    {
      "cell_type": "markdown",
      "source": [
        "### Find Triangular Sum of an Array\n",
        "https://leetcode.com/problems/find-triangular-sum-of-an-array/description/?envType=problem-list-v2&envId=7p5x763"
      ],
      "metadata": {
        "id": "VB2JmJi2k54G"
      }
    },
    {
      "cell_type": "markdown",
      "source": [
        "#### Solution (List Manipulation)"
      ],
      "metadata": {
        "id": "RQISrAg5k9M1"
      }
    },
    {
      "cell_type": "code",
      "source": [
        "class Solution:\n",
        "    def triangularSum(self, nums: List[int]) -> int:\n",
        "\n",
        "        while len(nums) > 1:\n",
        "            nums = [(nums[i] + nums[i + 1]) % 10 for i in range(len(nums) - 1)]\n",
        "\n",
        "        return nums[0]"
      ],
      "metadata": {
        "id": "jn0UtgY8k-Cb"
      },
      "execution_count": null,
      "outputs": []
    },
    {
      "cell_type": "markdown",
      "source": [
        "#### Solution (Binomial Coefficients)\n",
        "\n",
        "In this problem, we use $nCr$ iteratively to calculate each layer's contribution to the final result, effectively treating each element's contribution as weighted by its position in Pascal's Triangle, where\n",
        " - $n$ is the total number of items or the set size.\n",
        " - $r$ is the position or the \"choose\" count.\n",
        "\n",
        "It updates the binomial coefficient for the next element using the formula $ nCr = nCr \\times {(n - r)\\over(r + 1)} $, which is a common way to compute binomial coefficients iteratively without recalculating from scratch.\n",
        "\n",
        "With an input of `[1, 2, 3, 4, 5]`, the coefficients for each layer are: $$ 1,4,6,4,1 $$\n",
        "\n",
        "Each of these represents how many times each element would contribute to the final single-element sum after all the iterative additions in the triangular reduction process."
      ],
      "metadata": {
        "id": "3sDGK8BGrGPx"
      }
    },
    {
      "cell_type": "code",
      "source": [
        "class Solution:\n",
        "    def triangularSum(self, nums: List[int]) -> int:\n",
        "        result = 0\n",
        "        nCr = 1\n",
        "        n = len(nums) - 1\n",
        "\n",
        "        for r, num in enumerate(nums):\n",
        "            result = (result + nCr * num) % 10\n",
        "            nCr = nCr * (n - r) // (r + 1)\n",
        "\n",
        "        return result"
      ],
      "metadata": {
        "id": "RBy9qjn4rLPa"
      },
      "execution_count": null,
      "outputs": []
    },
    {
      "cell_type": "markdown",
      "source": [
        "### Number of Ways to Select Buildings\n",
        "https://leetcode.com/problems/number-of-ways-to-select-buildings/description/?envType=problem-list-v2&envId=7p5x763"
      ],
      "metadata": {
        "id": "C07Q8Z62lcTv"
      }
    },
    {
      "cell_type": "markdown",
      "source": [
        "#### Solution (Dynamic Programming)\n",
        "\n",
        "We're using a **running total of possible pattern setups** rather than tracking each character’s future.\n",
        "\n",
        "1. **Counting as We Go**: Each time we encounter a '1' or '0', we immediately check how many patterns that character could complete based on prior sequences:\n",
        "   - When encountering a '1', we add `count10` to `result` to represent the number of \"010\" patterns that this '1' can complete. Here, `count10` keeps track of \"10\" pairs created so far.\n",
        "   - When encountering a '0', we add `count01` to `result` for the number of \"101\" patterns that this '0' can complete, with `count01` representing the \"01\" pairs seen up to this point.\n",
        "   \n",
        "2. **Pattern Validity**: By moving left-to-right, we can guarantee that:\n",
        "   - Each pattern we count was completed in the proper sequence without needing to revisit it.\n",
        "   - We’re not checking if there’s another '0' or '1' later, but assuming any completed \"01\" or \"10\" sequence is a valid setup for the next '1' or '0'."
      ],
      "metadata": {
        "id": "hSo13wovlgZ3"
      }
    },
    {
      "cell_type": "code",
      "source": [
        "class Solution:\n",
        "    def numberOfWays(self, s: str) -> int:\n",
        "\n",
        "        count0, count1 = 0, 0\n",
        "        count01, count10 = 0, 0\n",
        "\n",
        "        result = 0\n",
        "\n",
        "        # Traverse through each character\n",
        "        for char in s:\n",
        "            if char == '1':\n",
        "\n",
        "                # Every \"01\" can become \"010\" with this '1'\n",
        "                result += count10\n",
        "                # Increment \"10\" pairs because this '1' can pair with previous \"0\"\n",
        "                count01 += count0\n",
        "\n",
        "                count1 += 1\n",
        "            elif char == '0':\n",
        "\n",
        "                # Every \"10\" can become \"101\" with this '0'\n",
        "                result += count01\n",
        "                # Increment \"01\" pairs because this '0' can pair with previous \"1\"\n",
        "                count10 += count1\n",
        "\n",
        "                count0 += 1\n",
        "\n",
        "        return result"
      ],
      "metadata": {
        "id": "DAWfOE5-lhbe"
      },
      "execution_count": null,
      "outputs": []
    }
  ]
}