{
  "nbformat": 4,
  "nbformat_minor": 0,
  "metadata": {
    "colab": {
      "provenance": [],
      "collapsed_sections": [
        "sbAcFzjZ-Vdw",
        "AKZ1mOjr0_vm",
        "Mk_0wP1A1Cd0",
        "vHBByFjH4nN5",
        "4bgOSAUf_jUi",
        "yb1PlECt-bg9",
        "FJ4v0RMGRvUO",
        "8-FWoK4m-Zoa",
        "enlvor78Wa7v",
        "zPMEJdjV057f",
        "3SEtlsGB4OLS"
      ],
      "authorship_tag": "ABX9TyOglRbdQ5DjR0Cgkb6bZ4Nk",
      "include_colab_link": true
    },
    "kernelspec": {
      "name": "python3",
      "display_name": "Python 3"
    },
    "language_info": {
      "name": "python"
    }
  },
  "cells": [
    {
      "cell_type": "markdown",
      "metadata": {
        "id": "view-in-github",
        "colab_type": "text"
      },
      "source": [
        "<a href=\"https://colab.research.google.com/github/CynicDog/algorithm/blob/main/Algorithm.ipynb\" target=\"_parent\"><img src=\"https://colab.research.google.com/assets/colab-badge.svg\" alt=\"Open In Colab\"/></a>"
      ]
    },
    {
      "cell_type": "markdown",
      "source": [
        "# Dependencies"
      ],
      "metadata": {
        "id": "sbAcFzjZ-Vdw"
      }
    },
    {
      "cell_type": "code",
      "source": [
        "import timeit\n",
        "import random\n",
        "\n",
        "data = [random.randint(1, 1_000) for _ in range(1_000)]"
      ],
      "metadata": {
        "id": "7SRfTX_C-WrW"
      },
      "execution_count": 2,
      "outputs": []
    },
    {
      "cell_type": "markdown",
      "source": [
        "# Time complexities\n",
        "- 상수 시간 복잡도 - Constant Time Complexity - O(1)\n",
        "- 로그 시간 복잡도 - Logarithmic Time Complexity - O(log n)\n",
        "- 선형 시간 복잡도 - Linear Time Complexity - O(n)\n",
        "- 선형 로그 시간 복잡도 - Linear Logarithmic Time Complexity - O(n log n)\n",
        "- 이차 시간 복잡도 - Quadratic Time Complexity - O(n^2)\n",
        "- 지수 시간 복잡도 - Exponential Time Complexity - O(2^n)\n",
        "- 팩토리얼 시간 복잡도 - Factorial Time Complexity - O(n!)"
      ],
      "metadata": {
        "id": "6y8q8QjQ7NN1"
      }
    },
    {
      "cell_type": "markdown",
      "source": [
        "# Sorting algorithms"
      ],
      "metadata": {
        "id": "AKZ1mOjr0_vm"
      }
    },
    {
      "cell_type": "markdown",
      "source": [
        "## Bubble sort"
      ],
      "metadata": {
        "id": "Mk_0wP1A1Cd0"
      }
    },
    {
      "cell_type": "markdown",
      "source": [
        "* Explanation:\n",
        "\n",
        "    * Bubble Sort works by repeatedly stepping through the list, comparing adjacent elements, and swapping them if they are in the wrong order.\n",
        "    * It starts from the beginning of the list and compares adjacent pairs of elements. If the elements are out of order (i.e., the current element is greater than the next one), it swaps them.\n",
        "    * This process continues until no more swaps are needed, indicating that the list is sorted.\n",
        "\n",
        "* Time Complexity:\n",
        "    * In the worst-case scenario, when the input list is sorted in reverse order, Bubble Sort has a time complexity of O(n^2), where n is the number of elements in the array.\n",
        "    * In the best-case scenario, when the input list is already sorted, Bubble Sort has a time complexity of O(n) because it performs only one pass without any swaps.\n",
        "    * On average, Bubble Sort has a time complexity of O(n^2)."
      ],
      "metadata": {
        "id": "f3RMGTE29FRX"
      }
    },
    {
      "cell_type": "code",
      "source": [
        "def bubble(a):\n",
        "    for i in range(1, len(a)):\n",
        "        for j in range(0, len(a) - 1):\n",
        "            if a[j] > a[j + 1]:\n",
        "                a[j], a[j + 1] = a[j + 1], a[j]\n",
        "\n",
        "    return a\n",
        "\n",
        "bubble([1, 3, 2, 5, 4])"
      ],
      "metadata": {
        "colab": {
          "base_uri": "https://localhost:8080/"
        },
        "id": "FJ3OGfQC1E3M",
        "outputId": "b2887d93-7357-4cad-81cb-2da4a8b186a3"
      },
      "execution_count": null,
      "outputs": [
        {
          "output_type": "execute_result",
          "data": {
            "text/plain": [
              "[1, 2, 3, 4, 5]"
            ]
          },
          "metadata": {},
          "execution_count": 35
        }
      ]
    },
    {
      "cell_type": "markdown",
      "source": [
        "## Insertion sort"
      ],
      "metadata": {
        "id": "vHBByFjH4nN5"
      }
    },
    {
      "cell_type": "markdown",
      "source": [
        "- Explanation:\n",
        "It starts with the second element (index 1) and compares it to the elements before it, moving it to the correct position within the sorted part of the array.\n",
        "\n",
        "- Time Complexity:\n",
        "\n",
        "    * In the worst-case scenario, when the array is sorted in reverse order, it has a time complexity of O(n^2), where n is the number of elements in the array.\n",
        "    * In the best-case scenario, when the array is already sorted, it has a time complexity of O(n).\n",
        "    * On average, it has an expected time complexity of O(n^2).\n"
      ],
      "metadata": {
        "id": "9QwIP8Ax6brh"
      }
    },
    {
      "cell_type": "markdown",
      "source": [
        "### Solution"
      ],
      "metadata": {
        "id": "Yd4QA56G-eRy"
      }
    },
    {
      "cell_type": "code",
      "source": [
        "def insertion(a):\n",
        "\n",
        "    for i in range(1, len(a)):\n",
        "        key = a[i]\n",
        "        j = i - 1\n",
        "\n",
        "        while (j >= 0) and (a[j] > key):\n",
        "            a[j + 1] = a[j]\n",
        "            j -= 1\n",
        "\n",
        "        a[j + 1] = key\n",
        "\n",
        "    return a\n",
        "\n",
        "insertion([1, 3, 2, 5, 4])"
      ],
      "metadata": {
        "colab": {
          "base_uri": "https://localhost:8080/"
        },
        "id": "D6RoknPY4qiq",
        "outputId": "26150b1e-49d3-41f7-c689-5bcd73e2ab66"
      },
      "execution_count": null,
      "outputs": [
        {
          "output_type": "execute_result",
          "data": {
            "text/plain": [
              "[1, 2, 3, 4, 5]"
            ]
          },
          "metadata": {},
          "execution_count": 34
        }
      ]
    },
    {
      "cell_type": "markdown",
      "source": [
        "## Quick sort"
      ],
      "metadata": {
        "id": "4bgOSAUf_jUi"
      }
    },
    {
      "cell_type": "markdown",
      "source": [
        "* Explanation:\n",
        "\n",
        "    * Quick Sort is a popular sorting algorithm that follows the divide-and-conquer approach.\n",
        "    * The main function, quick(a, low, high), takes an array a, a lower index low, and an upper index high as parameters. These indices define the portion of the array that needs to be sorted.\n",
        "    * Inside the quick function, there's a nested partition function responsible for selecting a pivot element and partitioning the array into two subarrays: elements less than the pivot and elements greater than the pivot.\n",
        "    * The pivot is typically chosen as the last element in the current subarray (a[high]), and the partition function rearranges the elements such that all elements less than the pivot are on the left side, and all elements greater than the pivot are on the right side.\n",
        "    * After partitioning, the function recursively calls itself on the two subarrays, one with elements less than the pivot (quick(a, low, pivot - 1)) and the other with elements greater than the pivot (quick(a, pivot + 1, high)).\n",
        "    * The process continues until the subarrays become smaller and eventually sorted, and the entire array becomes sorted.\n",
        "\n",
        "* Time Complexity:\n",
        "\n",
        "    * On average and in the best-case scenario, Quick Sort has an expected time complexity of O(n log n), making it one of the most efficient sorting algorithms for general use.\n",
        "    * In the worst-case scenario, Quick Sort can have a time complexity of O(n^2), but this is relatively rare and can be mitigated through good pivot selection strategies, such as choosing the median-of-three.\n",
        "    * Quick Sort is often preferred for sorting large datasets due to its average-case efficiency and relatively low overhead compared to some other sorting algorithms like Merge Sort."
      ],
      "metadata": {
        "id": "lpIwhewLC5KV"
      }
    },
    {
      "cell_type": "markdown",
      "source": [
        "### Solution"
      ],
      "metadata": {
        "id": "yb1PlECt-bg9"
      }
    },
    {
      "cell_type": "code",
      "source": [
        "def quick(a, low, high):\n",
        "\n",
        "    def partition(low, high):\n",
        "        pivot = a[high]\n",
        "\n",
        "        left = low\n",
        "        for right in range(low, high):\n",
        "            if a[right] < pivot:\n",
        "                a[left], a[right] = a[right], a[left]\n",
        "                left += 1\n",
        "\n",
        "        a[left], a[high] = a[high], a[left]\n",
        "\n",
        "        return left\n",
        "\n",
        "    if low < high:\n",
        "        pivot = partition(low, high)\n",
        "        quick(a, low, pivot - 1)\n",
        "        quick(a, pivot + 1, high)\n",
        "\n",
        "    return a\n",
        "\n",
        "a = [1, 3, 2, 4, 6, 5]\n",
        "quick(a, 0, len(a) - 1)"
      ],
      "metadata": {
        "colab": {
          "base_uri": "https://localhost:8080/"
        },
        "id": "d_6ECNgv_rpV",
        "outputId": "bf0060ef-b994-48ef-d42e-d7f9e53e2df2"
      },
      "execution_count": null,
      "outputs": [
        {
          "output_type": "execute_result",
          "data": {
            "text/plain": [
              "[1, 2, 3, 4, 5, 6]"
            ]
          },
          "metadata": {},
          "execution_count": 33
        }
      ]
    },
    {
      "cell_type": "markdown",
      "source": [
        "## Merge sort"
      ],
      "metadata": {
        "id": "FJ4v0RMGRvUO"
      }
    },
    {
      "cell_type": "markdown",
      "source": [
        "* Explanation\n",
        "\n",
        "    * Merge Sort is a widely used sorting algorithm that follows the divide-and-conquer approach to sorting an array:\n",
        "\n",
        "    * Divide: The input array is divided into two halves recursively until each subarray contains one or zero elements (which are inherently sorted).\n",
        "\n",
        "    * Conquer: Pairs of subarrays are merged together in a sorted manner. This merging process continues until we have a single sorted array.\n",
        "\n",
        "* Time Complexity\n",
        "    * Merge Sort has a consistent and predictable time complexity of O(n log n) in all cases, including the worst-case, average-case, and best-case scenarios."
      ],
      "metadata": {
        "id": "mVN2yqFDTRTA"
      }
    },
    {
      "cell_type": "markdown",
      "source": [
        "### Solution"
      ],
      "metadata": {
        "id": "8-FWoK4m-Zoa"
      }
    },
    {
      "cell_type": "code",
      "source": [
        "def conquer(first, second):\n",
        "    result = []\n",
        "    idx1, idx2 = 0, 0\n",
        "    len1, len2 = len(first), len(second)\n",
        "\n",
        "    while (idx1 < len1) and (idx2 < len2):\n",
        "        if first[idx1] < second[idx2]:\n",
        "            result.append(first[idx1])\n",
        "            idx1 += 1\n",
        "        else:\n",
        "            result.append(second[idx2])\n",
        "            idx2 += 1\n",
        "\n",
        "    while idx1 < len1:\n",
        "        result.append(first[idx1])\n",
        "        idx1 += 1\n",
        "\n",
        "    while idx2 < len2:\n",
        "        result.append(second[idx2])\n",
        "        idx2 += 1\n",
        "\n",
        "    return result\n",
        "\n",
        "def divide(a):\n",
        "\n",
        "    if len(a) <= 1:\n",
        "        return a\n",
        "\n",
        "    mid = len(a) // 2\n",
        "    first = a[:mid]\n",
        "    second = a[mid:]\n",
        "\n",
        "    first = divide(first)\n",
        "    second = divide(second)\n",
        "\n",
        "    return conquer(first, second)\n",
        "\n",
        "a = [2, 5, 7, 1, 9, 3, 8, 11, 4, 10]\n",
        "divide(a)"
      ],
      "metadata": {
        "colab": {
          "base_uri": "https://localhost:8080/"
        },
        "id": "s9Qfog-LSy92",
        "outputId": "4a789d63-6b85-4e1d-def6-d1460a2ec655"
      },
      "execution_count": 3,
      "outputs": [
        {
          "output_type": "execute_result",
          "data": {
            "text/plain": [
              "[1, 2, 3, 4, 5, 7, 8, 9, 10, 11]"
            ]
          },
          "metadata": {},
          "execution_count": 3
        }
      ]
    },
    {
      "cell_type": "markdown",
      "source": [
        "## Tim sort"
      ],
      "metadata": {
        "id": "enlvor78Wa7v"
      }
    },
    {
      "cell_type": "markdown",
      "source": [
        "* Explanation\n",
        "\n",
        "    * Tim Sort is a hybrid sorting algorithm derived from Merge Sort and Insertion Sort.\n",
        "    * It first divides the input array into small chunks (called \"runs\") and individually sorts these runs using Insertion Sort.\n",
        "    * Then, it repeatedly merges these sorted runs, taking advantage of Merge Sort's efficient merging strategy.\n",
        "    * Tim Sort is designed to perform well on many types of real-world data, including partially sorted data and data with runs or patterns.\n",
        "\n",
        "* Time Complexity\n",
        "\n",
        "    * Best Case: O(n)\n",
        "    * Average Case: O(n log n)\n",
        "    * Worst Case: O(n log n)"
      ],
      "metadata": {
        "id": "3k8_JPsC8FEp"
      }
    },
    {
      "cell_type": "markdown",
      "source": [
        "### Solution"
      ],
      "metadata": {
        "id": "29Bn2Bhh-Cmu"
      }
    },
    {
      "cell_type": "code",
      "source": [
        "class Solution:\n",
        "\n",
        "    minRun: int = 32;\n",
        "\n",
        "    def __init__(self, minRun):\n",
        "        self.minRun = minRun;\n",
        "\n",
        "    def insertion(self, A, start, end):\n",
        "\n",
        "        for i in range(start + 1, end + 1):\n",
        "            key = A[i]\n",
        "            j = i - 1\n",
        "\n",
        "            while j >= start and A[j] > key:\n",
        "                A[j + 1] = A[j]\n",
        "                j -= 1\n",
        "\n",
        "            A[j + 1] = key\n",
        "\n",
        "        return A\n",
        "\n",
        "    def merge(self, A, start, mid, end):\n",
        "\n",
        "        first, last = A[start : mid + 1], A[mid + 1 : end + 1]\n",
        "        len1, len2 = len(first), len(last)\n",
        "\n",
        "        idx1, idx2 = 0, 0\n",
        "        idx = start\n",
        "\n",
        "        while idx1 < len1 and idx2 < len2:\n",
        "            if first[idx1] < last[idx2]:\n",
        "                A[idx] = first[idx1]\n",
        "                idx1 += 1\n",
        "            else:\n",
        "                A[idx] = last[idx2]\n",
        "                idx2 += 1\n",
        "\n",
        "            idx += 1\n",
        "\n",
        "        while idx1 < len1:\n",
        "            A[idx] = first[idx1]\n",
        "            idx1 += 1\n",
        "            idx += 1\n",
        "\n",
        "        while idx2 < len2:\n",
        "            A[idx] = last[idx2]\n",
        "            idx2 += 1\n",
        "            idx += 1\n",
        "\n",
        "        return A\n",
        "\n",
        "    def timSort(self, A):\n",
        "\n",
        "        n = len(A)\n",
        "\n",
        "        for start in range(0, n, self.minRun):\n",
        "\n",
        "            end = min(n - 1, start + self.minRun - 1)\n",
        "            A = self.insertion(A, start, end)\n",
        "\n",
        "        cur_size = self.minRun\n",
        "\n",
        "        while cur_size < n:\n",
        "\n",
        "            for start in range(0, n, cur_size * 2):\n",
        "                mid = min(n - 1, start + cur_size - 1)\n",
        "                end = min(n - 1, mid + cur_size)\n",
        "\n",
        "\n",
        "                A = self.merge(A, start, mid, end)\n",
        "\n",
        "            cur_size *= 2\n",
        "\n",
        "        return A"
      ],
      "metadata": {
        "id": "pQ9N0EARWdbZ"
      },
      "execution_count": 14,
      "outputs": []
    },
    {
      "cell_type": "markdown",
      "source": [
        "### Benchmark"
      ],
      "metadata": {
        "id": "yUTElorx-GIx"
      }
    },
    {
      "cell_type": "code",
      "source": [
        "run_sizes = [8, 32, 128, 512, 4096, 16384]\n",
        "\n",
        "for run_size in run_sizes:\n",
        "    solution = Solution(run_size)\n",
        "\n",
        "    def run_timSort():\n",
        "        return solution.timSort(data)\n",
        "\n",
        "    execution_time = timeit.timeit(run_timSort, number = 1000)\n",
        "    print(f\"Run Size {run_size} - Execution Time: {execution_time} seconds\")"
      ],
      "metadata": {
        "colab": {
          "base_uri": "https://localhost:8080/"
        },
        "id": "wbo8z9xP9ce3",
        "outputId": "7c55a842-c801-4f59-80cf-1dde00ef31a9"
      },
      "execution_count": 13,
      "outputs": [
        {
          "output_type": "stream",
          "name": "stdout",
          "text": [
            "Run Size 8 - Execution Time: 0.9493175999996311 seconds\n",
            "Run Size 32 - Execution Time: 0.6510790540014568 seconds\n",
            "Run Size 128 - Execution Time: 0.43770793299700017 seconds\n",
            "Run Size 512 - Execution Time: 0.20911728200007929 seconds\n",
            "Run Size 4096 - Execution Time: 0.12507283900049515 seconds\n",
            "Run Size 16384 - Execution Time: 0.11072638100085896 seconds\n"
          ]
        }
      ]
    },
    {
      "cell_type": "markdown",
      "source": [
        "# Leetcode Easy"
      ],
      "metadata": {
        "id": "zPMEJdjV057f"
      }
    },
    {
      "cell_type": "code",
      "source": [],
      "metadata": {
        "id": "IcC41voB2Kgd"
      },
      "execution_count": null,
      "outputs": []
    },
    {
      "cell_type": "markdown",
      "source": [
        "# Leetcode Medium"
      ],
      "metadata": {
        "id": "3SEtlsGB4OLS"
      }
    },
    {
      "cell_type": "code",
      "source": [],
      "metadata": {
        "id": "MuC3eV8t4OLi"
      },
      "execution_count": 16,
      "outputs": []
    }
  ]
}